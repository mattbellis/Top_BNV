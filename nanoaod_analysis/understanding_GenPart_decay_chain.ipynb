{
 "cells": [
  {
   "cell_type": "code",
   "execution_count": null,
   "id": "dac0662c",
   "metadata": {},
   "outputs": [],
   "source": [
    "import sys\n",
    "print(f\"python: {sys.version}\\n\")\n",
    "\n",
    "import importlib\n",
    "\n",
    "import numpy as np\n",
    "print(f\"numpy:   {np.__version__}\")\n",
    "\n",
    "import matplotlib.pylab as plt\n",
    "import uproot\n",
    "print(f\"uproot:  {uproot.__version__}\")\n",
    "\n",
    "import awkward as ak\n",
    "print(f\"awkward: {ak.__version__}\")\n",
    "\n",
    "\n",
    "import vector\n",
    "\n",
    "vector.register_awkward()\n",
    "print(f\"vector:  {vector.__version__}\")\n",
    "\n",
    "\n",
    "\n",
    "import coffea\n",
    "print(f\"coffea:  {coffea.__version__}\")\n",
    "\n",
    "\n",
    "from coffea.nanoevents import NanoEventsFactory, NanoAODSchema\n",
    "\n",
    "import itertools\n",
    "from itertools import combinations\n",
    "\n",
    "import time\n"
   ]
  },
  {
   "cell_type": "code",
   "execution_count": null,
   "id": "f0258fbf",
   "metadata": {},
   "outputs": [],
   "source": [
    "infilename = 'NAOD-00000_190.root'\n",
    "\n",
    "start = time.time()\n",
    "events = NanoEventsFactory.from_root({infilename: \"Events\"}, schemaclass=NanoAODSchema).events()\n",
    "print(f\"Time to read in: {time.time() - start}\")\n",
    "\n",
    "\n",
    "#events = NanoEventsFactory.from_root(infilename, schemaclass=NanoAODSchema, treepath=\"Events\").events()\n"
   ]
  },
  {
   "cell_type": "code",
   "execution_count": null,
   "id": "aa6d24db",
   "metadata": {},
   "outputs": [],
   "source": [
    "genpart = events.GenPart\n",
    "genpart['idx'] = ak.local_index(genpart, axis=1)\n",
    "\n",
    "\n",
    "for i in genpart[0].fields:\n",
    "    print(i)"
   ]
  },
  {
   "cell_type": "code",
   "execution_count": null,
   "id": "4825fbce",
   "metadata": {},
   "outputs": [],
   "source": [
    "imax = 10\n",
    "\n",
    "for i,gp in enumerate(genpart):\n",
    "    \n",
    "    if i > imax:\n",
    "        break\n",
    "        \n",
    "    print(gp.fields)\n",
    "    \n",
    "    \n",
    "    "
   ]
  },
  {
   "cell_type": "code",
   "execution_count": null,
   "id": "b5718dd0",
   "metadata": {
    "scrolled": false
   },
   "outputs": [],
   "source": [
    "def print_genpart_chain(gp_event, verbose=False):\n",
    "    \n",
    "    #gp_event = gp_event[(gp_event.status==23) | (gp_event.status==1)]\n",
    "    \n",
    "    output = f\"{'ID':2s} {'pdgId':5s}  {'pt':6s} {'eta':5s} {'phi':5s} \"\n",
    "    #output += f\"{'child pdgID':16s} \" \n",
    "    output += f\"{'status':6s} \" \n",
    "    output += f\"{'isPrompt':8s} \" \n",
    "    output += f\"{'isFirstCopy':11s} \" \n",
    "    output += f\"{'isLastCopy':10s} \" \n",
    "    output += f\"{'parent pdgId':10s} \" \n",
    "    output += f\"{'parent pt':10s} \" \n",
    "\n",
    "    print(output)\n",
    "    \n",
    "    for gp in gp_event:\n",
    "        \n",
    "        # Skip the initial state\n",
    "        if gp.status==21:\n",
    "            continue\n",
    "            \n",
    "        output = f\"{gp.idx:2d} {gp.pdgId:5d}  {gp.pt:6.2f} {gp.eta:5.2f} {gp.phi:5.2f} \"\n",
    "                \n",
    "        output += f\"{gp.status:6d} \"\n",
    "\n",
    "        output += f\"{str(gp.hasFlags(['isPrompt'])):8s} \"\n",
    "        \n",
    "        output += f\"{str(gp.hasFlags(['isFirstCopy'])):11s} \"\n",
    "\n",
    "        output += f\"{str(gp.hasFlags(['isLastCopy'])):10s} \"\n",
    "    \n",
    "        a = gp.distinctParent.pdgId[0]\n",
    "        if a is None:\n",
    "            a = 0\n",
    "        output += f\"{a:10d} \"\n",
    "\n",
    "        a = gp.distinctParent.pt[0]\n",
    "        if a is None:\n",
    "            a = 0\n",
    "        output += f\"{a:10.2f} \"\n",
    "\n",
    "        output += f\"{gp.distinctChildren.pdgId} \"\n",
    "\n",
    "        print(output)\n",
    "        \n",
    "        if verbose:\n",
    "            output = \"\"\n",
    "            for flag in FLAGS:\n",
    "                output += f\"\\t{flag:36s}  {gp.hasFlags(flag)}\\n\"\n",
    "            print(output)\n",
    "\n",
    "\n",
    "\n",
    "#print(genpart[0].statusFlags)\n",
    "# n=1 is leptonic\n",
    "# \n",
    "print_genpart_chain(genpart[1], verbose=False)"
   ]
  },
  {
   "cell_type": "code",
   "execution_count": null,
   "id": "8108f4b2",
   "metadata": {},
   "outputs": [],
   "source": [
    "#genpart[0].hasFlags('isPrompt')\n",
    "genpart[1][4].genPartIdxMother"
   ]
  },
  {
   "cell_type": "code",
   "execution_count": null,
   "id": "840f6c9e",
   "metadata": {},
   "outputs": [],
   "source": [
    "genpart[0][0].hasFlags"
   ]
  },
  {
   "cell_type": "code",
   "execution_count": null,
   "id": "7cb86f42",
   "metadata": {},
   "outputs": [],
   "source": [
    "genpart[0][0].statusFlags"
   ]
  },
  {
   "cell_type": "code",
   "execution_count": null,
   "id": "5e519fef",
   "metadata": {},
   "outputs": [],
   "source": [
    "genpart[0][0].hasFlags"
   ]
  },
  {
   "cell_type": "code",
   "execution_count": null,
   "id": "d07f4e27",
   "metadata": {},
   "outputs": [],
   "source": [
    "genpart[0][4].hasFlags(['isPrompt'])"
   ]
  },
  {
   "cell_type": "code",
   "execution_count": null,
   "id": "807732df",
   "metadata": {},
   "outputs": [],
   "source": [
    "# https://coffeateam.github.io/coffea/api/coffea.nanoevents.methods.nanoaod.GenParticle.html\n",
    "FLAGS= ['isPrompt', 'isDecayedLeptonHadron', 'isTauDecayProduct', 'isPromptTauDecayProduct', 'isDirectTauDecayProduct', 'isDirectPromptTauDecayProduct', 'isDirectHadronDecayProduct', 'isHardProcess', 'fromHardProcess', 'isHardProcessTauDecayProduct', 'isDirectHardProcessTauDecayProduct', 'fromHardProcessBeforeFSR', 'isFirstCopy', 'isLastCopy', 'isLastCopyBeforeFSR']\n",
    "\n",
    "for flag in FLAGS:\n",
    "    print(f\"{flag:36s}  {genpart[0][2].hasFlags(flag)}\")\n",
    "    \n"
   ]
  },
  {
   "cell_type": "code",
   "execution_count": null,
   "id": "4931870a",
   "metadata": {},
   "outputs": [],
   "source": [
    "genpart[0][4].statusFlags"
   ]
  },
  {
   "cell_type": "code",
   "execution_count": null,
   "id": "cb3bd113",
   "metadata": {},
   "outputs": [],
   "source": [
    "genpart[0][4].hasFlags(['isPrompt'])\n",
    "genpart[0][4].isPrompt"
   ]
  },
  {
   "cell_type": "code",
   "execution_count": null,
   "id": "1d492ea2",
   "metadata": {},
   "outputs": [],
   "source": [
    "x = genpart[0][4]\n",
    "\n",
    "x.isFirstCopy"
   ]
  },
  {
   "cell_type": "code",
   "execution_count": null,
   "id": "28cfd98f",
   "metadata": {},
   "outputs": [],
   "source": []
  }
 ],
 "metadata": {
  "kernelspec": {
   "display_name": "Python 3 (ipykernel)",
   "language": "python",
   "name": "python3"
  },
  "language_info": {
   "codemirror_mode": {
    "name": "ipython",
    "version": 3
   },
   "file_extension": ".py",
   "mimetype": "text/x-python",
   "name": "python",
   "nbconvert_exporter": "python",
   "pygments_lexer": "ipython3",
   "version": "3.10.6"
  }
 },
 "nbformat": 4,
 "nbformat_minor": 5
}
