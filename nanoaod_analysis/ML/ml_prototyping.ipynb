{
 "cells": [
  {
   "cell_type": "code",
   "execution_count": null,
   "id": "6f9a6518",
   "metadata": {},
   "outputs": [],
   "source": [
    "import sys\n",
    "\n",
    "import tensorflow as tf # not set up for gpu yet (I don't think)\n",
    "import numpy as np\n",
    "import pandas as pd\n",
    "\n",
    "import sklearn_tools as sktools\n",
    "\n",
    "from pandas import read_csv\n",
    "from sklearn.model_selection import train_test_split\n",
    "from sklearn.preprocessing import LabelEncoder\n",
    "from tensorflow.keras import Sequential\n",
    "from tensorflow.keras.layers import Dense\n",
    "from tensorflow.keras.utils import plot_model\n",
    "\n",
    "import selection_criteria as selcri\n",
    "\n",
    "import awkward as ak\n",
    "\n",
    "from tensorflow import keras\n",
    "\n",
    "import hepfile\n",
    "\n",
    "import importlib\n",
    "\n",
    "import matplotlib.pylab as plt"
   ]
  },
  {
   "cell_type": "code",
   "execution_count": null,
   "id": "ef5475d4",
   "metadata": {},
   "outputs": [],
   "source": [
    "infilename1 = '../ML_VARS_MATCHED_SORTED_NAOD-00000_190.h5'\n",
    "infilename2 = '../ML_VARS_TTbarPowheg_Semilept_2017_SMALL_10k.h5'"
   ]
  },
  {
   "cell_type": "code",
   "execution_count": null,
   "id": "72fa0f3a",
   "metadata": {},
   "outputs": [],
   "source": [
    "importlib.reload(sktools)\n",
    "importlib.reload(selcri)\n",
    "\n",
    "df1,df2 = sktools.read_in_files_and_return_dataframe([infilename1,infilename2])\n",
    "\n",
    "df1 = sktools.format(df1, columns_to_drop=None, className='signal')\n",
    "df2 = sktools.format(df1, columns_to_drop=None, className='background')\n",
    "\n",
    "dRcut = 0.1 \n",
    "\n",
    "mask = selcri.selection_dRcut(df1, dRcut=0.1)\n",
    "df1 = df1[mask]\n",
    "\n",
    "mask = selcri.selection_dRcut(df2, dRcut=0.1)\n",
    "df1 = df2[mask]\n"
   ]
  },
  {
   "cell_type": "code",
   "execution_count": null,
   "id": "abf13569",
   "metadata": {
    "scrolled": false
   },
   "outputs": [],
   "source": [
    "importlib.reload(sktools)\n",
    "\n",
    "figs1,axes1 = sktools.plot_corr_matrix(df1,figsize=(20,20))\n",
    "figs2,axes2 = sktools.plot_corr_matrix(df2,figsize=(20,20))"
   ]
  },
  {
   "cell_type": "code",
   "execution_count": null,
   "id": "7d5fca18",
   "metadata": {},
   "outputs": [],
   "source": [
    "for a in df1.columns:\n",
    "    if a[0:3] == 'bnv':\n",
    "        print(a)"
   ]
  },
  {
   "cell_type": "code",
   "execution_count": null,
   "id": "7e658ffe",
   "metadata": {},
   "outputs": [],
   "source": []
  },
  {
   "cell_type": "code",
   "execution_count": null,
   "id": "4da69dda",
   "metadata": {},
   "outputs": [],
   "source": [
    "x = df1['had_dTheta3_12_CMtop'].values\n",
    "y = df1['had_dTheta12_CMtop'].values\n",
    "\n",
    "plt.plot(x,y,'.',markersize=1,alpha=0.1)\n",
    "\n",
    "plt.figure()\n",
    "plt.hist(y,bins=100);"
   ]
  },
  {
   "cell_type": "code",
   "execution_count": null,
   "id": "6535bfdf",
   "metadata": {},
   "outputs": [],
   "source": [
    "x = df1['had_dTheta12_CMtop'].values\n",
    "#x = df1['had_dTheta3_12_CMtop'].values\n",
    "\n",
    "print(len(x))\n",
    "print(min(x))\n",
    "\n",
    "plt.hist(x,bins=100);\n"
   ]
  },
  {
   "cell_type": "code",
   "execution_count": null,
   "id": "cc5cc84f",
   "metadata": {},
   "outputs": [],
   "source": [
    "dRcut = 0.0 \n",
    "\n",
    "mask = (df1['had_dTheta12_CMtop'] > dRcut) & \\\n",
    "       (df1['had_dTheta23_CMtop'] > dRcut) & \\\n",
    "       (df1['had_dTheta13_CMtop'] > dRcut) & \\\n",
    "       (df1['had_dTheta1_23_CMtop'] > dRcut) & \\\n",
    "       (df1['had_dTheta3_12_CMtop'] > dRcut) & \\\n",
    "       (df1['bnv_dTheta12_CMtop'] > dRcut) & \\\n",
    "       (df1['bnv_dTheta23_CMtop'] > dRcut) & \\\n",
    "       (df1['bnv_dTheta13_CMtop'] > dRcut) & \\\n",
    "       (df1['bnv_dTheta1_23_CMtop'] > dRcut) & \\\n",
    "       (df1['bnv_dTheta3_12_CMtop'] > dRcut)\n",
    "\n",
    "dftmp = df1[mask]\n",
    "#? df1.drop"
   ]
  },
  {
   "cell_type": "markdown",
   "id": "6b52befa",
   "metadata": {},
   "source": [
    "# Playing with model after training"
   ]
  },
  {
   "cell_type": "code",
   "execution_count": null,
   "id": "89c0040b",
   "metadata": {},
   "outputs": [],
   "source": []
  },
  {
   "cell_type": "code",
   "execution_count": null,
   "id": "7e4b03c2",
   "metadata": {},
   "outputs": [],
   "source": [
    "#modelfilename = 'models/KERAS_TRAINING_ML_VARS_MATCHED_SORTED_NAOD-00000_190_ML_VARS_TTbarPowheg_Hadronic_2017_SMALL_10k.h5'\n",
    "#modelfilename = 'models/KERAS_TRAINING_PROCESSED_SingleElectron_2018_MATCHED_SORTED_NAOD-00000_190_PROCESSED_SingleElectron_2018_TTToSemiLeptonic_UL_2018_SMALL_100k.h5'\n",
    "modelfilename = 'models/KERAS_TRAINING_ML_VARS_MATCHED_SORTED_NAOD-00000_190_ML_VARS_TTbarPowheg_Semilept_2017_SMALL_10k.h5'\n",
    "\n",
    "model = keras.models.load_model(modelfilename)"
   ]
  },
  {
   "cell_type": "code",
   "execution_count": null,
   "id": "5c8a1188",
   "metadata": {},
   "outputs": [],
   "source": [
    "#model.feature_importances_"
   ]
  },
  {
   "cell_type": "code",
   "execution_count": null,
   "id": "b6cf220f",
   "metadata": {},
   "outputs": [],
   "source": [
    "model"
   ]
  },
  {
   "cell_type": "code",
   "execution_count": null,
   "id": "89ab8270",
   "metadata": {},
   "outputs": [],
   "source": [
    "model.count_params()"
   ]
  },
  {
   "cell_type": "code",
   "execution_count": null,
   "id": "60a98c7b",
   "metadata": {},
   "outputs": [],
   "source": [
    "importlib.reload(sktools)\n",
    "\n",
    "#infilename = '../ML_VARS_TTbarPowheg_Semilept_2017_SMALL_10k.h5'\n",
    "#infilename = '../ML_VARS_MATCHED_SORTED_NAOD-00000_190.h5'\n",
    "infilename = '../PROCESSED_SingleElectron_2018_TTToSemiLeptonic_UL_2018_SMALL_100k.h5'\n",
    "\n",
    "infilenames = [infilename,infilename]\n",
    "\n",
    "df,df = sktools.read_in_files_and_return_dataframe(infilenames)\n",
    "\n",
    "dRcut = 0.1 \n",
    "\n",
    "mask = selcri.selection_dRcut(df, dRcut=0.1)\n",
    "df = df[mask]\n",
    "\n",
    "# Get rid of nans\n",
    "dropped_na_idx = df.isna()\n",
    "df.dropna(0,inplace=True)\n",
    "\n",
    "# Will need these later\n",
    "event_idx = df['event_idx']\n",
    "event_counts = df['event_idx'].value_counts(sort=False).values\n",
    "\n",
    "print(\"Size of files!\")\n",
    "print(len(df),infilenames[0])\n",
    "\n",
    "toberemoved = []\n",
    "toberemoved.append('bnv_dR12_lab')\n",
    "toberemoved.append('bnv_dR13_lab')\n",
    "toberemoved.append('bnv_dR1_23_lab')\n",
    "toberemoved.append('bnv_dR23_lab')\n",
    "toberemoved.append('bnv_dR3_12_lab')\n",
    "toberemoved.append('bnv_dTheta12_CMtop')\n",
    "toberemoved.append('bnv_dTheta13_CMtop')\n",
    "toberemoved.append('bnv_dTheta1_23_CMtop')\n",
    "toberemoved.append('bnv_dTheta23_CMtop')\n",
    "toberemoved.append('bnv_dTheta3_12_CMtop')\n",
    "toberemoved.append('bnv_j12_m')\n",
    "toberemoved.append('bnv_j13_m')\n",
    "toberemoved.append('bnv_j1_btag')\n",
    "toberemoved.append('bnv_j1_mag_CMtop')\n",
    "toberemoved.append('bnv_j1_mag_lab')\n",
    "toberemoved.append('bnv_j1_pt_CMtop')\n",
    "toberemoved.append('bnv_j1_pt_lab')\n",
    "toberemoved.append('bnv_j23_m')\n",
    "toberemoved.append('bnv_j2_btag')\n",
    "toberemoved.append('bnv_j2_mag_CMtop')\n",
    "toberemoved.append('bnv_j2_mag_lab')\n",
    "toberemoved.append('bnv_j2_pt_CMtop')\n",
    "toberemoved.append('bnv_j2_pt_lab')\n",
    "toberemoved.append('bnv_j3_mag_CMtop')\n",
    "toberemoved.append('bnv_j3_mag_lab')\n",
    "toberemoved.append('bnv_j3_pt_CMtop')\n",
    "toberemoved.append('bnv_j3_pt_lab')\n",
    "toberemoved.append('bnv_lep_q')\n",
    "\n",
    "toberemoved.append('event_idx')\n",
    "\n",
    "#toberemoved.append('bnv_top_m')\n",
    "#toberemoved.append('bnv_top_mag')\n",
    "#toberemoved.append('bnv_top_pt')\n",
    "\n",
    "df = sktools.format(df, columns_to_drop=toberemoved, className='signal')\n",
    "\n",
    "# split into input and output columns\n",
    "y = df.pop('Class') # all class values become 'y'\n",
    "X = df\n",
    "\n",
    "print(\"Lenth of X and y!\")\n",
    "print(len(X))\n",
    "print(len(y))\n",
    "\n",
    "# ensure all data are floating point values\n",
    "X = X.astype('float32')\n",
    "# encode strings to integer\n",
    "y = LabelEncoder().fit_transform(y)\n",
    "# split into train and test datasets\n",
    "X_train, X_test, y_train, y_test = train_test_split(X, y, test_size=0.33)\n",
    "\n",
    "#.shape returns the dimensions of the dataset. So (48778, 18) means 48778 rows and 18 columns\n",
    "print(X_train.shape, X_test.shape, y_train.shape, y_test.shape) \n"
   ]
  },
  {
   "cell_type": "code",
   "execution_count": null,
   "id": "e4877020",
   "metadata": {},
   "outputs": [],
   "source": [
    "#df['event_idx'].value_counts(sort=False).values"
   ]
  },
  {
   "cell_type": "code",
   "execution_count": null,
   "id": "cd35bf74",
   "metadata": {},
   "outputs": [],
   "source": [
    "dropped_na_idx"
   ]
  },
  {
   "cell_type": "code",
   "execution_count": null,
   "id": "c5afded2",
   "metadata": {},
   "outputs": [],
   "source": []
  },
  {
   "cell_type": "code",
   "execution_count": null,
   "id": "289134fc",
   "metadata": {},
   "outputs": [],
   "source": [
    "df.keys()"
   ]
  },
  {
   "cell_type": "code",
   "execution_count": null,
   "id": "830f46cc",
   "metadata": {},
   "outputs": [],
   "source": []
  },
  {
   "cell_type": "code",
   "execution_count": null,
   "id": "2cbd7f41",
   "metadata": {},
   "outputs": [],
   "source": []
  },
  {
   "cell_type": "code",
   "execution_count": null,
   "id": "704400ea",
   "metadata": {},
   "outputs": [],
   "source": [
    "model.summary()"
   ]
  },
  {
   "cell_type": "code",
   "execution_count": null,
   "id": "bce986f8",
   "metadata": {},
   "outputs": [],
   "source": [
    "X"
   ]
  },
  {
   "cell_type": "code",
   "execution_count": null,
   "id": "006f171c",
   "metadata": {},
   "outputs": [],
   "source": [
    "print(len(X))"
   ]
  },
  {
   "cell_type": "code",
   "execution_count": null,
   "id": "1be1996a",
   "metadata": {},
   "outputs": [],
   "source": [
    "predictions = model.predict(X)"
   ]
  },
  {
   "cell_type": "code",
   "execution_count": null,
   "id": "f16cbff4",
   "metadata": {},
   "outputs": [],
   "source": [
    "print(len(predictions))\n",
    "print(len(event_idx))"
   ]
  },
  {
   "cell_type": "code",
   "execution_count": null,
   "id": "d8029683",
   "metadata": {},
   "outputs": [],
   "source": [
    "print(len(predictions.transpose()[0]))\n",
    "print(len(event_counts))\n",
    "\n",
    "print(np.sum(event_counts))\n",
    "\n",
    "print(event_counts[0:10])"
   ]
  },
  {
   "cell_type": "code",
   "execution_count": null,
   "id": "2d31d4af",
   "metadata": {},
   "outputs": [],
   "source": [
    "type(predictions.transpose()[0])"
   ]
  },
  {
   "cell_type": "code",
   "execution_count": null,
   "id": "b58679ff",
   "metadata": {},
   "outputs": [],
   "source": [
    "a = ak.unflatten(np.array([1,2,3,4,5]), np.array([3,2]))\n",
    "a"
   ]
  },
  {
   "cell_type": "code",
   "execution_count": null,
   "id": "c7016a84",
   "metadata": {},
   "outputs": [],
   "source": [
    "ak_pred = ak.unflatten(predictions.transpose()[0],event_counts)\n",
    "\n",
    "ak_pred"
   ]
  },
  {
   "cell_type": "code",
   "execution_count": null,
   "id": "0fcc75a2",
   "metadata": {},
   "outputs": [],
   "source": [
    "len(event_counts)"
   ]
  },
  {
   "cell_type": "code",
   "execution_count": null,
   "id": "efd4059f",
   "metadata": {},
   "outputs": [],
   "source": [
    "max_idx = ak.argmax(ak_pred, axis=1)\n",
    "print(len(max_idx))\n",
    "max_idx"
   ]
  },
  {
   "cell_type": "code",
   "execution_count": null,
   "id": "f2d76de0",
   "metadata": {},
   "outputs": [],
   "source": [
    "max(ak_pred[0])"
   ]
  },
  {
   "cell_type": "code",
   "execution_count": null,
   "id": "08f7378e",
   "metadata": {},
   "outputs": [],
   "source": [
    "#print(ak_pred[1][2])"
   ]
  },
  {
   "cell_type": "code",
   "execution_count": null,
   "id": "84068f28",
   "metadata": {},
   "outputs": [],
   "source": [
    "#ak_pred[(np.array([0,1]),np.array([1,2]))]"
   ]
  },
  {
   "cell_type": "code",
   "execution_count": null,
   "id": "054a2be1",
   "metadata": {},
   "outputs": [],
   "source": [
    "len(max_idx.to_numpy())"
   ]
  },
  {
   "cell_type": "code",
   "execution_count": null,
   "id": "91310063",
   "metadata": {},
   "outputs": [],
   "source": [
    "array_idx = np.arange(0,len(max_idx),dtype=int)\n",
    "print(array_idx)\n",
    "print(len(array_idx), len(max_idx))\n",
    "\n",
    "print(type(array_idx))\n",
    "#print(type(max_idx.array()))\n",
    "\n",
    "\n",
    "max_pred = ak_pred[(array_idx,max_idx.to_numpy())]\n",
    "max_pred\n"
   ]
  },
  {
   "cell_type": "code",
   "execution_count": null,
   "id": "2af9ba3c",
   "metadata": {},
   "outputs": [],
   "source": [
    "print(ak_pred[0])\n",
    "print(max_pred[0])\n",
    "#print(len(max_pred[0]))\n",
    "print(ak_pred[1243])"
   ]
  },
  {
   "cell_type": "code",
   "execution_count": null,
   "id": "2b0feac7",
   "metadata": {},
   "outputs": [],
   "source": [
    "print(len(predictions))\n",
    "print(len(max_pred))"
   ]
  },
  {
   "cell_type": "code",
   "execution_count": null,
   "id": "f080a4d8",
   "metadata": {},
   "outputs": [],
   "source": [
    "plt.hist(predictions[predictions>0.01],bins=100,density=True,alpha=0.5);\n",
    "plt.hist(max_pred[max_pred>0.01],bins=100,density=True,alpha=0.5);\n",
    "\n",
    "plt.ylim(0,5)\n"
   ]
  },
  {
   "cell_type": "code",
   "execution_count": null,
   "id": "f607e9db",
   "metadata": {},
   "outputs": [],
   "source": [
    "plt.hist(predictions[predictions>0.01],bins=100,density=True,alpha=0.5);\n",
    "plt.hist(max_pred[max_pred>0.01],bins=100,density=True,alpha=0.5);\n",
    "\n",
    "plt.ylim(0,5)\n"
   ]
  },
  {
   "cell_type": "code",
   "execution_count": null,
   "id": "6ef182b4",
   "metadata": {},
   "outputs": [],
   "source": [
    "plt.hist(predictions[predictions>0.01],bins=100);\n",
    "plt.ylim(0,1000)\n"
   ]
  },
  {
   "cell_type": "code",
   "execution_count": null,
   "id": "e7ae85fb",
   "metadata": {},
   "outputs": [],
   "source": [
    "# Use this sorting to get the index of the minimun value\n",
    "\n",
    "x = ak.Array([[7.7, 5.5, 7.7], [], [2.2], [8.8, 2.2]])\n",
    "\n",
    "ak.argmin(x, axis=1)"
   ]
  },
  {
   "cell_type": "code",
   "execution_count": null,
   "id": "756ac720",
   "metadata": {},
   "outputs": [],
   "source": []
  },
  {
   "cell_type": "code",
   "execution_count": null,
   "id": "c9466af6",
   "metadata": {
    "scrolled": true
   },
   "outputs": [],
   "source": [
    "#infilename = '../ML_VARS_TTbarPowheg_Semilept_2017_SMALL_10k.h5'\n",
    "infilename = '../PROCESSED_SingleElectron_2018_TTToSemiLeptonic_UL_2018_SMALL_100k.h5'\n",
    "infilename2 = '../ML_VARS_MATCHED_SORTED_NAOD-00000_190.h5'\n",
    "\n",
    "data_bkg,event_bkg = hepfile.load(infilename)\n",
    "arrays_bkg = hepfile.unpack_awkward_arrays(data_bkg,groups=['ml'])\n",
    "\n",
    "data_sig,event_bkg = hepfile.load(infilename2)\n",
    "arrays_sig = hepfile.unpack_awkward_arrays(data_sig,groups=['ml'])"
   ]
  },
  {
   "cell_type": "code",
   "execution_count": null,
   "id": "05ca5592",
   "metadata": {},
   "outputs": [],
   "source": [
    "print(len(data_bkg['metpt']))\n",
    "print(len(data_sig['metpt']))"
   ]
  },
  {
   "cell_type": "code",
   "execution_count": null,
   "id": "9236c433",
   "metadata": {},
   "outputs": [],
   "source": [
    "plt.hist(data_sig['metpt'],bins=100,density=True,alpha=0.5,range=(0,200));\n",
    "plt.hist(data_bkg['metpt'],bins=100,density=True,alpha=0.5,range=(0,200));\n"
   ]
  },
  {
   "cell_type": "code",
   "execution_count": null,
   "id": "d5aebb0b",
   "metadata": {},
   "outputs": [],
   "source": [
    "print(event_counts[0])\n",
    "\n",
    "print(data_bkg['\n"
   ]
  },
  {
   "cell_type": "code",
   "execution_count": null,
   "id": "4743d52f",
   "metadata": {},
   "outputs": [],
   "source": []
  },
  {
   "cell_type": "code",
   "execution_count": null,
   "id": "0774777f",
   "metadata": {},
   "outputs": [],
   "source": [
    "x = arrays['ml']['bnv_dR12_lab']\n",
    "\n",
    "x"
   ]
  },
  {
   "cell_type": "code",
   "execution_count": null,
   "id": "c89cee68",
   "metadata": {},
   "outputs": [],
   "source": [
    "len(ak.flatten(x))"
   ]
  },
  {
   "cell_type": "code",
   "execution_count": null,
   "id": "84b19abd",
   "metadata": {},
   "outputs": [],
   "source": [
    "len(data_in['ml/bnv_top_m'])"
   ]
  },
  {
   "cell_type": "code",
   "execution_count": null,
   "id": "c12ad817",
   "metadata": {},
   "outputs": [],
   "source": [
    "len(predictions)"
   ]
  },
  {
   "cell_type": "code",
   "execution_count": null,
   "id": "6ad69b94",
   "metadata": {},
   "outputs": [],
   "source": [
    "dftmp = pd.DataFrame()\n",
    "\n",
    "dftmp['a'] = np.array([0,0,0,1,1,1,1,1,2])"
   ]
  },
  {
   "cell_type": "code",
   "execution_count": null,
   "id": "0aced47d",
   "metadata": {},
   "outputs": [],
   "source": [
    "dftmp.value_counts().values"
   ]
  },
  {
   "cell_type": "code",
   "execution_count": null,
   "id": "bab86bba",
   "metadata": {},
   "outputs": [],
   "source": [
    "data_in['ml/nml']"
   ]
  },
  {
   "cell_type": "code",
   "execution_count": null,
   "id": "ec7f6611",
   "metadata": {},
   "outputs": [],
   "source": [
    "idx = []\n",
    "for i,a in enumerate(data_in['ml/nml']):\n",
    "    idx += (i*np.ones(a,dtype=int)).tolist()\n",
    "    \n",
    "#print(idx)"
   ]
  },
  {
   "cell_type": "code",
   "execution_count": null,
   "id": "0d2f72c3",
   "metadata": {},
   "outputs": [],
   "source": [
    "len(idx)"
   ]
  },
  {
   "cell_type": "markdown",
   "id": "6ad42567",
   "metadata": {},
   "source": [
    "# Feature importance"
   ]
  },
  {
   "cell_type": "code",
   "execution_count": null,
   "id": "2ac96277",
   "metadata": {},
   "outputs": [],
   "source": [
    "\n",
    "import shap"
   ]
  },
  {
   "cell_type": "code",
   "execution_count": null,
   "id": "2bc22d37",
   "metadata": {
    "scrolled": false
   },
   "outputs": [],
   "source": [
    "importlib.reload(sktools)\n",
    "\n",
    "df0,df1 = sktools.read_in_files_and_return_dataframe([infilename1,infilename2])\n",
    "\n",
    "toberemoved = []\n",
    "\n",
    "df0 = sktools.format(df0, toberemoved, 'signal')\n",
    "df1 = sktools.format(df1, toberemoved, 'background')\n",
    "#df = mergeDataframes([df0[0:100000], df1[0:100000]])\n",
    "#df = mergeDataframes([df0[0:50000], df1[0:50000]])\n",
    "#df = mergeDataframes([df0[100000:200000], df1[100000:200000]])\n",
    "df = sktools.mergeDataframes([df0, df1])\n",
    "\n",
    "print(\"Merged and dropped columns!\")\n",
    "print(df.columns)\n",
    "print()\n",
    "#exit()\n",
    "\n",
    "\n",
    "y = df.pop('Class')\n",
    "X = df\n",
    "\n",
    "#X = df.to_numpy()\n",
    "\n",
    "# ensure all data are floating point values\n",
    "X = X.astype('float32')\n",
    "# encode strings to integer\n",
    "y = LabelEncoder().fit_transform(y)\n",
    "# split into train and test datasets\n",
    "X_train, X_test, y_train, y_test = train_test_split(X, y, test_size=0.001)\n",
    "\n",
    "#background = X[np.random.choice(X.shape[0],100, replace=False)]\n",
    "\n",
    "print(X_train.shape)\n",
    "print(X_test.shape)\n",
    "\n",
    "\n",
    "X_test = X_test.to_numpy()\n",
    "\n",
    "#explainer = shap.DeepExplainer(model, background)\n",
    "explainer = shap.DeepExplainer(model, X_test)\n",
    "\n",
    "shap_values = explainer.shap_values(X_test)\n",
    "\n",
    "\n",
    "# visualize the first prediction's explanation\n",
    "#shap.plots.waterfall(shap_values[0])"
   ]
  },
  {
   "cell_type": "code",
   "execution_count": null,
   "id": "643224cc",
   "metadata": {},
   "outputs": [],
   "source": [
    "#? shap.plots.waterfall"
   ]
  },
  {
   "cell_type": "code",
   "execution_count": null,
   "id": "4ce3ff93",
   "metadata": {},
   "outputs": [],
   "source": [
    "shap.plots.waterfall(explainer)"
   ]
  },
  {
   "cell_type": "code",
   "execution_count": null,
   "id": "07f07e25",
   "metadata": {},
   "outputs": [],
   "source": [
    "shap.summary_plot(shap_values, X_train, plot_type=\"bar\")\n"
   ]
  },
  {
   "cell_type": "code",
   "execution_count": null,
   "id": "0f404798",
   "metadata": {},
   "outputs": [],
   "source": []
  }
 ],
 "metadata": {
  "kernelspec": {
   "display_name": "Python 3 (ipykernel)",
   "language": "python",
   "name": "python3"
  },
  "language_info": {
   "codemirror_mode": {
    "name": "ipython",
    "version": 3
   },
   "file_extension": ".py",
   "mimetype": "text/x-python",
   "name": "python",
   "nbconvert_exporter": "python",
   "pygments_lexer": "ipython3",
   "version": "3.9.12"
  }
 },
 "nbformat": 4,
 "nbformat_minor": 5
}
