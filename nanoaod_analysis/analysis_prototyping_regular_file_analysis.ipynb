{
 "cells": [
  {
   "cell_type": "code",
   "execution_count": null,
   "id": "1fe676fe",
   "metadata": {},
   "outputs": [],
   "source": [
    "import importlib\n",
    "\n",
    "import numpy as np\n",
    "import matplotlib.pylab as plt\n",
    "import uproot\n",
    "import awkward as ak\n",
    "\n",
    "import vector\n",
    "\n",
    "import sys\n",
    "\n",
    "vector.register_awkward()\n",
    "\n",
    "import coffea\n",
    "\n",
    "from coffea.nanoevents import NanoEventsFactory, NanoAODSchema\n",
    "\n",
    "import itertools\n",
    "from itertools import combinations\n",
    "\n",
    "import nanoaod_analysis_tools as nat\n",
    "\n",
    "import time\n",
    "\n",
    "import hepfile\n",
    "\n",
    "#%load_ext autoreload"
   ]
  },
  {
   "cell_type": "code",
   "execution_count": null,
   "id": "4dcb4712",
   "metadata": {},
   "outputs": [],
   "source": [
    "importlib.reload(nat)"
   ]
  },
  {
   "cell_type": "code",
   "execution_count": null,
   "id": "b1b2b5ba",
   "metadata": {},
   "outputs": [],
   "source": [
    "print(f\"python: {sys.version}\\n\")\n",
    "\n",
    "print(f\"numpy:   {np.__version__}\")\n",
    "print(f\"uproot:  {uproot.__version__}\")\n",
    "print(f\"awkward: {ak.__version__}\")\n",
    "print(f\"vector:  {vector.__version__}\")\n",
    "print()\n",
    "\n",
    "print(f\"coffea:  {coffea.__version__}\")\n"
   ]
  },
  {
   "cell_type": "code",
   "execution_count": null,
   "id": "247d2617",
   "metadata": {},
   "outputs": [],
   "source": [
    "start = time.time()\n",
    "\n",
    "data_dir = '/home/bellis/top_data/NANOAOD/'\n",
    "\n",
    "# Laptop\n",
    "#infilename = 'small_skims_10k/TT_TToBCE_TuneCP5_BNV_2018_SMALL_10k.root'\n",
    "#infilename = 'TTToHadronic_UL_2018_SMALL_100k.root'\n",
    "\n",
    "# Beth Harmon\n",
    "#infilename = 'small_skims_1k/TTbarPowheg_Hadronic_2017_SMALL_1k.root'\n",
    "infilename = 'TTToSemiLeptonic_UL_2018.root' # Also desktop home computer\n",
    "#infilename = 'Reza_signal/nAOD_step_BNV_TT_TSUE/NAOD-00000_190.root' # Also desktop home computer, laptop\n",
    "\n",
    "# Desktop home computer\n",
    "#infilename = 'small_skims_1k/TTbarPowheg_Hadronic_2017_SMALL_1k.root'\n",
    "\n",
    "infile = uproot.open(data_dir + infilename)\n",
    "\n",
    "nevents = infile[\"Events\"].num_entries\n",
    "\n",
    "print(f\"# events: {nevents}\")\n",
    "\n",
    "print(f\"Reading in {infilename}\") \n",
    "dataset_type, mc_type, trigger, topology, year = nat.extract_dataset_type_and_trigger_from_filename(infilename) \n",
    "print(f\"input file information:  dataset type: {dataset_type}   MC type: {mc_type}  trigger: {trigger}  topology: {topology}\")\n",
    "\n",
    "#print(\"Reading in events...\")\n",
    "#events = NanoEventsFactory.from_root(data_dir + infilename, schemaclass=NanoAODSchema).events()\n",
    "\n",
    "print(f\"\\nTime to process {time.time() - start:0.3f} seconds\")"
   ]
  },
  {
   "cell_type": "code",
   "execution_count": null,
   "id": "437f0561",
   "metadata": {},
   "outputs": [],
   "source": [
    "start = time.time()\n",
    "\n",
    "#-------------------------------#\n",
    "njet = infile[\"Events\"][\"nJet\"].array()#[0:1000]\n",
    "nmuon = infile[\"Events\"][\"nMuon\"].array()#[0:1000]\n",
    "\n",
    "nlep = nmuon\n",
    "\n",
    "min_njets = 5\n",
    "max_njets = 8\n",
    "\n",
    "min_nleps = 1\n",
    "max_nleps = 3\n",
    "\n",
    "mask_njets = (njet>=min_njets) & (njet<=max_njets) & (nlep>=min_nleps) & (nlep<=max_nleps)\n",
    "#-------------------------------#\n",
    "\n",
    "muon_branch_arrays = infile[\"Events\"].arrays(filter_name=\"Muon_*\")#[0:1000]\n",
    "jet_branch_arrays = infile[\"Events\"].arrays(filter_name=\"Jet_*\")#[0:1000]\n",
    "\n",
    "muons = ak.zip({\n",
    "    \"pt\": muon_branch_arrays[mask_njets][\"Muon_pt\"],\n",
    "    \"phi\": muon_branch_arrays[mask_njets][\"Muon_phi\"],\n",
    "    \"eta\": muon_branch_arrays[mask_njets][\"Muon_eta\"],\n",
    "    \"mass\": muon_branch_arrays[mask_njets][\"Muon_mass\"],\n",
    "    \"charge\": muon_branch_arrays[mask_njets][\"Muon_charge\"],\n",
    "}, with_name=\"Momentum4D\")\n",
    "\n",
    "jets = ak.zip({\n",
    "    \"pt\": jet_branch_arrays[mask_njets][\"Jet_pt\"],\n",
    "    \"phi\": jet_branch_arrays[mask_njets][\"Jet_phi\"],\n",
    "    \"eta\": jet_branch_arrays[mask_njets][\"Jet_eta\"],\n",
    "    \"mass\": jet_branch_arrays[mask_njets][\"Jet_mass\"],\n",
    "    \"btagDeepB\": jet_branch_arrays[mask_njets][\"Jet_btagDeepB\"],\n",
    "}, with_name=\"Momentum4D\")\n",
    "\n",
    "njet_masked = infile[\"Events\"][\"nJet\"].array()[mask_njets]#[0:1000]\n",
    "nmuon_masked = infile[\"Events\"][\"nMuon\"].array()[mask_njets]#[0:1000]\n",
    "\n",
    "print(f\"njet  masked: {njet_masked}\")\n",
    "print(f\"nmuon masked: {nmuon_masked}\")\n",
    "\n",
    "nmasked = len(njet_masked)\n",
    "print(f\"nmasked: {nmasked}\")\n",
    "\n",
    "print(f\"\\nTime to process {time.time() - start:0.3f} seconds\")"
   ]
  },
  {
   "cell_type": "code",
   "execution_count": null,
   "id": "e40d5afd",
   "metadata": {},
   "outputs": [],
   "source": [
    "all_indices = nat.generate_all_event_topology_indices(maxnjets=max_njets,maxnleps=max_nleps,verbose=False)\n"
   ]
  },
  {
   "cell_type": "code",
   "execution_count": null,
   "id": "e560a403",
   "metadata": {},
   "outputs": [],
   "source": [
    "print(all_indices[5][2])\n",
    "print(type(all_indices[5][2]))\n",
    "print(type(all_indices[5][2][0]))"
   ]
  },
  {
   "cell_type": "code",
   "execution_count": null,
   "id": "5c5909e3",
   "metadata": {},
   "outputs": [],
   "source": [
    "# Generate the combinations\n",
    "\n",
    "start = time.time()\n",
    "prev = start\n",
    "\n",
    "combos = []\n",
    "event_indices = []\n",
    "ncombos_per_event = []\n",
    "\n",
    "icount = 0\n",
    "for i,(nj,nm) in enumerate(zip(njet_masked,nmuon_masked)):\n",
    "    \n",
    "    count_step = 10000\n",
    "    if i%10000==0:\n",
    "        output_statement = f\"processed {i} of {nmasked}      {time.time() - start:0.2f} s\"\n",
    "        nleft = nmasked - i\n",
    "        ntime_left = (time.time() - prev) * (nleft/count_step)\n",
    "        output_statement += f\"   time left: {ntime_left:0.2f} s\"\n",
    "        print(output_statement)\n",
    "        #print(nleft, ntime_left, nleft/count_step, time.time() - prev)\n",
    "\n",
    "        prev = time.time()\n",
    "    \n",
    "    #combo = nat.generate_event_topology_indices(njets=nj,nleps=nm)\n",
    "    combo = all_indices[nj][nm]\n",
    "\n",
    "    #print(combo)\n",
    "    \n",
    "    if combo[0] is None:\n",
    "        continue\n",
    "    \n",
    "    for c in combo:\n",
    "        #combos.append(np.array(c)) # Only need this if c is a list\n",
    "        combos.append(c)\n",
    "    event_indices += (i*np.ones(len(combo),dtype=int)).tolist()\n",
    "    icount += 1\n",
    "    \n",
    "    ncombos_per_event.append(len(combo))\n",
    "\n",
    "combos = np.array(combos)\n",
    "ncombos_per_event = np.array(ncombos_per_event)\n",
    "\n",
    "print(combos.shape)\n",
    "\n",
    "print(f\"\\nTime to process {time.time() - start:0.3f} seconds\")\n",
    "\n",
    "# 173000 events produced 64M entries"
   ]
  },
  {
   "cell_type": "code",
   "execution_count": null,
   "id": "db74470b",
   "metadata": {},
   "outputs": [],
   "source": [
    "start = time.time()\n",
    "\n",
    "jet1 = jets[(event_indices,combos.transpose()[0])]\n",
    "jet2 = jets[(event_indices,combos.transpose()[1])]\n",
    "jet3 = jets[(event_indices,combos.transpose()[2])]\n",
    "jet4 = jets[(event_indices,combos.transpose()[3])]\n",
    "jet5 = jets[(event_indices,combos.transpose()[4])]\n",
    "\n",
    "muon = muons[(event_indices,combos.transpose()[5])]\n",
    "\n",
    "print(f\"\\nTime to process {time.time() - start:0.3f} seconds\")"
   ]
  },
  {
   "cell_type": "code",
   "execution_count": null,
   "id": "ab613e22",
   "metadata": {},
   "outputs": [],
   "source": [
    "start = time.time()\n",
    "\n",
    "results_reco = nat.event_hypothesis([jet1, jet2, jet3, jet4, jet5], muon)\n",
    "\n",
    "print(f\"\\nTime to process {time.time() - start:0.3f} seconds\")"
   ]
  },
  {
   "cell_type": "code",
   "execution_count": null,
   "id": "82a35a52",
   "metadata": {},
   "outputs": [],
   "source": [
    "start = time.time()\n",
    "\n",
    "plt.figure(figsize=(16,28))\n",
    "\n",
    "for values in [results_reco]:\n",
    "    \n",
    "    #plt.figure(figsize=(16,12))\n",
    "\n",
    "    for i,key in enumerate(values.keys()):\n",
    "        #x = ak.flatten(values[i]).to_numpy()   \n",
    "        #print(type(values[i]))\n",
    "        x = values[key]\n",
    "        if type(x) == ak.highlevel.Array:\n",
    "            x = values[key].to_numpy()\n",
    "        #print(type(x))\n",
    "\n",
    "        #print(len(x),x)\n",
    "        #print(len(x[x==x]))\n",
    "        #print(key)\n",
    "        x[x==-np.inf] = -999\n",
    "        x[x==np.inf] = -999\n",
    "        plt.subplot(16,4,i+1)\n",
    "        if key.find('_m')>=0:\n",
    "            plt.hist(x[x==x],bins=100,range=(0,350), density=True, alpha=0.5)\n",
    "        elif key.find('_dR')>=0:\n",
    "            plt.hist(x[x==x],bins=100,range=(0,6), density=True, alpha=0.5)\n",
    "        elif key.find('_dTheta')>=0:\n",
    "            plt.hist(x[x==x],bins=100,range=(0, 6.3), density=True, alpha=0.5)\n",
    "        elif key.find('_pt')>=0:\n",
    "            plt.hist(x[x==x],bins=100,range=(0, 200), density=True, alpha=0.5)\n",
    "\n",
    "        #else:\n",
    "        #    plt.hist(x[x==x],bins=100, density=True, alpha=0.5)\n",
    "        else:\n",
    "            plt.hist(x[x==x],bins=100, density=True, alpha=0.5)\n",
    "\n",
    "        plt.title(key)\n",
    "\n",
    "plt.tight_layout()\n",
    "#plt.figure()\n",
    "#plt.hist(np.cos(angle),bins=100);\n",
    "\n",
    "print(f\"\\nTime to process {time.time() - start:0.3f} seconds\")"
   ]
  },
  {
   "cell_type": "code",
   "execution_count": null,
   "id": "6c94c221",
   "metadata": {},
   "outputs": [],
   "source": [
    "len(results_reco.keys())"
   ]
  },
  {
   "cell_type": "code",
   "execution_count": null,
   "id": "22971de1",
   "metadata": {},
   "outputs": [],
   "source": [
    "x = results_reco['had_top_m']\n",
    "\n",
    "print(len(x))\n",
    "print(type(x))\n",
    "\n",
    "\n",
    "#n = ak.num(x)\n",
    "#print(n)"
   ]
  },
  {
   "cell_type": "code",
   "execution_count": null,
   "id": "77dab1c2",
   "metadata": {},
   "outputs": [],
   "source": [
    "#ncombos_per_event"
   ]
  },
  {
   "cell_type": "code",
   "execution_count": null,
   "id": "738cd9cd",
   "metadata": {},
   "outputs": [],
   "source": [
    "njet_masked"
   ]
  },
  {
   "cell_type": "code",
   "execution_count": null,
   "id": "8f5777ea",
   "metadata": {},
   "outputs": [],
   "source": [
    "len(ncombos_per_event)"
   ]
  },
  {
   "cell_type": "code",
   "execution_count": null,
   "id": "f7bfd5fa",
   "metadata": {},
   "outputs": [],
   "source": [
    "data = hepfile.initialize()\n",
    "\n",
    "hepfile.create_group(data,'ml', counter='nml')\n",
    "datasets = list(results_reco.keys())    \n",
    "hepfile.create_dataset(data,datasets, group='ml', dtype=float)\n"
   ]
  },
  {
   "cell_type": "code",
   "execution_count": null,
   "id": "9d718b1b",
   "metadata": {},
   "outputs": [],
   "source": [
    "def pack_awkward_arrays(data,events):\n",
    "    for key in data['_GROUPS_'].keys():\n",
    "        #print(key)\n",
    "\n",
    "        for dataset in data['_GROUPS_'][key]:\n",
    "            #print(\"\\t\" + dataset)\n",
    "            if dataset=='COUNTER':\n",
    "                continue\n",
    "\n",
    "            if key == '_SINGLETONS_GROUP_':\n",
    "                x = events[dataset].array().to_numpy()\n",
    "                if x == 'triggerIsoMu24':\n",
    "                    x = x.astype(int)\n",
    "                #print(key,dataset,type(x), type(x[0]))\n",
    "                data[dataset] = x\n",
    "                data['_SINGLETONS_GROUP_/COUNTER'] = np.ones(len(x),dtype=int)\n",
    "            elif dataset[0] == 'N':\n",
    "                newkey = f\"{key}/{dataset}\"\n",
    "                data[key] = events[dataset].array().to_numpy()            \n",
    "            else:\n",
    "                newkey = f\"{key}_{dataset}\"\n",
    "                hepfile_newkey = f\"{key}/{dataset}\"\n",
    "                #print(newkey,hepfile_newkey)\n",
    "                data[hepfile_newkey] = ak.flatten(events[newkey].array()).to_numpy()\n",
    "\n",
    "                counter_key = data['_MAP_DATASETS_TO_COUNTERS_'][hepfile_newkey]\n",
    "                N = ak.num(events[newkey].array()).to_numpy()\n",
    "                #print(len(N))\n",
    "                data[counter_key] = N "
   ]
  },
  {
   "cell_type": "code",
   "execution_count": null,
   "id": "66b8b6df",
   "metadata": {},
   "outputs": [],
   "source": [
    "for key in datasets:\n",
    "    #print(key,key[3:])\n",
    "    if type(results_reco[key]) == ak.Array:\n",
    "        data['ml/' + key] = results_reco[key].to_numpy()\n",
    "    elif type(results_reco[key]) == np.ndarray:\n",
    "        data['ml/' + key] = results_reco[key]\n",
    "\n",
    "        #print(results_reco[key])\n",
    "data['ml/nml'] = ncombos_per_event\n",
    "data['_SINGLETONS_GROUP_/COUNTER'] = np.ones(len(ncombos_per_event),dtype=int)\n",
    "\n"
   ]
  },
  {
   "cell_type": "code",
   "execution_count": null,
   "id": "222ae5db",
   "metadata": {},
   "outputs": [],
   "source": [
    "results_reco['had_top_pt'].to_numpy()"
   ]
  },
  {
   "cell_type": "code",
   "execution_count": null,
   "id": "5185e4b7",
   "metadata": {},
   "outputs": [],
   "source": [
    "#outfilename = infilename.split('.root')[0] + '.h5'\n",
    "outfilename = 'test.h5'\n",
    "print(f\"Writing to {outfilename}\")\n",
    "hepfile.write_to_file(outfilename, data, comp_type='gzip', comp_opts=9, verbose=False)"
   ]
  },
  {
   "cell_type": "code",
   "execution_count": null,
   "id": "b7fd91d0",
   "metadata": {},
   "outputs": [],
   "source": [
    "data,event = hepfile.load(outfilename)"
   ]
  },
  {
   "cell_type": "code",
   "execution_count": null,
   "id": "43d6add8",
   "metadata": {},
   "outputs": [],
   "source": [
    "#data"
   ]
  },
  {
   "cell_type": "code",
   "execution_count": null,
   "id": "8ac5f5ad",
   "metadata": {},
   "outputs": [],
   "source": [
    "#data.keys()"
   ]
  },
  {
   "cell_type": "code",
   "execution_count": null,
   "id": "e1ddea94",
   "metadata": {},
   "outputs": [],
   "source": [
    "keys = list(data['_LIST_OF_DATASETS_']) # Make a deep copy\n",
    "keys.remove('ml')\n",
    "keys.remove('ml/nml')\n",
    "keys.remove('_SINGLETONS_GROUP_')\n",
    "keys.remove('_SINGLETONS_GROUP_/COUNTER')\n",
    "\n",
    "keys_to_plot = keys"
   ]
  },
  {
   "cell_type": "code",
   "execution_count": null,
   "id": "dd3ceb78",
   "metadata": {},
   "outputs": [],
   "source": [
    "#keys"
   ]
  },
  {
   "cell_type": "code",
   "execution_count": null,
   "id": "e8d8da21",
   "metadata": {},
   "outputs": [],
   "source": [
    "start = time.time()\n",
    "\n",
    "plt.figure(figsize=(16,28))\n",
    "\n",
    "for values in [data]:\n",
    "    \n",
    "    #plt.figure(figsize=(16,12))\n",
    "\n",
    "    for i,key in enumerate(keys_to_plot):\n",
    "        #x = ak.flatten(values[i]).to_numpy()   \n",
    "        #print(type(values[i]))\n",
    "        x = values[key]\n",
    "        if type(x) == ak.highlevel.Array:\n",
    "            x = values[key].to_numpy()\n",
    "        #print(type(x))\n",
    "\n",
    "        #print(len(x),x)\n",
    "        #print(len(x[x==x]))\n",
    "        #print(key)\n",
    "        x[x==-np.inf] = -999\n",
    "        x[x==np.inf] = -999\n",
    "        plt.subplot(16,4,i+1)\n",
    "        if key.find('_m')>=0:\n",
    "            plt.hist(x[x==x],bins=100,range=(0,350), density=True, alpha=0.5)\n",
    "        elif key.find('_dR')>=0:\n",
    "            plt.hist(x[x==x],bins=100,range=(0,6), density=True, alpha=0.5)\n",
    "        elif key.find('_dTheta')>=0:\n",
    "            plt.hist(x[x==x],bins=100,range=(0, 6.3), density=True, alpha=0.5)\n",
    "        elif key.find('_pt')>=0:\n",
    "            plt.hist(x[x==x],bins=100,range=(0, 200), density=True, alpha=0.5)\n",
    "\n",
    "        #else:\n",
    "        #    plt.hist(x[x==x],bins=100, density=True, alpha=0.5)\n",
    "        else:\n",
    "            plt.hist(x[x==x],bins=100, density=True, alpha=0.5)\n",
    "\n",
    "        plt.title(key)\n",
    "\n",
    "plt.tight_layout()\n",
    "#plt.figure()\n",
    "#plt.hist(np.cos(angle),bins=100);\n",
    "\n",
    "print(f\"\\nTime to process {time.time() - start:0.3f} seconds\")"
   ]
  },
  {
   "cell_type": "code",
   "execution_count": null,
   "id": "52e97c91",
   "metadata": {},
   "outputs": [],
   "source": []
  }
 ],
 "metadata": {
  "kernelspec": {
   "display_name": "Python 3 (ipykernel)",
   "language": "python",
   "name": "python3"
  },
  "language_info": {
   "codemirror_mode": {
    "name": "ipython",
    "version": 3
   },
   "file_extension": ".py",
   "mimetype": "text/x-python",
   "name": "python",
   "nbconvert_exporter": "python",
   "pygments_lexer": "ipython3",
   "version": "3.9.7"
  }
 },
 "nbformat": 4,
 "nbformat_minor": 5
}
