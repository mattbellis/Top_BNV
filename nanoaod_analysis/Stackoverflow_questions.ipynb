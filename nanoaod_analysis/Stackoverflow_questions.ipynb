{
 "cells": [
  {
   "cell_type": "code",
   "execution_count": null,
   "id": "c69484ec",
   "metadata": {},
   "outputs": [],
   "source": [
    "!curl https://root.cern/files/HiggsTauTauReduced/GluGluToHToTauTau.root --output GluGluToHToTauTau.root\n"
   ]
  },
  {
   "cell_type": "code",
   "execution_count": null,
   "id": "c9e38c62",
   "metadata": {},
   "outputs": [],
   "source": [
    "import uproot\n",
    "import awkward as ak\n",
    "\n",
    "import vector\n",
    "\n",
    "vector.register_awkward()\n",
    "\n",
    "from coffea.nanoevents import NanoEventsFactory, NanoAODSchema\n"
   ]
  },
  {
   "cell_type": "code",
   "execution_count": null,
   "id": "e72caa86",
   "metadata": {},
   "outputs": [],
   "source": [
    "events = NanoEventsFactory.from_root('GluGluToHToTauTau.root', schemaclass=NanoAODSchema).events()"
   ]
  },
  {
   "cell_type": "code",
   "execution_count": null,
   "id": "70343bae",
   "metadata": {},
   "outputs": [],
   "source": [
    "genparts = events.GenPart\n"
   ]
  },
  {
   "cell_type": "code",
   "execution_count": null,
   "id": "8ea872d4",
   "metadata": {},
   "outputs": [],
   "source": [
    "vec_genparts = vector.Array(genparts)"
   ]
  },
  {
   "cell_type": "code",
   "execution_count": null,
   "id": "6755a79b",
   "metadata": {},
   "outputs": [],
   "source": [
    "vec_genparts[1]"
   ]
  },
  {
   "cell_type": "code",
   "execution_count": null,
   "id": "1314f3b5",
   "metadata": {},
   "outputs": [],
   "source": [
    "genparts.fields"
   ]
  }
 ],
 "metadata": {
  "kernelspec": {
   "display_name": "Python 3 (ipykernel)",
   "language": "python",
   "name": "python3"
  },
  "language_info": {
   "codemirror_mode": {
    "name": "ipython",
    "version": 3
   },
   "file_extension": ".py",
   "mimetype": "text/x-python",
   "name": "python",
   "nbconvert_exporter": "python",
   "pygments_lexer": "ipython3",
   "version": "3.10.6"
  }
 },
 "nbformat": 4,
 "nbformat_minor": 5
}
