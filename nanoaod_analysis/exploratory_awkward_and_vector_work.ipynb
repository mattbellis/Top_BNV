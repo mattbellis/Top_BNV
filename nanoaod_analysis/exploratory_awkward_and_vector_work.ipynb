{
 "cells": [
  {
   "cell_type": "code",
   "execution_count": null,
   "id": "40ebd99e",
   "metadata": {},
   "outputs": [],
   "source": [
    "import pkg_resources\n",
    "\n",
    "#pkg_resources.require(\"numpy==1.21\")\n",
    "\n",
    "import numpy as np\n",
    "import matplotlib.pylab as plt\n",
    "import uproot\n",
    "import awkward as ak\n",
    "\n",
    "import vector\n",
    "\n",
    "import sys\n",
    "\n",
    "vector.register_awkward()\n",
    "\n",
    "#from coffea.nanoevents import NanoEventsFactory, NanoAODSchema\n",
    "\n",
    "import coffea\n",
    "\n",
    "from coffea.nanoevents import NanoEventsFactory\n",
    "#from coffea.nanoevents import NanoAODSchema\n"
   ]
  },
  {
   "cell_type": "code",
   "execution_count": null,
   "id": "2915e3a6",
   "metadata": {},
   "outputs": [],
   "source": [
    "print(f\"python: {sys.version}\\n\")\n",
    "\n",
    "print(f\"numpy:   {np.__version__}\")\n",
    "print(f\"uproot:  {uproot.__version__}\")\n",
    "print(f\"awkward: {ak.__version__}\")\n",
    "print(f\"vector:  {vector.__version__}\")\n",
    "print()\n",
    "\n",
    "print(f\"coffea:  {coffea.__version__}\")\n",
    "\n"
   ]
  },
  {
   "cell_type": "code",
   "execution_count": null,
   "id": "2857ac8c",
   "metadata": {},
   "outputs": [],
   "source": [
    "data_dir = '/home/bellis/top_data/NANOAOD/'\n",
    "\n",
    "#infilename = 'small_skims_10k/TT_TToBCE_TuneCP5_BNV_2018_SMALL_10k.root'\n",
    "infilename = 'TTToHadronic_UL_2018_SMALL_100k.root'\n",
    "\n",
    "infile = uproot.open(data_dir + infilename)\n"
   ]
  },
  {
   "cell_type": "code",
   "execution_count": null,
   "id": "80f6e9a6",
   "metadata": {},
   "outputs": [],
   "source": [
    "#events = coffea.nanoevents.NanoEventsFactory.from_root(infilename, schemaclass=NanoAODSchema).events()\n"
   ]
  },
  {
   "cell_type": "code",
   "execution_count": null,
   "id": "8e3953ce",
   "metadata": {},
   "outputs": [],
   "source": [
    "#infile['Events'].keys()"
   ]
  },
  {
   "cell_type": "code",
   "execution_count": null,
   "id": "1678959b",
   "metadata": {},
   "outputs": [],
   "source": [
    "jet_branch_arrays = infile[\"Events\"].arrays(filter_name=\"Jet_*\")#[0:100]\n",
    "\n",
    "njet = infile[\"Events\"][\"nJet\"].array()#[0:100]"
   ]
  },
  {
   "cell_type": "code",
   "execution_count": null,
   "id": "495f7948",
   "metadata": {},
   "outputs": [],
   "source": [
    "min_njets = 5\n",
    "max_njets = 7\n",
    "\n",
    "mask_njets = (njet>=min_njets) & (njet<=max_njets)\n",
    "\n",
    "jets = ak.zip({\n",
    "    \"pt\": jet_branch_arrays[mask_njets][\"Jet_pt\"],\n",
    "    \"phi\": jet_branch_arrays[mask_njets][\"Jet_phi\"],\n",
    "    \"eta\": jet_branch_arrays[mask_njets][\"Jet_eta\"],\n",
    "    \"mass\": jet_branch_arrays[mask_njets][\"Jet_mass\"],\n",
    "    \"btag\": jet_branch_arrays[mask_njets][\"Jet_btagDeepB\"],\n",
    "}, with_name=\"Momentum4D\")"
   ]
  },
  {
   "cell_type": "code",
   "execution_count": null,
   "id": "cac620c9",
   "metadata": {},
   "outputs": [],
   "source": [
    "had_combos = ak.combinations(jets, 5)\n",
    "#quad_charge = quads[\"0\"].charge + quads[\"1\"].charge + quads[\"2\"].charge + quads[\"3\"].charge\n",
    "\n",
    "pt_cut = 25\n",
    "\n",
    "mask_pt = (had_combos[\"0\"].pt>pt_cut) & (had_combos[\"1\"].pt>pt_cut) & (had_combos[\"2\"].pt>pt_cut) \\\n",
    "          & (had_combos[\"3\"].pt>pt_cut) & (had_combos[\"4\"].pt>pt_cut)\n",
    "\n",
    "\n",
    "jet1, jet2, jet3, jet4, jet5 = ak.unzip(had_combos[mask_pt])\n",
    "\n",
    "p4_had = jet1 + jet2 + jet3\n",
    "p4_bnv = jet4 + jet5\n",
    "\n",
    "#mask_pt = (jet1.pt>25) & (jet2.pt>25) & (jet3.pt>25) & (jet4.pt>25) & (jet5.pt>25)\n",
    "\n",
    "mask_btag = (jet1.btag>0.5) | (jet2.btag>0.5) & (jet3.btag>0.5)\n",
    "\n"
   ]
  },
  {
   "cell_type": "code",
   "execution_count": null,
   "id": "39b80a83",
   "metadata": {},
   "outputs": [],
   "source": [
    "plt.figure()\n",
    "plt.hist(ak.flatten(jet1.pt),bins=25,range=(0,100));\n",
    "plt.hist(ak.flatten(jet2.pt),bins=25,range=(0,100));\n",
    "plt.hist(ak.flatten(jet3.pt),bins=25,range=(0,100));\n",
    "\n"
   ]
  },
  {
   "cell_type": "code",
   "execution_count": null,
   "id": "d8c824d4",
   "metadata": {},
   "outputs": [],
   "source": [
    "x = (jet1 + jet2 + jet3)#[mask_pt & mask_btag]\n",
    "\n",
    "print(len(ak.flatten(x.mass)))\n",
    "\n",
    "plt.hist(ak.flatten(x.mass), bins=100, range=(0, 600));"
   ]
  },
  {
   "cell_type": "code",
   "execution_count": null,
   "id": "745b5d1d",
   "metadata": {},
   "outputs": [],
   "source": [
    "njet"
   ]
  },
  {
   "cell_type": "code",
   "execution_count": null,
   "id": "c31882b3",
   "metadata": {
    "scrolled": true
   },
   "outputs": [],
   "source": [
    "for m in x.mass:\n",
    "    print(m)"
   ]
  },
  {
   "cell_type": "code",
   "execution_count": null,
   "id": "58e0ef4c",
   "metadata": {},
   "outputs": [],
   "source": [
    "plt.figure(figsize=(15,4))\n",
    "plt.subplot(1,3,1)\n",
    "plt.hist(ak.flatten((jet1 + jet2).mass), bins=100, range=(0, 600));\n",
    "\n",
    "plt.subplot(1,3,2)\n",
    "plt.hist(ak.flatten((jet1 + jet3).mass), bins=100, range=(0, 600));\n",
    "\n",
    "plt.subplot(1,3,3)\n",
    "plt.hist(ak.flatten((jet2 + jet3).mass), bins=100, range=(0, 600));"
   ]
  },
  {
   "cell_type": "code",
   "execution_count": null,
   "id": "ffcbcac8",
   "metadata": {},
   "outputs": [],
   "source": []
  },
  {
   "cell_type": "code",
   "execution_count": null,
   "id": "4d143d33",
   "metadata": {},
   "outputs": [],
   "source": []
  },
  {
   "cell_type": "code",
   "execution_count": null,
   "id": "bab85f69",
   "metadata": {},
   "outputs": [],
   "source": []
  }
 ],
 "metadata": {
  "kernelspec": {
   "display_name": "Python 3 (ipykernel)",
   "language": "python",
   "name": "python3"
  },
  "language_info": {
   "codemirror_mode": {
    "name": "ipython",
    "version": 3
   },
   "file_extension": ".py",
   "mimetype": "text/x-python",
   "name": "python",
   "nbconvert_exporter": "python",
   "pygments_lexer": "ipython3",
   "version": "3.9.12"
  }
 },
 "nbformat": 4,
 "nbformat_minor": 5
}
