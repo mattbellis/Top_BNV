{
 "cells": [
  {
   "cell_type": "code",
   "execution_count": null,
   "id": "40ebd99e",
   "metadata": {},
   "outputs": [],
   "source": [
    "import pkg_resources\n",
    "\n",
    "#pkg_resources.require(\"numpy==1.21\")\n",
    "\n",
    "import numpy as np\n",
    "import matplotlib.pylab as plt\n",
    "import uproot\n",
    "import awkward as ak\n",
    "\n",
    "import vector\n",
    "\n",
    "import sys\n",
    "\n",
    "vector.register_awkward()\n",
    "\n",
    "#from coffea.nanoevents import NanoEventsFactory, NanoAODSchema\n",
    "\n",
    "import coffea\n",
    "\n",
    "from coffea.nanoevents import NanoEventsFactory\n",
    "#from coffea.nanoevents import NanoAODSchema\n"
   ]
  },
  {
   "cell_type": "code",
   "execution_count": null,
   "id": "2915e3a6",
   "metadata": {},
   "outputs": [],
   "source": [
    "print(f\"python: {sys.version}\\n\")\n",
    "\n",
    "print(f\"numpy:   {np.__version__}\")\n",
    "print(f\"uproot:  {uproot.__version__}\")\n",
    "print(f\"awkward: {ak.__version__}\")\n",
    "print(f\"vector:  {vector.__version__}\")\n",
    "print()\n",
    "\n",
    "print(f\"coffea:  {coffea.__version__}\")\n",
    "\n"
   ]
  },
  {
   "cell_type": "code",
   "execution_count": null,
   "id": "2857ac8c",
   "metadata": {},
   "outputs": [],
   "source": [
    "data_dir = '/home/bellis/top_data/NANOAOD/'\n",
    "\n",
    "# Laptop\n",
    "infilename = 'small_skims_10k/TT_TToBCE_TuneCP5_BNV_2018_SMALL_10k.root'\n",
    "#infilename = 'TTToHadronic_UL_2018_SMALL_100k.root'\n",
    "\n",
    "# Beth Harmon\n",
    "#infilename = 'small_skims_1k/TTbarPowheg_Hadronic_2017_SMALL_1k.root'\n",
    "infilename = 'TTToSemiLeptonic_UL_2018.root' # Also desktop home computre\n",
    "#infilename = 'Reza_signal/nAOD_step_BNV_TT_TSUE/NAOD-00000_190.root' # Also desktop home computer\n",
    "\n",
    "# Desktop home computer\n",
    "#infilename = 'small_skims_1k/TTbarPowheg_Hadronic_2017_SMALL_1k.root'\n",
    "\n",
    "\n",
    "infile = uproot.open(data_dir + infilename)\n"
   ]
  },
  {
   "cell_type": "code",
   "execution_count": null,
   "id": "aac75939",
   "metadata": {},
   "outputs": [],
   "source": [
    "nevents = infile[\"Events\"].num_entries\n",
    "\n",
    "print(nevents)"
   ]
  },
  {
   "cell_type": "code",
   "execution_count": null,
   "id": "80f6e9a6",
   "metadata": {},
   "outputs": [],
   "source": [
    "#events = coffea.nanoevents.NanoEventsFactory.from_root(infilename, schemaclass=NanoAODSchema).events()\n"
   ]
  },
  {
   "cell_type": "code",
   "execution_count": null,
   "id": "8e3953ce",
   "metadata": {},
   "outputs": [],
   "source": [
    "#infile['Events'].keys()"
   ]
  },
  {
   "cell_type": "code",
   "execution_count": null,
   "id": "1678959b",
   "metadata": {},
   "outputs": [],
   "source": [
    "jet_branch_arrays = infile[\"Events\"].arrays(filter_name=\"Jet_*\")#[0:100]\n",
    "\n",
    "mask_jet_pt = jet_branch_arrays['Jet_pt']>20\n",
    "\n",
    "print(mask_jet_pt)\n",
    "print(infile[\"Events\"][\"Jet_pt\"].array())\n",
    "\n",
    "print(infile[\"Events\"][\"Jet_pt\"].array()[mask_jet_pt])\n",
    "\n",
    "\n",
    "njet = infile[\"Events\"][\"nJet\"].array()#[0:100]\n",
    "njet_masked = ak.num(infile[\"Events\"][\"Jet_pt\"].array()[mask_jet_pt])#[0:100]\n",
    "\n",
    "print(njet_masked)"
   ]
  },
  {
   "cell_type": "code",
   "execution_count": null,
   "id": "neutral-finding",
   "metadata": {
    "scrolled": false
   },
   "outputs": [],
   "source": [
    "plt.figure(figsize=(12,4))\n",
    "plt.hist(njet, range=(0.5,20.5),bins=20)\n",
    "plt.hist(njet_masked, range=(0.5,20.5),bins=20,alpha=0.5)\n",
    "\n",
    "plt.gca().set_xticks(np.arange(0, 20, 2));"
   ]
  },
  {
   "cell_type": "code",
   "execution_count": null,
   "id": "495f7948",
   "metadata": {},
   "outputs": [],
   "source": [
    "min_njets = 5\n",
    "max_njets = 7\n",
    "\n",
    "mask_njets = (njet>=min_njets) & (njet<=max_njets)\n",
    "\n",
    "jets = ak.zip({\n",
    "    \"pt\": jet_branch_arrays[mask_njets][\"Jet_pt\"],\n",
    "    \"phi\": jet_branch_arrays[mask_njets][\"Jet_phi\"],\n",
    "    \"eta\": jet_branch_arrays[mask_njets][\"Jet_eta\"],\n",
    "    \"mass\": jet_branch_arrays[mask_njets][\"Jet_mass\"],\n",
    "    \"btag\": jet_branch_arrays[mask_njets][\"Jet_btagDeepB\"],\n",
    "}, with_name=\"Momentum4D\")"
   ]
  },
  {
   "cell_type": "code",
   "execution_count": null,
   "id": "cac620c9",
   "metadata": {},
   "outputs": [],
   "source": [
    "had_combos = ak.combinations(jets, 5)\n",
    "#quad_charge = quads[\"0\"].charge + quads[\"1\"].charge + quads[\"2\"].charge + quads[\"3\"].charge\n",
    "\n",
    "pt_cut = 25\n",
    "\n",
    "mask_pt = (had_combos[\"0\"].pt>pt_cut) & (had_combos[\"1\"].pt>pt_cut) & (had_combos[\"2\"].pt>pt_cut) \\\n",
    "          & (had_combos[\"3\"].pt>pt_cut) & (had_combos[\"4\"].pt>pt_cut)\n",
    "\n",
    "\n",
    "jet1, jet2, jet3, jet4, jet5 = ak.unzip(had_combos[mask_pt])\n",
    "\n",
    "p4_had = jet1 + jet2 + jet3\n",
    "p4_bnv = jet4 + jet5\n",
    "\n",
    "#mask_pt = (jet1.pt>25) & (jet2.pt>25) & (jet3.pt>25) & (jet4.pt>25) & (jet5.pt>25)\n",
    "\n",
    "mask_btag = (jet1.btag>0.5) | (jet2.btag>0.5) & (jet3.btag>0.5)\n",
    "\n",
    "#njet_masked = infile[\"Events\"][\"nJet\"].array()#[0:100]\n",
    "\n"
   ]
  },
  {
   "cell_type": "code",
   "execution_count": null,
   "id": "39b80a83",
   "metadata": {},
   "outputs": [],
   "source": [
    "plt.figure()\n",
    "plt.hist(ak.flatten(jet1.pt),bins=400,range=(0,400));\n",
    "plt.hist(ak.flatten(jet2.pt),bins=400,range=(0,400),alpha=0.6);\n",
    "plt.hist(ak.flatten(jet3.pt),bins=400,range=(0,400),alpha=0.5);\n",
    "\n"
   ]
  },
  {
   "cell_type": "code",
   "execution_count": null,
   "id": "d8c824d4",
   "metadata": {},
   "outputs": [],
   "source": [
    "topp4 = (jet1 + jet2 + jet3)#[mask_pt & mask_btag]\n",
    "\n",
    "print(len(ak.flatten(topp4.mass)))\n",
    "\n",
    "plt.hist(ak.flatten(topp4.mass), bins=100, range=(0, 600));"
   ]
  },
  {
   "cell_type": "code",
   "execution_count": null,
   "id": "745b5d1d",
   "metadata": {},
   "outputs": [],
   "source": [
    "njet"
   ]
  },
  {
   "cell_type": "code",
   "execution_count": null,
   "id": "98e683ff",
   "metadata": {},
   "outputs": [],
   "source": [
    "dR12 = jet1.deltaR(jet2)\n",
    "dR13 = jet1.deltaR(jet3)\n",
    "dR23 = jet2.deltaR(jet3)"
   ]
  },
  {
   "cell_type": "code",
   "execution_count": null,
   "id": "ba0f3aa0",
   "metadata": {},
   "outputs": [],
   "source": [
    "plt.figure(figsize=(15,4))\n",
    "plt.subplot(1,3,1)\n",
    "plt.hist(ak.flatten(dR12), bins=100, range=(0, 6.3));\n",
    "\n",
    "plt.subplot(1,3,2)\n",
    "plt.hist(ak.flatten(dR13), bins=100, range=(0, 6.3));\n",
    "\n",
    "plt.subplot(1,3,3)\n",
    "plt.hist(ak.flatten(dR23), bins=100, range=(0, 6.3));\n"
   ]
  },
  {
   "cell_type": "code",
   "execution_count": null,
   "id": "c31882b3",
   "metadata": {
    "scrolled": true
   },
   "outputs": [],
   "source": [
    "#for m in topp4.mass:\n",
    "#    print(m)"
   ]
  },
  {
   "cell_type": "code",
   "execution_count": null,
   "id": "58e0ef4c",
   "metadata": {},
   "outputs": [],
   "source": [
    "plt.figure(figsize=(15,4))\n",
    "plt.subplot(1,3,1)\n",
    "plt.hist(ak.flatten((jet1 + jet2).mass), bins=100, range=(0, 600));\n",
    "\n",
    "plt.subplot(1,3,2)\n",
    "plt.hist(ak.flatten((jet1 + jet3).mass), bins=100, range=(0, 600));\n",
    "\n",
    "plt.subplot(1,3,3)\n",
    "plt.hist(ak.flatten((jet2 + jet3).mass), bins=100, range=(0, 600));"
   ]
  },
  {
   "cell_type": "markdown",
   "id": "bfd975c4",
   "metadata": {},
   "source": [
    "# Boost"
   ]
  },
  {
   "cell_type": "code",
   "execution_count": null,
   "id": "4d143d33",
   "metadata": {},
   "outputs": [],
   "source": [
    "#jet1.boost_p4(topp4).deltaR(jet2.boost_p4(topp4))"
   ]
  },
  {
   "cell_type": "markdown",
   "id": "23314918",
   "metadata": {},
   "source": [
    "https://vector.readthedocs.io/en/latest/api/vector._methods.html?highlight=boost"
   ]
  },
  {
   "cell_type": "code",
   "execution_count": null,
   "id": "brilliant-novelty",
   "metadata": {},
   "outputs": [],
   "source": []
  },
  {
   "cell_type": "code",
   "execution_count": null,
   "id": "gentle-gossip",
   "metadata": {},
   "outputs": [],
   "source": [
    "x = vector.obj(pt=2, eta=1.5, phi=1, energy=10)\n",
    "y = x.from_rhophietatau(rho=x.rho, eta=x.eta, phi=x.phi, tau=20)\n",
    "\n",
    "print(f\"{x.mass:6.3f}  {x.pt}  {x.eta}  {x.phi}  {x.energy:6.2f}\")\n",
    "print(f\"{y.mass:6.3f}  {y.pt}  {y.eta}  {y.phi}  {y.energy:6.2f}\")\n",
    "\n",
    "#print(y.mass, y.pt, y.eta, y.phi, y.energy)\n",
    "\n",
    "#print(x.energy, y.energy)\n",
    "\n"
   ]
  },
  {
   "cell_type": "code",
   "execution_count": null,
   "id": "bab85f69",
   "metadata": {},
   "outputs": [],
   "source": [
    "# Set to mass of top\n",
    "topp4 = (jet1 + jet2 + jet3)\n",
    "print(type(topp4))\n",
    "\n",
    "#topp4 = vector.Array(\"pt\":topp4.pt, \"eta\":topp4.eta, \"phi\":topp4.phi, \"tau\":173)\n",
    "print(type(topp4))\n",
    "\n",
    "#print(topp4.array())\n",
    "\n",
    "#jet1_boosted = jet1.boost_p4(topp4)\n",
    "#jet2_boosted = jet2.boost_p4(topp4)\n",
    "#jet3_boosted = jet3.boost_p4(topp4)\n",
    "\n",
    "jet1_boosted = jet1.boostCM_of(topp4)\n",
    "jet2_boosted = jet2.boostCM_of(topp4)\n",
    "jet3_boosted = jet3.boostCM_of(topp4)"
   ]
  },
  {
   "cell_type": "code",
   "execution_count": null,
   "id": "64401c31",
   "metadata": {},
   "outputs": [],
   "source": [
    "print(jet1_boosted.pt)\n",
    "print(jet1.pt)"
   ]
  },
  {
   "cell_type": "code",
   "execution_count": null,
   "id": "bf499302",
   "metadata": {},
   "outputs": [],
   "source": [
    "dR12_boosted = jet1_boosted.deltaR(jet2_boosted)\n",
    "dR13_boosted = jet1_boosted.deltaR(jet3_boosted)\n",
    "dR23_boosted = jet2_boosted.deltaR(jet3_boosted)"
   ]
  },
  {
   "cell_type": "code",
   "execution_count": null,
   "id": "a2708cbb",
   "metadata": {},
   "outputs": [],
   "source": [
    "plt.figure(figsize=(15,4))\n",
    "plt.subplot(1,3,1)\n",
    "plt.hist(ak.flatten((jet1_boosted + jet2_boosted).mass), bins=100, range=(0, 600));\n",
    "\n",
    "plt.subplot(1,3,2)\n",
    "plt.hist(ak.flatten((jet1_boosted + jet3_boosted).mass), bins=100, range=(0, 600));\n",
    "\n",
    "plt.subplot(1,3,3)\n",
    "plt.hist(ak.flatten((jet2_boosted + jet3_boosted).mass), bins=100, range=(0, 600));"
   ]
  },
  {
   "cell_type": "code",
   "execution_count": null,
   "id": "be366c91",
   "metadata": {},
   "outputs": [],
   "source": [
    "plt.figure(figsize=(15,4))\n",
    "plt.subplot(1,3,1)\n",
    "plt.hist(ak.flatten(dR12_boosted), bins=100, range=(0, 6.3));\n",
    "\n",
    "plt.subplot(1,3,2)\n",
    "plt.hist(ak.flatten(dR13_boosted), bins=100, range=(0, 6.3));\n",
    "\n",
    "plt.subplot(1,3,3)\n",
    "plt.hist(ak.flatten(dR23_boosted), bins=100, range=(0, 6.3));\n"
   ]
  },
  {
   "cell_type": "code",
   "execution_count": null,
   "id": "76cd0f46",
   "metadata": {},
   "outputs": [],
   "source": [
    "jet3_boosted[0].phi"
   ]
  },
  {
   "cell_type": "code",
   "execution_count": null,
   "id": "f3a242cd",
   "metadata": {},
   "outputs": [],
   "source": [
    "dPhi12 = jet1_boosted.deltaphi(jet2_boosted)\n",
    "dPhi13 = jet1_boosted.deltaphi(jet3_boosted)\n",
    "dPhi23 = jet2_boosted.deltaphi(jet3_boosted)\n",
    "\n",
    "dPhi1_23 = jet1_boosted.deltaphi(jet2_boosted + jet3_boosted)\n",
    "\n",
    "\n",
    "dTheta12 = jet1_boosted.deltaangle(jet2_boosted)\n",
    "dTheta13 = jet1_boosted.deltaangle(jet3_boosted)\n",
    "dTheta23 = jet2_boosted.deltaangle(jet3_boosted)\n",
    "\n",
    "dTheta1_23 = jet1_boosted.deltaangle(jet2_boosted + jet3_boosted)\n",
    "\n"
   ]
  },
  {
   "cell_type": "code",
   "execution_count": null,
   "id": "1631aacb",
   "metadata": {},
   "outputs": [],
   "source": [
    "plt.figure(figsize=(15,8))\n",
    "plt.subplot(2,2,1)\n",
    "plt.hist(ak.flatten(dPhi12), bins=100, range=(-4, 4));\n",
    "\n",
    "plt.subplot(2,2,2)\n",
    "plt.hist(ak.flatten(dPhi13), bins=100, range=(-4, 4));\n",
    "\n",
    "plt.subplot(2,2,3)\n",
    "plt.hist(ak.flatten(dPhi23), bins=100, range=(-4, 4));\n",
    "\n",
    "plt.subplot(2,2,4)\n",
    "plt.hist(ak.flatten(dPhi1_23), bins=100, range=(-4, 4));\n",
    "\n",
    "\n",
    "#'''\n",
    "plt.figure(figsize=(15,8))\n",
    "plt.subplot(2,2,1)\n",
    "plt.hist(ak.flatten(dTheta12), bins=100, range=(-4, 4));\n",
    "\n",
    "plt.subplot(2,2,2)\n",
    "plt.hist(ak.flatten(dTheta13), bins=100, range=(-4, 4));\n",
    "\n",
    "plt.subplot(2,2,3)\n",
    "plt.hist(ak.flatten(dTheta23), bins=100, range=(-4, 4));\n",
    "\n",
    "plt.subplot(2,2,4)\n",
    "plt.hist(ak.flatten(dTheta1_23), bins=100, range=(-4, 4));\n",
    "\n",
    "#''';"
   ]
  },
  {
   "cell_type": "code",
   "execution_count": null,
   "id": "6baf2a84",
   "metadata": {},
   "outputs": [],
   "source": [
    "mask_j1_gt_j2 = (jet1_boosted.pt > jet2_boosted.pt)"
   ]
  },
  {
   "cell_type": "code",
   "execution_count": null,
   "id": "5a0d8cbb",
   "metadata": {},
   "outputs": [],
   "source": [
    "plt.figure(figsize=(15,4))\n",
    "plt.subplot(1,3,1)\n",
    "plt.hist(ak.flatten(dPhi12[mask_j1_gt_j2]), bins=100, range=(-4, 4));\n",
    "\n",
    "#plt.subplot(1,3,2)\n",
    "#plt.hist(ak.flatten(dPhi13), bins=100, range=(-4, 4));\n",
    "\n",
    "#plt.subplot(1,3,3)\n",
    "#plt.hist(ak.flatten(dPhi23), bins=100, range=(-4, 4));\n",
    "\n"
   ]
  },
  {
   "cell_type": "code",
   "execution_count": null,
   "id": "7d9b2e75",
   "metadata": {},
   "outputs": [],
   "source": [
    "jet1_boosted.deltaangle(jet2_boosted)"
   ]
  },
  {
   "cell_type": "code",
   "execution_count": null,
   "id": "c0c111cf",
   "metadata": {},
   "outputs": [],
   "source": [
    "#for p4 in topp4.boostCM_of(topp4):\n",
    "#    print(p4)"
   ]
  },
  {
   "cell_type": "markdown",
   "id": "e3257494",
   "metadata": {},
   "source": [
    "# Create some mock vectors for test"
   ]
  },
  {
   "cell_type": "code",
   "execution_count": null,
   "id": "0fb5e752",
   "metadata": {},
   "outputs": [],
   "source": [
    "def pmag(p3):\n",
    "    pmag = np.sqrt(p3[0]*p3[0] + p3[1]*p3[1] + p3[2]*p3[2])\n",
    "\n",
    "    return pmag\n",
    "\n",
    "\n",
    "################################################################################\n",
    "# Lorentz boost\n",
    "# \n",
    "# Test code\n",
    "\n",
    "# pmom = [200, 90,50,50]\n",
    "# rest_frame = pmom\n",
    "# print(lorentz_boost(pmom,rest_frame))\n",
    "#\n",
    "################################################################################\n",
    "def lorentz_boost(p4, rest_frame_p4, return_matrix=False, boost_matrix=None):\n",
    "\n",
    "    # Let's assume p4 will be a 4-vector and rest_frame_p4 will be\n",
    "    # a 4-element list [e,px,py,pz]\n",
    "\n",
    "    #print(\"HERE!\")\n",
    "    #print(p4)\n",
    "    #print(type(p4))\n",
    "    pmom = p4[0:4]\n",
    "    #pmom = [0,0,0,0]\n",
    "    #pmom[0] = p4['e']\n",
    "    #pmom[1] = p4['pz']\n",
    "    #pmom[2] = p4['py']\n",
    "    #pmom[3] = p4['pz']\n",
    "    '''\n",
    "    if type(p4) == list:\n",
    "        pmom = list(p4)\n",
    "    elif type(p4) == np.ndarray:\n",
    "        pmom = list(p4[0:4].tolist())\n",
    "    else:\n",
    "        pmom[0] = p4['e']\n",
    "        pmom[1] = p4['pz']\n",
    "        pmom[2] = p4['py']\n",
    "        pmom[3] = p4['pz']\n",
    "    '''\n",
    "\n",
    "    rest_frame = rest_frame_p4[0:4]\n",
    "    #rest_frame = [0,0,0,0]\n",
    "    #if type(rest_frame_p4) == list:\n",
    "        #rest_frame = list(rest_frame_p4)\n",
    "    #elif type(rest_frame_p4) == np.ndarray:\n",
    "        #rest_frame = list(rest_frame_p4[0:4].tolist())\n",
    "    #else:\n",
    "        #rest_frame[0] = rest_frame_p4['e']\n",
    "        #rest_frame[1] = rest_frame_p4['pz']\n",
    "        #rest_frame[2] = rest_frame_p4['py']\n",
    "        #rest_frame[3] = rest_frame_p4['pz']\n",
    "\n",
    "    L = boost_matrix\n",
    "\n",
    "    # If a matrix for the boost has not been passed in, then\n",
    "    # calculate the matrix using the rest frame 4-vector\n",
    "    if boost_matrix is None:\n",
    "        p = rest_frame\n",
    "        c = 1\n",
    "\n",
    "        pm = pmag(p[1:4])\n",
    "        #pmag = np.sqrt(p[1]*p[1] + p[2]*p[2] + p[3]*p[3])\n",
    "        #E = np.sqrt((pmag*c)**2 + (m*c**2)**2)\n",
    "        E = p[0]\n",
    "\n",
    "        beta = pm/E\n",
    "        betaX = p[1]/E\n",
    "        betaY = p[2]/E\n",
    "        betaZ = p[3]/E\n",
    "\n",
    "        beta2 = beta*beta\n",
    "\n",
    "        gamma = np.sqrt(1 / (1-beta2))\n",
    "\n",
    "        gamma_minus_1 = gamma-1\n",
    "\n",
    "        x = ((gamma_minus_1) * betaX) / beta2\n",
    "        y = ((gamma_minus_1) * betaY) / beta2\n",
    "        z = ((gamma_minus_1) * betaZ) / beta2\n",
    "\n",
    "        L = np.matrix([[gamma,      -gamma*betaX, -gamma*betaY, -gamma*betaZ],\n",
    "                    [-gamma*betaX,  1 + x*betaX,      x*betaY,      x*betaZ],\n",
    "                    [-gamma*betaY,      y*betaX,  1 + y*betaY,      y*betaZ],\n",
    "                    [-gamma*betaZ,      z*betaX,      z*betaY,  1 + z*betaZ]])\n",
    "\n",
    "    if return_matrix is True:\n",
    "        return L\n",
    "\n",
    "    # Moving particle that will be boosted\n",
    "    #vector = np.matrix([E,p[1],p[1],p[2]])\n",
    "    vector = np.matrix(pmom)\n",
    "\n",
    "    boosted_vec = L*np.matrix.transpose(vector)\n",
    "\n",
    "    return boosted_vec"
   ]
  },
  {
   "cell_type": "code",
   "execution_count": null,
   "id": "4c0db011",
   "metadata": {},
   "outputs": [],
   "source": [
    "pmom = [200, 90,50,50]\n",
    "rest_frame = pmom\n",
    "print(lorentz_boost(pmom,rest_frame))"
   ]
  },
  {
   "cell_type": "markdown",
   "id": "sealed-commons",
   "metadata": {},
   "source": [
    "# Question code"
   ]
  },
  {
   "cell_type": "code",
   "execution_count": null,
   "id": "republican-hearts",
   "metadata": {},
   "outputs": [],
   "source": [
    "import numpy as np\n",
    "import matplotlib.pylab as plt\n",
    "\n",
    "import uproot\n",
    "import awkward as ak\n",
    "\n",
    "import vector\n",
    "vector.register_awkward()\n"
   ]
  },
  {
   "cell_type": "code",
   "execution_count": null,
   "id": "valued-designation",
   "metadata": {},
   "outputs": [],
   "source": [
    "infile = uproot.open(\"/home/bellis/Downloads/SMHiggsToZZTo4L.root\")\n",
    "\n",
    "muon_branch_arrays = infile[\"Events\"].arrays(filter_name=\"Muon_*\")\n",
    "electron_branch_arrays = infile[\"Events\"].arrays(filter_name=\"Electron_*\")\n",
    "\n",
    "muons = ak.zip({\n",
    "    \"pt\": muon_branch_arrays[\"Muon_pt\"],\n",
    "    \"phi\": muon_branch_arrays[\"Muon_phi\"],\n",
    "    \"eta\": muon_branch_arrays[\"Muon_eta\"],\n",
    "    \"mass\": muon_branch_arrays[\"Muon_mass\"],\n",
    "    \"charge\": muon_branch_arrays[\"Muon_charge\"],\n",
    "}, with_name=\"Momentum4D\")\n",
    "\n",
    "quads = ak.combinations(muons, 4)\n",
    "mu1, mu2, mu3, mu4 = ak.unzip(quads)\n",
    "\n",
    "p4 = mu1 + mu2 + mu3 + mu4"
   ]
  },
  {
   "cell_type": "code",
   "execution_count": null,
   "id": "earned-momentum",
   "metadata": {},
   "outputs": [],
   "source": [
    "print(type(p4))"
   ]
  },
  {
   "cell_type": "code",
   "execution_count": null,
   "id": "standard-prevention",
   "metadata": {},
   "outputs": [],
   "source": []
  },
  {
   "cell_type": "code",
   "execution_count": null,
   "id": "6b9aec1d",
   "metadata": {},
   "outputs": [],
   "source": []
  },
  {
   "cell_type": "code",
   "execution_count": null,
   "id": "b6474a0b",
   "metadata": {},
   "outputs": [],
   "source": []
  }
 ],
 "metadata": {
  "kernelspec": {
   "display_name": "Python 3",
   "language": "python",
   "name": "python3"
  },
  "language_info": {
   "codemirror_mode": {
    "name": "ipython",
    "version": 3
   },
   "file_extension": ".py",
   "mimetype": "text/x-python",
   "name": "python",
   "nbconvert_exporter": "python",
   "pygments_lexer": "ipython3",
   "version": "3.7.9"
  }
 },
 "nbformat": 4,
 "nbformat_minor": 5
}
