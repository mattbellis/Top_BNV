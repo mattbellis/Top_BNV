{
 "cells": [
  {
   "cell_type": "code",
   "execution_count": null,
   "id": "40ebd99e",
   "metadata": {},
   "outputs": [],
   "source": [
    "#import pkg_resources\n",
    "\n",
    "#pkg_resources.require(\"numpy==1.21\")\n",
    "\n",
    "import numpy as np\n",
    "import matplotlib.pylab as plt\n",
    "import uproot\n",
    "import awkward as ak\n",
    "\n",
    "import vector\n",
    "\n",
    "import sys\n",
    "\n",
    "vector.register_awkward()\n",
    "\n",
    "#from coffea.nanoevents import NanoEventsFactory, NanoAODSchema\n",
    "\n",
    "import coffea\n",
    "\n",
    "from coffea.nanoevents import NanoEventsFactory\n",
    "#from coffea.nanoevents import NanoAODSchema\n",
    "\n",
    "from itertools import combinations"
   ]
  },
  {
   "cell_type": "code",
   "execution_count": null,
   "id": "2915e3a6",
   "metadata": {},
   "outputs": [],
   "source": [
    "print(f\"python: {sys.version}\\n\")\n",
    "\n",
    "print(f\"numpy:   {np.__version__}\")\n",
    "print(f\"uproot:  {uproot.__version__}\")\n",
    "print(f\"awkward: {ak.__version__}\")\n",
    "print(f\"vector:  {vector.__version__}\")\n",
    "print()\n",
    "\n",
    "print(f\"coffea:  {coffea.__version__}\")\n",
    "\n"
   ]
  },
  {
   "cell_type": "code",
   "execution_count": null,
   "id": "2857ac8c",
   "metadata": {},
   "outputs": [],
   "source": [
    "data_dir = '/home/bellis/top_data/NANOAOD/'\n",
    "\n",
    "# Laptop\n",
    "#infilename = 'small_skims_10k/TT_TToBCE_TuneCP5_BNV_2018_SMALL_10k.root'\n",
    "#infilename = 'TTToHadronic_UL_2018_SMALL_100k.root'\n",
    "\n",
    "# Beth Harmon\n",
    "infilename = 'small_skims_1k/TTbarPowheg_Hadronic_2017_SMALL_1k.root'\n",
    "#infilename = 'TTToSemiLeptonic_UL_2018.root' # Also desktop home computer\n",
    "#infilename = 'Reza_signal/nAOD_step_BNV_TT_TSUE/NAOD-00000_190.root' # Also desktop home computer\n",
    "\n",
    "# Desktop home computer\n",
    "#infilename = 'small_skims_1k/TTbarPowheg_Hadronic_2017_SMALL_1k.root'\n",
    "\n",
    "\n",
    "infile = uproot.open(data_dir + infilename)\n"
   ]
  },
  {
   "cell_type": "code",
   "execution_count": null,
   "id": "aac75939",
   "metadata": {},
   "outputs": [],
   "source": [
    "nevents = infile[\"Events\"].num_entries\n",
    "\n",
    "print(nevents)"
   ]
  },
  {
   "cell_type": "code",
   "execution_count": null,
   "id": "80f6e9a6",
   "metadata": {},
   "outputs": [],
   "source": [
    "#events = coffea.nanoevents.NanoEventsFactory.from_root(infilename, schemaclass=NanoAODSchema).events()\n"
   ]
  },
  {
   "cell_type": "code",
   "execution_count": null,
   "id": "8e3953ce",
   "metadata": {},
   "outputs": [],
   "source": [
    "#infile['Events'].keys()"
   ]
  },
  {
   "cell_type": "code",
   "execution_count": null,
   "id": "1678959b",
   "metadata": {},
   "outputs": [],
   "source": [
    "jet_branch_arrays = infile[\"Events\"].arrays(filter_name=\"Jet_*\")#[0:100]\n",
    "\n",
    "mask_jet_pt = jet_branch_arrays['Jet_pt']>20\n",
    "\n",
    "print(mask_jet_pt)\n",
    "print(infile[\"Events\"][\"Jet_pt\"].array())\n",
    "\n",
    "print(infile[\"Events\"][\"Jet_pt\"].array()[mask_jet_pt])\n",
    "\n",
    "\n",
    "njet = infile[\"Events\"][\"nJet\"].array()#[0:100]\n",
    "njet_masked = ak.num(infile[\"Events\"][\"Jet_pt\"].array()[mask_jet_pt])#[0:100]\n",
    "\n",
    "print(njet_masked)"
   ]
  },
  {
   "cell_type": "code",
   "execution_count": null,
   "id": "neutral-finding",
   "metadata": {
    "scrolled": false
   },
   "outputs": [],
   "source": [
    "plt.figure(figsize=(12,4))\n",
    "plt.hist(njet, range=(0.5,20.5),bins=20)\n",
    "plt.hist(njet_masked, range=(0.5,20.5),bins=20,alpha=0.5)\n",
    "\n",
    "plt.gca().set_xticks(np.arange(0, 20, 2));"
   ]
  },
  {
   "cell_type": "code",
   "execution_count": null,
   "id": "495f7948",
   "metadata": {},
   "outputs": [],
   "source": [
    "min_njets = 5\n",
    "max_njets = 7\n",
    "\n",
    "mask_njets = (njet>=min_njets) & (njet<=max_njets)\n",
    "\n",
    "jets = ak.zip({\n",
    "    \"pt\": jet_branch_arrays[mask_njets][\"Jet_pt\"],\n",
    "    \"phi\": jet_branch_arrays[mask_njets][\"Jet_phi\"],\n",
    "    \"eta\": jet_branch_arrays[mask_njets][\"Jet_eta\"],\n",
    "    \"mass\": jet_branch_arrays[mask_njets][\"Jet_mass\"],\n",
    "    \"btag\": jet_branch_arrays[mask_njets][\"Jet_btagDeepB\"],\n",
    "}, with_name=\"Momentum4D\")"
   ]
  },
  {
   "cell_type": "code",
   "execution_count": null,
   "id": "cac620c9",
   "metadata": {},
   "outputs": [],
   "source": [
    "had_combos = ak.combinations(jets, 5)\n",
    "#quad_charge = quads[\"0\"].charge + quads[\"1\"].charge + quads[\"2\"].charge + quads[\"3\"].charge\n",
    "\n",
    "pt_cut = 25\n",
    "\n",
    "mask_pt = (had_combos[\"0\"].pt>pt_cut) & (had_combos[\"1\"].pt>pt_cut) & (had_combos[\"2\"].pt>pt_cut) \\\n",
    "          & (had_combos[\"3\"].pt>pt_cut) & (had_combos[\"4\"].pt>pt_cut)\n",
    "\n",
    "\n",
    "jet1, jet2, jet3, jet4, jet5 = ak.unzip(had_combos[mask_pt])\n",
    "\n",
    "p4_had = jet1 + jet2 + jet3\n",
    "p4_bnv = jet4 + jet5\n",
    "\n",
    "#mask_pt = (jet1.pt>25) & (jet2.pt>25) & (jet3.pt>25) & (jet4.pt>25) & (jet5.pt>25)\n",
    "\n",
    "mask_btag = (jet1.btag>0.5) | (jet2.btag>0.5) & (jet3.btag>0.5)\n",
    "\n",
    "#njet_masked = infile[\"Events\"][\"nJet\"].array()#[0:100]\n",
    "\n"
   ]
  },
  {
   "cell_type": "code",
   "execution_count": null,
   "id": "e5c29a6f",
   "metadata": {},
   "outputs": [],
   "source": [
    "print(type(jet1))\n",
    "\n",
    "n = 0\n",
    "\n",
    "print(jet1[n])\n",
    "print(jet2[n][0])\n"
   ]
  },
  {
   "cell_type": "code",
   "execution_count": null,
   "id": "85a95520",
   "metadata": {},
   "outputs": [],
   "source": [
    "jet1.tolist()"
   ]
  },
  {
   "cell_type": "code",
   "execution_count": null,
   "id": "39b80a83",
   "metadata": {},
   "outputs": [],
   "source": [
    "plt.figure()\n",
    "plt.hist(ak.flatten(jet1.pt),bins=400,range=(0,400));\n",
    "plt.hist(ak.flatten(jet2.pt),bins=400,range=(0,400),alpha=0.6);\n",
    "plt.hist(ak.flatten(jet3.pt),bins=400,range=(0,400),alpha=0.5);\n",
    "plt.hist(ak.flatten(jet4.pt),bins=400,range=(0,400),alpha=0.5);\n",
    "plt.hist(ak.flatten(jet5.pt),bins=400,range=(0,400),alpha=0.5);\n",
    "\n"
   ]
  },
  {
   "cell_type": "code",
   "execution_count": null,
   "id": "d8c824d4",
   "metadata": {},
   "outputs": [],
   "source": [
    "topp4 = (jet1 + jet2 + jet3)#[mask_pt & mask_btag]\n",
    "\n",
    "print(len(ak.flatten(topp4.mass)))\n",
    "\n",
    "plt.hist(ak.flatten(topp4.mass), bins=100, range=(0, 1200));"
   ]
  },
  {
   "cell_type": "code",
   "execution_count": null,
   "id": "745b5d1d",
   "metadata": {},
   "outputs": [],
   "source": [
    "print(njet)\n",
    "print(len(njet))"
   ]
  },
  {
   "cell_type": "code",
   "execution_count": null,
   "id": "98e683ff",
   "metadata": {},
   "outputs": [],
   "source": [
    "dR12 = jet1.deltaR(jet2)\n",
    "dR13 = jet1.deltaR(jet3)\n",
    "dR23 = jet2.deltaR(jet3)"
   ]
  },
  {
   "cell_type": "code",
   "execution_count": null,
   "id": "ba0f3aa0",
   "metadata": {},
   "outputs": [],
   "source": [
    "plt.figure(figsize=(15,4))\n",
    "plt.subplot(1,3,1)\n",
    "plt.hist(ak.flatten(dR12), bins=100, range=(0, 6.3));\n",
    "\n",
    "plt.subplot(1,3,2)\n",
    "plt.hist(ak.flatten(dR13), bins=100, range=(0, 6.3));\n",
    "\n",
    "plt.subplot(1,3,3)\n",
    "plt.hist(ak.flatten(dR23), bins=100, range=(0, 6.3));\n"
   ]
  },
  {
   "cell_type": "code",
   "execution_count": null,
   "id": "c31882b3",
   "metadata": {
    "scrolled": true
   },
   "outputs": [],
   "source": [
    "#for m in topp4.mass:\n",
    "#    print(m)"
   ]
  },
  {
   "cell_type": "code",
   "execution_count": null,
   "id": "58e0ef4c",
   "metadata": {
    "scrolled": true
   },
   "outputs": [],
   "source": [
    "plt.figure(figsize=(15,4))\n",
    "plt.subplot(1,3,1)\n",
    "plt.hist(ak.flatten((jet1 + jet2).mass), bins=100, range=(0, 600));\n",
    "\n",
    "plt.subplot(1,3,2)\n",
    "plt.hist(ak.flatten((jet1 + jet3).mass), bins=100, range=(0, 600));\n",
    "\n",
    "plt.subplot(1,3,3)\n",
    "plt.hist(ak.flatten((jet2 + jet3).mass), bins=100, range=(0, 600));"
   ]
  },
  {
   "cell_type": "code",
   "execution_count": null,
   "id": "018b6c77",
   "metadata": {},
   "outputs": [],
   "source": [
    "print(jet1[3])\n",
    "\n",
    "for p in jet1[3]:\n",
    "    print(p)"
   ]
  },
  {
   "cell_type": "code",
   "execution_count": null,
   "id": "435d1572",
   "metadata": {},
   "outputs": [],
   "source": [
    "'''\n",
    "0 (1, 2, 3, 4, 5)\n",
    "1 2 3    4 5\n",
    "1 2 4    3 5\n",
    "1 2 5    3 4\n",
    "1 3 4    2 5\n",
    "1 3 5    2 4\n",
    "\n",
    "1 4 5    2 3\n",
    "2 3 4    1 5\n",
    "2 3 5    1 4\n",
    "2 4 5    1 3\n",
    "3 4 5    1 2\n",
    "'''\n",
    "\n",
    "p4_hads = []\n",
    "p4_bnvs = []\n",
    "\n",
    "p4_had = jet1 + jet2 + jet3; p4_bnv = jet4 + jet5\n",
    "p4_hads.append(p4_had); p4_bnvs.append(p4_bnv)\n",
    "\n",
    "p4_had = jet1 + jet2 + jet4; p4_bnv = jet3 + jet5\n",
    "p4_hads.append(p4_had); p4_bnvs.append(p4_bnv)\n",
    "\n",
    "p4_had = jet1 + jet2 + jet5; p4_bnv = jet3 + jet4\n",
    "p4_hads.append(p4_had); p4_bnvs.append(p4_bnv)\n",
    "\n",
    "p4_had = jet1 + jet3 + jet4; p4_bnv = jet2 + jet5\n",
    "p4_hads.append(p4_had); p4_bnvs.append(p4_bnv)\n",
    "\n",
    "p4_had = jet1 + jet3 + jet5; p4_bnv = jet2 + jet4\n",
    "p4_hads.append(p4_had); p4_bnvs.append(p4_bnv)\n",
    "#\n",
    "p4_had = jet1 + jet4 + jet5; p4_bnv = jet2 + jet3\n",
    "p4_hads.append(p4_had); p4_bnvs.append(p4_bnv)\n",
    "\n",
    "p4_had = jet2 + jet3 + jet4; p4_bnv = jet1 + jet5\n",
    "p4_hads.append(p4_had); p4_bnvs.append(p4_bnv)\n",
    "\n",
    "p4_had = jet2 + jet3 + jet5; p4_bnv = jet1 + jet4\n",
    "p4_hads.append(p4_had); p4_bnvs.append(p4_bnv)\n",
    "\n",
    "p4_had = jet2 + jet4 + jet5; p4_bnv = jet1 + jet3\n",
    "p4_hads.append(p4_had); p4_bnvs.append(p4_bnv)\n",
    "\n",
    "p4_had = jet3 + jet4 + jet5; p4_bnv = jet1 + jet2\n",
    "p4_hads.append(p4_had); p4_bnvs.append(p4_bnv)\n"
   ]
  },
  {
   "cell_type": "code",
   "execution_count": null,
   "id": "ad2cca86",
   "metadata": {},
   "outputs": [],
   "source": [
    "had_masses = []\n",
    "bnv_masses = []\n",
    "for p in p4_hads:\n",
    "    m = p.mass\n",
    "    print(m)\n",
    "    print(type(m))\n",
    "    had_masses += ak.flatten(m).tolist()"
   ]
  },
  {
   "cell_type": "code",
   "execution_count": null,
   "id": "dd0af01a",
   "metadata": {},
   "outputs": [],
   "source": [
    "len(had_masses)"
   ]
  },
  {
   "cell_type": "code",
   "execution_count": null,
   "id": "4853ba83",
   "metadata": {},
   "outputs": [],
   "source": [
    "had_masses[3]"
   ]
  },
  {
   "cell_type": "code",
   "execution_count": null,
   "id": "4d3232bb",
   "metadata": {},
   "outputs": [],
   "source": [
    "plt.hist(had_masses,bins=100,range=(0,600));"
   ]
  },
  {
   "cell_type": "markdown",
   "id": "bfd975c4",
   "metadata": {},
   "source": [
    "# Boost"
   ]
  },
  {
   "cell_type": "code",
   "execution_count": null,
   "id": "4d143d33",
   "metadata": {},
   "outputs": [],
   "source": [
    "#jet1.boost_p4(topp4).deltaR(jet2.boost_p4(topp4))"
   ]
  },
  {
   "cell_type": "markdown",
   "id": "23314918",
   "metadata": {},
   "source": [
    "https://vector.readthedocs.io/en/latest/api/vector._methods.html?highlight=boost"
   ]
  },
  {
   "cell_type": "code",
   "execution_count": null,
   "id": "brilliant-novelty",
   "metadata": {},
   "outputs": [],
   "source": []
  },
  {
   "cell_type": "code",
   "execution_count": null,
   "id": "gentle-gossip",
   "metadata": {},
   "outputs": [],
   "source": [
    "x = vector.obj(pt=2, eta=1.5, phi=1, energy=10)\n",
    "y = x.from_rhophietatau(rho=x.rho, eta=x.eta, phi=x.phi, tau=20)\n",
    "\n",
    "print(f\"{x.mass:6.3f}  {x.pt}  {x.eta}  {x.phi}  {x.energy:6.2f}\")\n",
    "print(f\"{y.mass:6.3f}  {y.pt}  {y.eta}  {y.phi}  {y.energy:6.2f}\")\n",
    "\n",
    "#print(y.mass, y.pt, y.eta, y.phi, y.energy)\n",
    "\n",
    "#print(x.energy, y.energy)\n",
    "\n"
   ]
  },
  {
   "cell_type": "markdown",
   "id": "fd04e6b0",
   "metadata": {},
   "source": [
    "Need to use `tau` instead of `mass`.\n",
    "\n",
    "Distinction between geometrical vectors, which have a minimum of attribute and method names, and vectors representing momentum, which have synonyms like pt = rho, energy = t, mass = tau.\n",
    "\n",
    "\n",
    "\n",
    "https://vector.readthedocs.io/en/latest/index.html\n",
    "\n",
    "https://stackoverflow.com/questions/72906846/can-i-recalculate-the-energy-of-an-awkward-array-of-vectors-by-declaring-a-new-m/72929486?noredirect=1#comment128822783_72929486"
   ]
  },
  {
   "cell_type": "code",
   "execution_count": null,
   "id": "5af2b403",
   "metadata": {},
   "outputs": [],
   "source": [
    "topp4 = (jet1 + jet2 + jet3)\n",
    "topp4 = ak.with_field(topp4, 173.0, \"tau\")\n",
    "\n",
    "print(topp4.pt)\n",
    "print(topp4.rho)\n",
    "\n",
    "print(topp4.mass)\n",
    "print(topp4.tau)\n",
    "\n",
    "print(topp4.energy)\n",
    "print(topp4.t)"
   ]
  },
  {
   "cell_type": "code",
   "execution_count": null,
   "id": "bab85f69",
   "metadata": {},
   "outputs": [],
   "source": [
    "# Set to mass of top\n",
    "topp4 = (jet1 + jet2 + jet3)\n",
    "print(type(topp4))\n",
    "\n",
    "topp4 = ak.with_field(topp4, 173.0, \"tau\")\n",
    "\n",
    "#print(type(topp4))\n",
    "\n",
    "#print(topp4.array())\n",
    "\n",
    "#jet1_boosted = jet1.boost_p4(topp4)\n",
    "#jet2_boosted = jet2.boost_p4(topp4)\n",
    "#jet3_boosted = jet3.boost_p4(topp4)\n",
    "\n",
    "jet1_boosted = jet1.boostCM_of(topp4)\n",
    "jet2_boosted = jet2.boostCM_of(topp4)\n",
    "jet3_boosted = jet3.boostCM_of(topp4)"
   ]
  },
  {
   "cell_type": "code",
   "execution_count": null,
   "id": "64401c31",
   "metadata": {},
   "outputs": [],
   "source": [
    "print(jet1_boosted.pt)\n",
    "print(jet1.pt)"
   ]
  },
  {
   "cell_type": "code",
   "execution_count": null,
   "id": "bf499302",
   "metadata": {},
   "outputs": [],
   "source": [
    "dR12_boosted = jet1_boosted.deltaR(jet2_boosted)\n",
    "dR13_boosted = jet1_boosted.deltaR(jet3_boosted)\n",
    "dR23_boosted = jet2_boosted.deltaR(jet3_boosted)"
   ]
  },
  {
   "cell_type": "code",
   "execution_count": null,
   "id": "a2708cbb",
   "metadata": {},
   "outputs": [],
   "source": [
    "plt.figure(figsize=(15,4))\n",
    "plt.subplot(1,3,1)\n",
    "plt.hist(ak.flatten((jet1_boosted + jet2_boosted).mass), bins=100, range=(0, 600));\n",
    "\n",
    "plt.subplot(1,3,2)\n",
    "plt.hist(ak.flatten((jet1_boosted + jet3_boosted).mass), bins=100, range=(0, 600));\n",
    "\n",
    "plt.subplot(1,3,3)\n",
    "plt.hist(ak.flatten((jet2_boosted + jet3_boosted).mass), bins=100, range=(0, 600));"
   ]
  },
  {
   "cell_type": "code",
   "execution_count": null,
   "id": "be366c91",
   "metadata": {},
   "outputs": [],
   "source": [
    "plt.figure(figsize=(15,4))\n",
    "plt.subplot(1,3,1)\n",
    "plt.hist(ak.flatten(dR12_boosted), bins=100, range=(0, 6.3));\n",
    "\n",
    "plt.subplot(1,3,2)\n",
    "plt.hist(ak.flatten(dR13_boosted), bins=100, range=(0, 6.3));\n",
    "\n",
    "plt.subplot(1,3,3)\n",
    "plt.hist(ak.flatten(dR23_boosted), bins=100, range=(0, 6.3));\n"
   ]
  },
  {
   "cell_type": "code",
   "execution_count": null,
   "id": "76cd0f46",
   "metadata": {},
   "outputs": [],
   "source": [
    "jet3_boosted[0].phi"
   ]
  },
  {
   "cell_type": "code",
   "execution_count": null,
   "id": "f3a242cd",
   "metadata": {},
   "outputs": [],
   "source": [
    "dPhi12 = jet1_boosted.deltaphi(jet2_boosted)\n",
    "dPhi13 = jet1_boosted.deltaphi(jet3_boosted)\n",
    "dPhi23 = jet2_boosted.deltaphi(jet3_boosted)\n",
    "\n",
    "dPhi1_23 = jet1_boosted.deltaphi(jet2_boosted + jet3_boosted)\n",
    "\n",
    "\n",
    "dTheta12 = jet1_boosted.deltaangle(jet2_boosted)\n",
    "dTheta13 = jet1_boosted.deltaangle(jet3_boosted)\n",
    "dTheta23 = jet2_boosted.deltaangle(jet3_boosted)\n",
    "\n",
    "dTheta1_23 = jet1_boosted.deltaangle(jet2_boosted + jet3_boosted)\n",
    "\n"
   ]
  },
  {
   "cell_type": "code",
   "execution_count": null,
   "id": "1631aacb",
   "metadata": {
    "scrolled": false
   },
   "outputs": [],
   "source": [
    "plt.figure(figsize=(15,8))\n",
    "plt.subplot(2,2,1)\n",
    "plt.hist(ak.flatten(dPhi12), bins=100, range=(-4, 4));\n",
    "\n",
    "plt.subplot(2,2,2)\n",
    "plt.hist(ak.flatten(dPhi13), bins=100, range=(-4, 4));\n",
    "\n",
    "plt.subplot(2,2,3)\n",
    "plt.hist(ak.flatten(dPhi23), bins=100, range=(-4, 4));\n",
    "\n",
    "plt.subplot(2,2,4)\n",
    "plt.hist(ak.flatten(dPhi1_23), bins=100, range=(-4, 4));\n",
    "\n",
    "\n",
    "#'''\n",
    "plt.figure(figsize=(15,8))\n",
    "plt.subplot(2,2,1)\n",
    "plt.hist(ak.flatten(dTheta12), bins=100, range=(-4, 4));\n",
    "\n",
    "plt.subplot(2,2,2)\n",
    "plt.hist(ak.flatten(dTheta13), bins=100, range=(-4, 4));\n",
    "\n",
    "plt.subplot(2,2,3)\n",
    "plt.hist(ak.flatten(dTheta23), bins=100, range=(-4, 4));\n",
    "\n",
    "plt.subplot(2,2,4)\n",
    "plt.hist(ak.flatten(dTheta1_23), bins=100, range=(-4, 4));\n",
    "\n",
    "#''';"
   ]
  },
  {
   "cell_type": "code",
   "execution_count": null,
   "id": "6baf2a84",
   "metadata": {},
   "outputs": [],
   "source": [
    "mask_j1_gt_j2 = (jet1_boosted.pt > jet2_boosted.pt)"
   ]
  },
  {
   "cell_type": "code",
   "execution_count": null,
   "id": "5a0d8cbb",
   "metadata": {},
   "outputs": [],
   "source": [
    "plt.figure(figsize=(15,4))\n",
    "plt.subplot(1,3,1)\n",
    "plt.hist(ak.flatten(dPhi12[mask_j1_gt_j2]), bins=100, range=(-4, 4));\n",
    "\n",
    "#plt.subplot(1,3,2)\n",
    "#plt.hist(ak.flatten(dPhi13), bins=100, range=(-4, 4));\n",
    "\n",
    "#plt.subplot(1,3,3)\n",
    "#plt.hist(ak.flatten(dPhi23), bins=100, range=(-4, 4));\n",
    "\n"
   ]
  },
  {
   "cell_type": "code",
   "execution_count": null,
   "id": "7d9b2e75",
   "metadata": {},
   "outputs": [],
   "source": [
    "jet1_boosted.deltaangle(jet2_boosted)"
   ]
  },
  {
   "cell_type": "code",
   "execution_count": null,
   "id": "c0c111cf",
   "metadata": {},
   "outputs": [],
   "source": [
    "#for p4 in topp4.boostCM_of(topp4):\n",
    "#    print(p4)"
   ]
  },
  {
   "cell_type": "markdown",
   "id": "796cd60b",
   "metadata": {},
   "source": [
    "# Function to do things"
   ]
  },
  {
   "cell_type": "code",
   "execution_count": null,
   "id": "e464610a",
   "metadata": {},
   "outputs": [],
   "source": [
    "def event_hypothesis(jets):\n",
    "    had_p4 = jets[0] + jets[1] + jets[2]\n",
    "    \n",
    "    had_dR12 = jets[0].deltaR(jets[1])\n",
    "    had_dR13 = jets[0].deltaR(jets[2])\n",
    "    had_dR23 = jets[1].deltaR(jets[2])\n",
    "    had_dR1_23 = jets[0].deltaR(jets[1] + jets[2])\n",
    "    \n",
    "    had_p12 = jets[0] + jets[1]\n",
    "    had_p13 = jets[0] + jets[2]\n",
    "    had_p23 = jets[1] + jets[2]\n",
    "    \n",
    "    # btag\n",
    "    jets[0].btag\n",
    "    jets[1].btag\n",
    "    jets[2].btag\n",
    "\n",
    "    # Boost\n",
    "    boost_p4 = had_p4\n",
    "\n",
    "    boost_p4 = ak.with_field(boost_p4, 173.0, \"tau\")\n",
    "\n",
    "    jet1_boosted = jets[0].boostCM_of(boost_p4)\n",
    "    jet2_boosted = jets[1].boostCM_of(boost_p4)\n",
    "    jet3_boosted = jets[2].boostCM_of(boost_p4)\n",
    "    \n",
    "    had_dThetaCM12 = jet1_boosted.deltaangle(jet2_boosted)\n",
    "    had_dThetaCM13 = jet1_boosted.deltaangle(jet3_boosted)\n",
    "    had_dThetaCM23 = jet2_boosted.deltaangle(jet3_boosted)\n",
    "    had_dThetaCM1_23 = jet1_boosted.deltaangle(jet2_boosted + jet3_boosted)\n",
    "    \n",
    "    return had_p4.mass, had_p12.mass, had_p13.mass, had_p23.mass, \\\n",
    "           had_dR12, had_dR13, had_dR23, had_dR1_23, \\\n",
    "           had_dThetaCM12, had_dThetaCM13, had_dThetaCM23, had_dThetaCM1_23, \\\n",
    "           jets[0].btag, jets[1].btag, jets[2].btag\n",
    "\n",
    "    #p4_bnv = jets[3] + jets[4]"
   ]
  },
  {
   "cell_type": "code",
   "execution_count": null,
   "id": "0d27d31b",
   "metadata": {},
   "outputs": [],
   "source": [
    "min_njets = 5\n",
    "max_njets = 9\n",
    "\n",
    "mask_njets = (njet>=min_njets) & (njet<=max_njets)\n",
    "\n",
    "jets = ak.zip({\n",
    "    \"pt\": jet_branch_arrays[mask_njets][\"Jet_pt\"],\n",
    "    \"phi\": jet_branch_arrays[mask_njets][\"Jet_phi\"],\n",
    "    \"eta\": jet_branch_arrays[mask_njets][\"Jet_eta\"],\n",
    "    \"mass\": jet_branch_arrays[mask_njets][\"Jet_mass\"],\n",
    "    \"btag\": jet_branch_arrays[mask_njets][\"Jet_btagDeepB\"],\n",
    "}, with_name=\"Momentum4D\")\n",
    "\n",
    "had_combos = ak.combinations(jets, 5)\n",
    "#quad_charge = quads[\"0\"].charge + quads[\"1\"].charge + quads[\"2\"].charge + quads[\"3\"].charge\n",
    "\n",
    "pt_cut = 25\n",
    "\n",
    "mask_pt = (had_combos[\"0\"].pt>pt_cut) & (had_combos[\"1\"].pt>pt_cut) & (had_combos[\"2\"].pt>pt_cut) \\\n",
    "          & (had_combos[\"3\"].pt>pt_cut) & (had_combos[\"4\"].pt>pt_cut)\n",
    "\n",
    "jet1, jet2, jet3, jet4, jet5 = ak.unzip(had_combos[mask_pt])\n",
    "\n",
    "values = event_hypothesis([jet1, jet2, jet3, jet4, jet5])\n",
    "\n",
    "print(values)\n",
    "\n"
   ]
  },
  {
   "cell_type": "code",
   "execution_count": null,
   "id": "753720ff",
   "metadata": {},
   "outputs": [],
   "source": [
    "plt.figure(figsize=(16,12))\n",
    "\n",
    "for i in range(len(values)):\n",
    "    x = ak.flatten(values[i]).to_numpy()\n",
    "    print(len(x),x)\n",
    "    print(len(x[x==x]))\n",
    "    x[x==-np.inf] = -999\n",
    "    x[x==np.inf] = -999\n",
    "    plt.subplot(5,5,i+1)\n",
    "    plt.hist(x[x==x],bins=100)\n",
    "    "
   ]
  },
  {
   "cell_type": "markdown",
   "id": "e3257494",
   "metadata": {},
   "source": [
    "# Create some mock vectors for test"
   ]
  },
  {
   "cell_type": "code",
   "execution_count": null,
   "id": "0fb5e752",
   "metadata": {},
   "outputs": [],
   "source": [
    "def pmag(p3):\n",
    "    pmag = np.sqrt(p3[0]*p3[0] + p3[1]*p3[1] + p3[2]*p3[2])\n",
    "\n",
    "    return pmag\n",
    "\n",
    "\n",
    "################################################################################\n",
    "# Lorentz boost\n",
    "# \n",
    "# Test code\n",
    "\n",
    "# pmom = [200, 90,50,50]\n",
    "# rest_frame = pmom\n",
    "# print(lorentz_boost(pmom,rest_frame))\n",
    "#\n",
    "################################################################################\n",
    "def lorentz_boost(p4, rest_frame_p4, return_matrix=False, boost_matrix=None):\n",
    "\n",
    "    # Let's assume p4 will be a 4-vector and rest_frame_p4 will be\n",
    "    # a 4-element list [e,px,py,pz]\n",
    "\n",
    "    #print(\"HERE!\")\n",
    "    #print(p4)\n",
    "    #print(type(p4))\n",
    "    pmom = p4[0:4]\n",
    "    #pmom = [0,0,0,0]\n",
    "    #pmom[0] = p4['e']\n",
    "    #pmom[1] = p4['pz']\n",
    "    #pmom[2] = p4['py']\n",
    "    #pmom[3] = p4['pz']\n",
    "    '''\n",
    "    if type(p4) == list:\n",
    "        pmom = list(p4)\n",
    "    elif type(p4) == np.ndarray:\n",
    "        pmom = list(p4[0:4].tolist())\n",
    "    else:\n",
    "        pmom[0] = p4['e']\n",
    "        pmom[1] = p4['pz']\n",
    "        pmom[2] = p4['py']\n",
    "        pmom[3] = p4['pz']\n",
    "    '''\n",
    "\n",
    "    rest_frame = rest_frame_p4[0:4]\n",
    "    #rest_frame = [0,0,0,0]\n",
    "    #if type(rest_frame_p4) == list:\n",
    "        #rest_frame = list(rest_frame_p4)\n",
    "    #elif type(rest_frame_p4) == np.ndarray:\n",
    "        #rest_frame = list(rest_frame_p4[0:4].tolist())\n",
    "    #else:\n",
    "        #rest_frame[0] = rest_frame_p4['e']\n",
    "        #rest_frame[1] = rest_frame_p4['pz']\n",
    "        #rest_frame[2] = rest_frame_p4['py']\n",
    "        #rest_frame[3] = rest_frame_p4['pz']\n",
    "\n",
    "    L = boost_matrix\n",
    "\n",
    "    # If a matrix for the boost has not been passed in, then\n",
    "    # calculate the matrix using the rest frame 4-vector\n",
    "    if boost_matrix is None:\n",
    "        p = rest_frame\n",
    "        c = 1\n",
    "\n",
    "        pm = pmag(p[1:4])\n",
    "        #pmag = np.sqrt(p[1]*p[1] + p[2]*p[2] + p[3]*p[3])\n",
    "        #E = np.sqrt((pmag*c)**2 + (m*c**2)**2)\n",
    "        E = p[0]\n",
    "\n",
    "        beta = pm/E\n",
    "        betaX = p[1]/E\n",
    "        betaY = p[2]/E\n",
    "        betaZ = p[3]/E\n",
    "\n",
    "        beta2 = beta*beta\n",
    "\n",
    "        gamma = np.sqrt(1 / (1-beta2))\n",
    "\n",
    "        gamma_minus_1 = gamma-1\n",
    "\n",
    "        x = ((gamma_minus_1) * betaX) / beta2\n",
    "        y = ((gamma_minus_1) * betaY) / beta2\n",
    "        z = ((gamma_minus_1) * betaZ) / beta2\n",
    "\n",
    "        L = np.matrix([[gamma,      -gamma*betaX, -gamma*betaY, -gamma*betaZ],\n",
    "                    [-gamma*betaX,  1 + x*betaX,      x*betaY,      x*betaZ],\n",
    "                    [-gamma*betaY,      y*betaX,  1 + y*betaY,      y*betaZ],\n",
    "                    [-gamma*betaZ,      z*betaX,      z*betaY,  1 + z*betaZ]])\n",
    "\n",
    "    if return_matrix is True:\n",
    "        return L\n",
    "\n",
    "    # Moving particle that will be boosted\n",
    "    #vector = np.matrix([E,p[1],p[1],p[2]])\n",
    "    vector = np.matrix(pmom)\n",
    "\n",
    "    boosted_vec = L*np.matrix.transpose(vector)\n",
    "\n",
    "    return boosted_vec"
   ]
  },
  {
   "cell_type": "code",
   "execution_count": null,
   "id": "4c0db011",
   "metadata": {},
   "outputs": [],
   "source": [
    "pmom = [200, 90,50,50]\n",
    "rest_frame = pmom\n",
    "print(lorentz_boost(pmom,rest_frame))"
   ]
  },
  {
   "cell_type": "markdown",
   "id": "sealed-commons",
   "metadata": {},
   "source": [
    "# Question code"
   ]
  },
  {
   "cell_type": "code",
   "execution_count": null,
   "id": "republican-hearts",
   "metadata": {},
   "outputs": [],
   "source": [
    "import numpy as np\n",
    "import matplotlib.pylab as plt\n",
    "\n",
    "import uproot\n",
    "import awkward as ak\n",
    "\n",
    "import vector\n",
    "vector.register_awkward()\n"
   ]
  },
  {
   "cell_type": "code",
   "execution_count": null,
   "id": "valued-designation",
   "metadata": {},
   "outputs": [],
   "source": [
    "infile = uproot.open(\"/home/bellis/Downloads/SMHiggsToZZTo4L.root\")\n",
    "\n",
    "muon_branch_arrays = infile[\"Events\"].arrays(filter_name=\"Muon_*\")\n",
    "electron_branch_arrays = infile[\"Events\"].arrays(filter_name=\"Electron_*\")\n",
    "\n",
    "muons = ak.zip({\n",
    "    \"pt\": muon_branch_arrays[\"Muon_pt\"],\n",
    "    \"phi\": muon_branch_arrays[\"Muon_phi\"],\n",
    "    \"eta\": muon_branch_arrays[\"Muon_eta\"],\n",
    "    \"mass\": muon_branch_arrays[\"Muon_mass\"],\n",
    "    \"charge\": muon_branch_arrays[\"Muon_charge\"],\n",
    "}, with_name=\"Momentum4D\")\n",
    "\n",
    "quads = ak.combinations(muons, 4)\n",
    "mu1, mu2, mu3, mu4 = ak.unzip(quads)\n",
    "\n",
    "p4 = mu1 + mu2 + mu3 + mu4"
   ]
  },
  {
   "cell_type": "code",
   "execution_count": null,
   "id": "earned-momentum",
   "metadata": {},
   "outputs": [],
   "source": [
    "print(type(p4))"
   ]
  },
  {
   "cell_type": "code",
   "execution_count": null,
   "id": "standard-prevention",
   "metadata": {},
   "outputs": [],
   "source": [
    "ncounter = 0\n",
    "\n",
    "for m1,m2,m3,m4 in zip(mu1[3], mu2[3], mu3[3], mu4[3]):\n",
    "    print(\"-----\")\n",
    "    print(m1)\n",
    "    print(m2)\n",
    "    print(m3)\n",
    "    print(m4)\n",
    "    ncounter += 1\n",
    "    \n",
    "print(f\"ncounter: {ncounter}\")"
   ]
  },
  {
   "cell_type": "code",
   "execution_count": null,
   "id": "a598e66e",
   "metadata": {},
   "outputs": [],
   "source": [
    "p4['mass'] = 120"
   ]
  },
  {
   "cell_type": "code",
   "execution_count": null,
   "id": "77af9ca7",
   "metadata": {},
   "outputs": [],
   "source": [
    "p4 = mu1 + mu2 + mu3 + mu4\n",
    "\n",
    "print(p4[3][0].energy, p4[3][0].mass)\n",
    "\n",
    "p4 = ak.with_field(p4, 125.0, \"mass\")\n",
    "\n",
    "print(p4[3][0].energy, p4[3][0].mass)"
   ]
  },
  {
   "cell_type": "code",
   "execution_count": null,
   "id": "61ecfed7",
   "metadata": {},
   "outputs": [],
   "source": [
    "p4['tau'] = 125"
   ]
  },
  {
   "cell_type": "code",
   "execution_count": null,
   "id": "90c2fc6d",
   "metadata": {},
   "outputs": [],
   "source": [
    "p4 = mu1 + mu2 + mu3 + mu4\n",
    "for p in p4[3]:\n",
    "    print(p.energy)\n",
    "print(\"-----\")\n",
    "p4 = ak.with_field(p4, 125.0, \"tau\")\n",
    "\n",
    "for p in p4[3]:\n",
    "    print(p.energy)"
   ]
  },
  {
   "cell_type": "code",
   "execution_count": null,
   "id": "f7c7cc9b",
   "metadata": {},
   "outputs": [],
   "source": []
  },
  {
   "cell_type": "markdown",
   "id": "46709604",
   "metadata": {},
   "source": [
    "# Iterations"
   ]
  },
  {
   "cell_type": "code",
   "execution_count": null,
   "id": "6b9aec1d",
   "metadata": {},
   "outputs": [],
   "source": [
    "from itertools import combinations"
   ]
  },
  {
   "cell_type": "code",
   "execution_count": null,
   "id": "b6474a0b",
   "metadata": {},
   "outputs": [],
   "source": [
    "x = combinations(np.arange(1,6),5)\n",
    "for a,i in enumerate(x):\n",
    "    print(a,i)\n",
    "    print(i[0], i[1], i[2], \"  \", i[3], i[4])\n",
    "    print(i[0], i[1], i[3], \"  \", i[2], i[4])\n",
    "    print(i[0], i[1], i[4], \"  \", i[2], i[3])\n",
    "    print(i[0], i[2], i[3], \"  \", i[1], i[4])\n",
    "    print(i[0], i[2], i[4], \"  \", i[1], i[3])\n",
    "    print(i[0], i[3], i[4], \"  \", i[1], i[2])\n",
    "    print(i[1], i[2], i[3], \"  \", i[0], i[4])\n",
    "    print(i[1], i[2], i[4], \"  \", i[0], i[3])\n",
    "    print(i[1], i[3], i[4], \"  \", i[0], i[2])\n",
    "    print(i[2], i[3], i[4], \"  \", i[0], i[1])"
   ]
  },
  {
   "cell_type": "markdown",
   "id": "2c38113e",
   "metadata": {},
   "source": [
    "# Test jets and muons together"
   ]
  },
  {
   "cell_type": "code",
   "execution_count": null,
   "id": "250976d6",
   "metadata": {},
   "outputs": [],
   "source": [
    "infilename = '~/top_data/NANOAOD/Reza_signal/nAOD_step_BNV_TT_TSUE/NAOD-00000_190.root' # Also desktop home computer\n",
    "#infilename = \"~/Downloads/SMHiggsToZZTo4L.root\"\n",
    "\n",
    "infile = uproot.open(infilename)\n",
    "\n",
    "muon_branch_arrays = infile[\"Events\"].arrays(filter_name=\"Muon_*\")\n",
    "electron_branch_arrays = infile[\"Events\"].arrays(filter_name=\"Electron_*\")\n",
    "jet_branch_arrays = infile[\"Events\"].arrays(filter_name=\"Jet_*\")#[0:100]\n",
    "\n",
    "muons = ak.zip({\n",
    "    \"pt\": muon_branch_arrays[\"Muon_pt\"],\n",
    "    \"phi\": muon_branch_arrays[\"Muon_phi\"],\n",
    "    \"eta\": muon_branch_arrays[\"Muon_eta\"],\n",
    "    \"mass\": muon_branch_arrays[\"Muon_mass\"],\n",
    "    \"charge\": muon_branch_arrays[\"Muon_charge\"],\n",
    "}, with_name=\"Momentum4D\")\n",
    "\n",
    "electrons = ak.zip({\n",
    "    \"pt\": electron_branch_arrays[\"Electron_pt\"],\n",
    "    \"phi\": electron_branch_arrays[\"Electron_phi\"],\n",
    "    \"eta\": electron_branch_arrays[\"Electron_eta\"],\n",
    "    \"mass\": electron_branch_arrays[\"Electron_mass\"],\n",
    "    \"charge\": electron_branch_arrays[\"Electron_charge\"],\n",
    "}, with_name=\"Momentum4D\")\n",
    "\n",
    "jets = ak.zip({\n",
    "    \"pt\": jet_branch_arrays[\"Jet_pt\"],\n",
    "    \"phi\": jet_branch_arrays[\"Jet_phi\"],\n",
    "    \"eta\": jet_branch_arrays[\"Jet_eta\"],\n",
    "    \"mass\": jet_branch_arrays[\"Jet_mass\"],\n",
    "    \"btag\": jet_branch_arrays[\"Jet_btagDeepB\"],\n",
    "}, with_name=\"Momentum4D\")\n",
    "\n",
    "\n",
    "muons_plus = muons[muons.charge > 0]\n",
    "muons_minus = muons[muons.charge < 0]\n",
    "electrons_plus = electrons[electrons.charge > 0]\n",
    "electrons_minus = electrons[electrons.charge < 0]\n"
   ]
  },
  {
   "cell_type": "code",
   "execution_count": null,
   "id": "8a7c9158",
   "metadata": {},
   "outputs": [],
   "source": [
    "mu1, mu2, e1, e2 = ak.unzip(ak.cartesian([muons_plus, muons_minus, electrons_plus, electrons_minus]))\n",
    "plt.hist(ak.flatten((mu1 + mu2 + e1 + e2).mass), bins=100, range=(0, 200));"
   ]
  },
  {
   "cell_type": "code",
   "execution_count": null,
   "id": "a3b66d9c",
   "metadata": {},
   "outputs": [],
   "source": [
    "had_combos = ak.combinations(jets, 5)\n",
    "muon_combos = ak.combinations(muons, 1)\n",
    "\n",
    "jet1, jet2, jet3, jet4, jet5 = ak.unzip(had_combos)\n",
    "m1 = ak.unzip(muon_combos)\n",
    "\n",
    "#mu1, mu2, e1, e2 = ak.unzip(ak.cartesian([muons_plus, muons_minus, electrons_plus, electrons_minus]))\n",
    "#j1, j2, j3, j4, j5, muon = ak.unzip(ak.cartesian([had_combos, muon_combos]))\n",
    "#t = ak.cartesian([had_combos, muon_combos])\n",
    "j1, j2, j3, j4, j5, muon = ak.unzip(ak.cartesian([jet1,jet2,jet3,jet4,jet5,m1]))\n"
   ]
  },
  {
   "cell_type": "code",
   "execution_count": null,
   "id": "dd34e01f",
   "metadata": {},
   "outputs": [],
   "source": [
    "for i in t[3]:\n",
    "    print(i)"
   ]
  },
  {
   "cell_type": "code",
   "execution_count": null,
   "id": "df225a19",
   "metadata": {},
   "outputs": [],
   "source": [
    "len(muon_combos)"
   ]
  },
  {
   "cell_type": "code",
   "execution_count": null,
   "id": "481e9cfa",
   "metadata": {},
   "outputs": [],
   "source": [
    "len(had_combos)"
   ]
  },
  {
   "cell_type": "code",
   "execution_count": null,
   "id": "3675da5e",
   "metadata": {},
   "outputs": [],
   "source": [
    "had_combos"
   ]
  },
  {
   "cell_type": "code",
   "execution_count": null,
   "id": "2dd4fa34",
   "metadata": {},
   "outputs": [],
   "source": [
    "muon_combos"
   ]
  },
  {
   "cell_type": "markdown",
   "id": "divided-horizon",
   "metadata": {},
   "source": [
    "# Question for Jim"
   ]
  },
  {
   "cell_type": "code",
   "execution_count": null,
   "id": "graduate-edinburgh",
   "metadata": {},
   "outputs": [],
   "source": [
    "import numpy as np\n",
    "import matplotlib.pylab as plt\n",
    "import uproot\n",
    "import awkward as ak\n",
    "\n",
    "import vector\n",
    "\n",
    "import sys\n",
    "\n",
    "vector.register_awkward()"
   ]
  },
  {
   "cell_type": "code",
   "execution_count": null,
   "id": "889667ff",
   "metadata": {},
   "outputs": [],
   "source": [
    "#infilename = '/tmp/NAOD-00000_190.root'\n",
    "infilename = '/home/bellis/top_data/NANOAOD/Reza_signal/nAOD_step_BNV_TT_TSUE/NAOD-00000_190.root' # Also desktop home computer\n",
    "\n",
    "infile = uproot.open(infilename)\n",
    "\n",
    "#-------------------------------#\n",
    "\n",
    "njet = infile[\"Events\"][\"nJet\"].array()#[0:1000]\n",
    "nmuon = infile[\"Events\"][\"nMuon\"].array()#[0:1000]\n",
    "\n",
    "min_njets = 5\n",
    "max_njets = 8\n",
    "\n",
    "mask_njets = (njet>=min_njets) & (njet<=max_njets)\n",
    "#-------------------------------#\n",
    "\n",
    "muon_branch_arrays = infile[\"Events\"].arrays(filter_name=\"Muon_*\")#[0:1000]\n",
    "jet_branch_arrays = infile[\"Events\"].arrays(filter_name=\"Jet_*\")#[0:1000]\n",
    "\n",
    "muons = ak.zip({\n",
    "    \"pt\": muon_branch_arrays[mask_njets][\"Muon_pt\"],\n",
    "    \"phi\": muon_branch_arrays[mask_njets][\"Muon_phi\"],\n",
    "    \"eta\": muon_branch_arrays[mask_njets][\"Muon_eta\"],\n",
    "    \"mass\": muon_branch_arrays[mask_njets][\"Muon_mass\"],\n",
    "    \"charge\": muon_branch_arrays[mask_njets][\"Muon_charge\"],\n",
    "}, with_name=\"Momentum4D\")\n",
    "\n",
    "jets = ak.zip({\n",
    "    \"pt\": jet_branch_arrays[mask_njets][\"Jet_pt\"],\n",
    "    \"phi\": jet_branch_arrays[mask_njets][\"Jet_phi\"],\n",
    "    \"eta\": jet_branch_arrays[mask_njets][\"Jet_eta\"],\n",
    "    \"mass\": jet_branch_arrays[mask_njets][\"Jet_mass\"],\n",
    "    \"btag\": jet_branch_arrays[mask_njets][\"Jet_btagDeepB\"],\n",
    "}, with_name=\"Momentum4D\")\n",
    "\n",
    "jet_combos = ak.combinations(jets, 5)\n",
    "#muon_combos = ak.combinations(muons, 1)\n",
    "muon_combos = ak.zip((muons,))\n",
    "\n",
    "jet1, jet2, jet3, jet4, jet5 = ak.unzip(jet_combos)\n",
    "muon1 = ak.unzip(muon_combos)\n",
    "\n",
    "### Need this for later\n",
    "\n",
    "njet_masked = infile[\"Events\"][\"nJet\"].array()[mask_njets][0:1000]\n",
    "nmuon_masked = infile[\"Events\"][\"nMuon\"].array()[mask_njets][0:1000]"
   ]
  },
  {
   "cell_type": "code",
   "execution_count": null,
   "id": "90ca3d3d",
   "metadata": {},
   "outputs": [],
   "source": [
    "from itertools import combinations\n",
    "\n",
    "################################################################################\n",
    "# Generate the indices for the diferent combinations\n",
    "################################################################################\n",
    "def generate_event_topology_indices(njets,nleps,verbose=False):\n",
    "\n",
    "    index_combinations = []\n",
    "\n",
    "    if njets<5 or nleps<1:\n",
    "        return [[None,None,None,None,None,None]]\n",
    "\n",
    "    jetindices = np.arange(njets,dtype=int)\n",
    "    lepindices = np.arange(nleps,dtype=int)\n",
    "\n",
    "    x = combinations(jetindices,3)\n",
    "\n",
    "    for had in x:\n",
    "        remaining = np.delete(jetindices, np.argwhere( (jetindices==had[0]) | (jetindices==had[1]) | (jetindices==had[2]) ))\n",
    "        bnv = combinations(remaining,2)\n",
    "        for b in bnv:\n",
    "            for lep in lepindices:\n",
    "                index_combinations.append([had[0],had[1],had[2],b[0],b[1],lep])\n",
    "\n",
    "                if verbose:\n",
    "                    print(had,b,lep)\n",
    "\n",
    "    return np.array(index_combinations)\n"
   ]
  },
  {
   "cell_type": "code",
   "execution_count": null,
   "id": "eeddbcdd",
   "metadata": {},
   "outputs": [],
   "source": [
    "max(njet_masked)"
   ]
  },
  {
   "cell_type": "code",
   "execution_count": null,
   "id": "9f5d8931",
   "metadata": {},
   "outputs": [],
   "source": [
    "combos = []\n",
    "event_indices = []\n",
    "\n",
    "icount = 0\n",
    "for i,(nj,nm) in enumerate(zip(njet_masked,nmuon_masked)):\n",
    "    \n",
    "    combo = generate_event_topology_indices(njets=nj,nleps=nm)\n",
    "\n",
    "    if combo[0][0] is None:\n",
    "        continue\n",
    "    \n",
    "    for c in combo:\n",
    "        combos.append(np.array(c))\n",
    "    event_indices += (i*np.ones(len(combo),dtype=int)).tolist()\n",
    "    icount += 1\n",
    "\n",
    "combos = np.array(combos)"
   ]
  },
  {
   "cell_type": "code",
   "execution_count": null,
   "id": "fa26179c",
   "metadata": {},
   "outputs": [],
   "source": [
    "a = [1,2]\n",
    "b = [3,4]\n",
    "\n",
    "c = []\n",
    "c.append(a)\n",
    "c.append(b)\n",
    "\n",
    "print(c)\n",
    "\n",
    "c = np.array(c)\n",
    "\n",
    "print(c)\n",
    "print(c.transpose())"
   ]
  },
  {
   "cell_type": "code",
   "execution_count": null,
   "id": "fe7e85c4",
   "metadata": {},
   "outputs": [],
   "source": [
    "#tuple(event_indices)"
   ]
  },
  {
   "cell_type": "code",
   "execution_count": null,
   "id": "9fda0b4f",
   "metadata": {},
   "outputs": [],
   "source": [
    "for idx,combo in zip(event_indices[0:20],combos[0:20]):\n",
    "    print(idx,combo)"
   ]
  },
  {
   "cell_type": "code",
   "execution_count": null,
   "id": "fa638d23",
   "metadata": {},
   "outputs": [],
   "source": [
    "#combos.transpose()"
   ]
  },
  {
   "cell_type": "code",
   "execution_count": null,
   "id": "bc2b956a",
   "metadata": {},
   "outputs": [],
   "source": [
    "combos.shape"
   ]
  },
  {
   "cell_type": "code",
   "execution_count": null,
   "id": "37b9cf62",
   "metadata": {},
   "outputs": [],
   "source": [
    "n = combos.transpose()[0]\n",
    "n[n==7]"
   ]
  },
  {
   "cell_type": "code",
   "execution_count": null,
   "id": "cfcb4f32",
   "metadata": {},
   "outputs": [],
   "source": [
    "for j in jets[((0,0),(1,2))]:\n",
    "    print(j)"
   ]
  },
  {
   "cell_type": "code",
   "execution_count": null,
   "id": "8ad22347",
   "metadata": {},
   "outputs": [],
   "source": [
    "jet1 = jets[(event_indices,combos.transpose()[0])]\n",
    "jet2 = jets[(event_indices,combos.transpose()[1])]\n",
    "jet3 = jets[(event_indices,combos.transpose()[2])]\n",
    "jet4 = jets[(event_indices,combos.transpose()[3])]\n",
    "jet5 = jets[(event_indices,combos.transpose()[4])]\n",
    "\n",
    "muon = muons[(event_indices,combos.transpose()[5])]"
   ]
  },
  {
   "cell_type": "code",
   "execution_count": null,
   "id": "6dded8a1",
   "metadata": {},
   "outputs": [],
   "source": [
    "print(len(event_indices))\n",
    "print(len(j1),len(j2),len(muon))"
   ]
  },
  {
   "cell_type": "code",
   "execution_count": null,
   "id": "91d19978",
   "metadata": {},
   "outputs": [],
   "source": [
    "y = ak.Array([[0, 1, 2, 3], [10, 11, 12, 13]])\n",
    "\n",
    "index = ((1, 1, 0), (2, 3, 1))\n",
    "\n",
    "y[index]"
   ]
  },
  {
   "cell_type": "code",
   "execution_count": null,
   "id": "9b041913",
   "metadata": {},
   "outputs": [],
   "source": [
    "for j in jets[((0,1,2,2),(0,2,2,2))]:\n",
    "    print(j)"
   ]
  },
  {
   "cell_type": "code",
   "execution_count": null,
   "id": "deff4260",
   "metadata": {},
   "outputs": [],
   "source": [
    "ak.broadcast_arrays(jet1, muon1)"
   ]
  },
  {
   "cell_type": "code",
   "execution_count": null,
   "id": "8a5d7f98",
   "metadata": {},
   "outputs": [],
   "source": [
    "muons"
   ]
  },
  {
   "cell_type": "code",
   "execution_count": null,
   "id": "fdde345b",
   "metadata": {
    "scrolled": false
   },
   "outputs": [],
   "source": [
    "#jet_combos.to_list()"
   ]
  },
  {
   "cell_type": "code",
   "execution_count": null,
   "id": "declared-guitar",
   "metadata": {},
   "outputs": [],
   "source": [
    "x = ak.cartesian([jet_combos, muon_combos])\n",
    "\n",
    "#j1, j2, j3, j4, j5, muon = ak.cartesian([jet_combos, muon_combos])\n",
    "\n",
    "#j1, j2, j3, j4, j5, muon = ak.unzip(ak.cartesian([jet1,jet2,jet3,jet4,jet5,muon1]))"
   ]
  },
  {
   "cell_type": "code",
   "execution_count": null,
   "id": "26ec07ca",
   "metadata": {},
   "outputs": [],
   "source": [
    "jtemp, muontemp = ak.unzip(x)"
   ]
  },
  {
   "cell_type": "code",
   "execution_count": null,
   "id": "915a41b5",
   "metadata": {},
   "outputs": [],
   "source": [
    "j1, j2, j3, j4, j5 = ak.unzip(jtemp)\n",
    "m1 = ak.unzip(muontemp)"
   ]
  },
  {
   "cell_type": "code",
   "execution_count": null,
   "id": "65f21e8c",
   "metadata": {},
   "outputs": [],
   "source": [
    "print(len(j1),len(m1))"
   ]
  },
  {
   "cell_type": "code",
   "execution_count": null,
   "id": "2eb49887",
   "metadata": {},
   "outputs": [],
   "source": [
    "jets[0][0]"
   ]
  },
  {
   "cell_type": "code",
   "execution_count": null,
   "id": "992963d9",
   "metadata": {},
   "outputs": [],
   "source": [
    "combos5 = ak.combinations(jets, 5)\n",
    "combos2 = ak.combinations(combos5, 2)"
   ]
  },
  {
   "cell_type": "code",
   "execution_count": null,
   "id": "7d9a5304",
   "metadata": {},
   "outputs": [],
   "source": [
    "print(combos2[0][0][\"0\"][\"0\"])\n"
   ]
  },
  {
   "cell_type": "code",
   "execution_count": null,
   "id": "116d9f7d",
   "metadata": {},
   "outputs": [],
   "source": []
  },
  {
   "cell_type": "code",
   "execution_count": null,
   "id": "7354291a",
   "metadata": {},
   "outputs": [],
   "source": [
    "jet1,jet2,jet3,jet4,jet5 = ak.unzip(combos5)\n",
    "jet4,jet5 = ak.unzip(combos2)"
   ]
  },
  {
   "cell_type": "code",
   "execution_count": null,
   "id": "11f19c42",
   "metadata": {},
   "outputs": [],
   "source": [
    "jet1,jet2,jet3,jet4,jet5 = ak.unzip(combos5)\n",
    "jet4,jet5 = ak.unzip(combos2)\n",
    "muon1 = ak.unzip(muon_combos)\n",
    "\n",
    "j1, j2, j3, j4, j5, muon = ak.unzip(ak.cartesian([jet1,jet2,jet3,jet4,jet5,muon1]))"
   ]
  },
  {
   "cell_type": "code",
   "execution_count": null,
   "id": "aaa97681",
   "metadata": {},
   "outputs": [],
   "source": [
    "j1[0]"
   ]
  },
  {
   "cell_type": "code",
   "execution_count": null,
   "id": "d74e5f20",
   "metadata": {
    "scrolled": false
   },
   "outputs": [],
   "source": [
    "#for c in combos2:\n",
    "#    print(c)\n",
    "#    for i in c:\n",
    "#        print(i)"
   ]
  },
  {
   "cell_type": "code",
   "execution_count": null,
   "id": "c429a627",
   "metadata": {},
   "outputs": [],
   "source": [
    "len(x[3])"
   ]
  },
  {
   "cell_type": "code",
   "execution_count": null,
   "id": "b2ce25ab",
   "metadata": {},
   "outputs": [],
   "source": [
    "for i in range(0,5):\n",
    "    idx = str(i)\n",
    "    for j in range(0,5):\n",
    "        jdx = str(j)\n",
    "        print(i,j,x[3][0][idx][jdx])\n",
    "\n",
    "x[3][0][\"0\"][\"0\"].pt"
   ]
  },
  {
   "cell_type": "code",
   "execution_count": null,
   "id": "accomplished-bibliography",
   "metadata": {},
   "outputs": [],
   "source": [
    "x[3]\n",
    "\n",
    "for i in x[3]:\n",
    "    print(\"----\")\n",
    "    print(i)"
   ]
  },
  {
   "cell_type": "code",
   "execution_count": null,
   "id": "promotional-character",
   "metadata": {},
   "outputs": [],
   "source": [
    "#j1, j2, j3, j4, j5, muon = ak.unzip(ak.cartesian([jet1,jet2,jet3,jet4,jet5,m1]))"
   ]
  },
  {
   "cell_type": "code",
   "execution_count": null,
   "id": "necessary-region",
   "metadata": {},
   "outputs": [],
   "source": []
  },
  {
   "cell_type": "code",
   "execution_count": null,
   "id": "788c381f",
   "metadata": {},
   "outputs": [],
   "source": [
    "from itertools import combinations\n",
    "\n",
    "################################################################################\n",
    "# Generate the indices for the diferent combinations\n",
    "################################################################################\n",
    "def generate_event_topology_indices(njets,nleps,verbose=False):\n",
    "\n",
    "    index_combinations = []\n",
    "\n",
    "    if njets<5 or nleps<1:\n",
    "        return [None,None,None]\n",
    "\n",
    "    jetindices = np.arange(njets,dtype=int)\n",
    "    lepindices = np.arange(nleps,dtype=int)\n",
    "\n",
    "    x = combinations(jetindices,3)\n",
    "\n",
    "    #print(x)\n",
    "    for had in x:\n",
    "        #print(\"-------\")\n",
    "        #print(had)\n",
    "        # Remove those indices\n",
    "        remaining = np.delete(jetindices, np.argwhere( (jetindices==had[0]) | (jetindices==had[1]) | (jetindices==had[2]) ))\n",
    "        bnv = combinations(remaining,2)\n",
    "        for b in bnv:\n",
    "            for lep in lepindices:\n",
    "                index_combinations.append([had,b,lep])\n",
    "                if verbose:\n",
    "                    print(had,b,lep)\n",
    "\n",
    "    return index_combinations\n"
   ]
  },
  {
   "cell_type": "code",
   "execution_count": null,
   "id": "34175f05",
   "metadata": {},
   "outputs": [],
   "source": [
    "x = generate_event_topology_indices(njets=7,nleps=1)\n",
    "\n",
    "print(len(x))\n",
    "for i in x:\n",
    "    print(i)"
   ]
  },
  {
   "cell_type": "code",
   "execution_count": null,
   "id": "08f05ab7",
   "metadata": {},
   "outputs": [],
   "source": [
    "x = ak.Array([[\"A\", \"B\", \"C\", \"D\"], [\"Q\",\"X\", \"Y\",\"Z\"]])\n",
    "y = ak.Array([[\"1\", \"2\", \"3\", \"4\"]])\n",
    "\n",
    "#a = x[[[0,2],[0,3]],[[0]]]"
   ]
  },
  {
   "cell_type": "code",
   "execution_count": null,
   "id": "a10d1d5c",
   "metadata": {},
   "outputs": [],
   "source": [
    "vals = ak.broadcast_arrays(x,y)\n",
    "\n",
    "for val in vals:\n",
    "    print(val)"
   ]
  },
  {
   "cell_type": "code",
   "execution_count": null,
   "id": "d98e6ebe",
   "metadata": {},
   "outputs": [],
   "source": [
    "x.to_list()"
   ]
  },
  {
   "cell_type": "code",
   "execution_count": null,
   "id": "ad365664",
   "metadata": {},
   "outputs": [],
   "source": [
    "x[0,2]"
   ]
  },
  {
   "cell_type": "code",
   "execution_count": null,
   "id": "027b48c1",
   "metadata": {},
   "outputs": [],
   "source": [
    "x[0][2]"
   ]
  },
  {
   "cell_type": "code",
   "execution_count": null,
   "id": "e6fda462",
   "metadata": {},
   "outputs": [],
   "source": [
    "y = ak.Array([\"1\", \"2\", \"3\", \"4\"])\n",
    "\n",
    "\n",
    "ak.layout.IndexedArray32(ak.Array([0,2,3]),y)"
   ]
  },
  {
   "cell_type": "code",
   "execution_count": null,
   "id": "b4dd1939",
   "metadata": {},
   "outputs": [],
   "source": [
    "ak.layout.IndexedArray32([3, 5, 1, 1, 5, 3],\n",
    "             ak.layout.RawArray([8.9, 3.2, 5.4, 9.8, 7.5, 1.9]))"
   ]
  },
  {
   "cell_type": "code",
   "execution_count": null,
   "id": "416f20ed",
   "metadata": {},
   "outputs": [],
   "source": [
    "x = np.array([[0, 1, 2, 3], [10, 11, 12, 13]])"
   ]
  },
  {
   "cell_type": "code",
   "execution_count": null,
   "id": "6a649cbe",
   "metadata": {},
   "outputs": [],
   "source": [
    "x[[(1,2), (1,3)]]"
   ]
  },
  {
   "cell_type": "code",
   "execution_count": null,
   "id": "26d99a57",
   "metadata": {},
   "outputs": [],
   "source": [
    "x = np.array([[0, 1, 2, 3], [10, 11, 12, 13]])\n",
    "\n",
    "index_tuple = ([(1,2), (1,3), (0,1)])\n",
    "\n",
    "index = tuple(np.array(list(zip(*index_tuple))))\n",
    "\n",
    "x[index]"
   ]
  },
  {
   "cell_type": "code",
   "execution_count": null,
   "id": "dae42cf7",
   "metadata": {},
   "outputs": [],
   "source": [
    "x = np.array([[0, 1, 2, 3], [10, 11, 12, 13]])\n",
    "\n",
    "index = ((1, 1, 0), (2, 3, 1))\n",
    "\n",
    "x[index]"
   ]
  },
  {
   "cell_type": "code",
   "execution_count": null,
   "id": "cfcfe84c",
   "metadata": {},
   "outputs": [],
   "source": [
    "y = ak.Array([[0, 1, 2, 3], [10, 11, 12, 13]])\n",
    "\n",
    "index = ((1, 1, 0), (2, 3, 1))\n",
    "\n",
    "y[index]"
   ]
  },
  {
   "cell_type": "code",
   "execution_count": null,
   "id": "5e11dc70",
   "metadata": {},
   "outputs": [],
   "source": [
    "jets[index]"
   ]
  },
  {
   "cell_type": "markdown",
   "id": "ff507cbb",
   "metadata": {},
   "source": [
    "# Sorting stuff"
   ]
  },
  {
   "cell_type": "code",
   "execution_count": null,
   "id": "9177f6a0",
   "metadata": {},
   "outputs": [],
   "source": [
    "# Consider the following arrays. I want to be able to pull out the biggest values in each, the second biggest, \n",
    "# and the smallest \n",
    "\n",
    "x = np.array([12, 14, 19, 16, 22])\n",
    "y = np.array([10, 15, 18, 13, 20])\n",
    "z = np.array([ 8, 17, 17, 14, 21])\n",
    "\n",
    "print(x)\n",
    "print(y)\n",
    "print(z)\n",
    "print()\n",
    "\n",
    "# First I make a combined array\n",
    "combined = np.array([x,y,z])\n",
    "print('The 2D array of my original 1D arrays')\n",
    "print(combined,\"\\n\")\n",
    "\n",
    "\n",
    "# Then I transpose it. \n",
    "# When I print it, I can better see how things will be sorted\n",
    "combined_transposed = combined.transpose()\n",
    "print(combined_transposed,\"\\n\")\n",
    "\n",
    "# Now use argsort to get the indices of the smallest (0) to largest (2, in our case)\n",
    "idx = np.argsort(combined_transposed)\n",
    "print(\"The indices returned by argsort\")\n",
    "print(idx,\"\\n\")\n",
    "\n",
    "# Now we get the sorted \"rows\", one at at time. \n",
    "# Is there a better way to do this?????\n",
    "sorted_combined = []\n",
    "for i,c in zip(idx,combined_transposed):\n",
    "    #print(i,c,c[i])\n",
    "    sorted_combined.append(c[i])\n",
    "sorted_combined = np.array(sorted_combined)\n",
    "print(\"The sorted 2D array\")\n",
    "print(sorted_combined,\"\\n\")\n",
    "\n",
    "xsorted,ysorted,zsorted = sorted_combined.transpose()\n",
    "\n",
    "print(xsorted)\n",
    "print(ysorted)\n",
    "print(zsorted)\n",
    "\n",
    "print(\"\\n-------------------\\n\")\n",
    "\n",
    "## EDIT A faster way!!!!\n",
    "# https://stackoverflow.com/questions/16680334/using-numpy-argsort-and-take-in-2d-arrays\n",
    "\n",
    "x = np.array([12, 14, 19, 16, 22])\n",
    "y = np.array([10, 15, 18, 13, 20])\n",
    "z = np.array([ 8, 17, 17, 14, 21])\n",
    "\n",
    "# First I make a combined array\n",
    "combined_transposed = np.array([x,y,z]).transpose()\n",
    "\n",
    "# Now use argsort to get the indices of the smallest (0) to largest (2, in our case)\n",
    "idx = np.argsort(combined_transposed)\n",
    "\n",
    "xsort = np.take_along_axis(combined_transposed, idx, axis=1)\n",
    "print(xsort)\n",
    "print()\n",
    "\n",
    "xsorted,ysorted,zsorted = xsort.transpose()\n",
    "print(xsorted)\n",
    "print(ysorted)\n",
    "print(zsorted)\n",
    "\n"
   ]
  },
  {
   "cell_type": "code",
   "execution_count": null,
   "id": "31245286",
   "metadata": {},
   "outputs": [],
   "source": [
    "xsort = np.take_along_axis(combined_transposed, idx, axis=1)\n",
    "print(xsort)\n",
    "\n",
    "xsort = xsort.transpose()\n",
    "print(xsort)"
   ]
  },
  {
   "cell_type": "code",
   "execution_count": null,
   "id": "d10fd3ba",
   "metadata": {},
   "outputs": [],
   "source": []
  }
 ],
 "metadata": {
  "kernelspec": {
   "display_name": "Python 3 (ipykernel)",
   "language": "python",
   "name": "python3"
  },
  "language_info": {
   "codemirror_mode": {
    "name": "ipython",
    "version": 3
   },
   "file_extension": ".py",
   "mimetype": "text/x-python",
   "name": "python",
   "nbconvert_exporter": "python",
   "pygments_lexer": "ipython3",
   "version": "3.10.6"
  }
 },
 "nbformat": 4,
 "nbformat_minor": 5
}
