{
 "cells": [
  {
   "cell_type": "code",
   "execution_count": null,
   "id": "bbc0af58",
   "metadata": {},
   "outputs": [],
   "source": [
    "import numpy as np\n",
    "import matplotlib.pylab as plt\n",
    "import uproot\n",
    "import awkward as ak\n",
    "\n",
    "import vector\n",
    "\n",
    "import sys\n",
    "\n",
    "vector.register_awkward()\n",
    "\n",
    "import coffea\n",
    "\n",
    "from coffea.nanoevents import NanoEventsFactory, NanoAODSchema\n",
    "\n",
    "import itertools\n",
    "from itertools import combinations\n",
    "\n",
    "import nanoaod_analysis_tools as nat\n",
    "\n",
    "import time"
   ]
  },
  {
   "cell_type": "code",
   "execution_count": null,
   "id": "ee9a1d26",
   "metadata": {},
   "outputs": [],
   "source": [
    "print(f\"python: {sys.version}\\n\")\n",
    "\n",
    "print(f\"numpy:   {np.__version__}\")\n",
    "print(f\"uproot:  {uproot.__version__}\")\n",
    "print(f\"awkward: {ak.__version__}\")\n",
    "print(f\"vector:  {vector.__version__}\")\n",
    "print()\n",
    "\n",
    "print(f\"coffea:  {coffea.__version__}\")\n"
   ]
  },
  {
   "cell_type": "code",
   "execution_count": null,
   "id": "66b9e44a",
   "metadata": {},
   "outputs": [],
   "source": [
    "data_dir = '/home/bellis/top_data/NANOAOD/'\n",
    "\n",
    "# Laptop\n",
    "#infilename = 'small_skims_10k/TT_TToBCE_TuneCP5_BNV_2018_SMALL_10k.root'\n",
    "#infilename = 'TTToHadronic_UL_2018_SMALL_100k.root'\n",
    "\n",
    "# Beth Harmon\n",
    "#infilename = 'small_skims_1k/TTbarPowheg_Hadronic_2017_SMALL_1k.root'\n",
    "#infilename = 'TTToSemiLeptonic_UL_2018.root' # Also desktop home computer\n",
    "infilename = 'Reza_signal/nAOD_step_BNV_TT_TSUE/NAOD-00000_190.root' # Also desktop home computer, laptop\n",
    "\n",
    "# Desktop home computer\n",
    "#infilename = 'small_skims_1k/TTbarPowheg_Hadronic_2017_SMALL_1k.root'\n",
    "\n",
    "\n",
    "infile = uproot.open(data_dir + infilename)\n",
    "\n",
    "print(f\"Reading in {infilename}\") \n",
    "dataset_type, mc_type, trigger, topology, year = nat.extract_dataset_type_and_trigger_from_filename(infilename) \n",
    "print(f\"input file information:  dataset type: {dataset_type}   MC type: {mc_type}  trigger: {trigger}  topology: {topology}\")"
   ]
  },
  {
   "cell_type": "code",
   "execution_count": null,
   "id": "7daae0ee",
   "metadata": {},
   "outputs": [],
   "source": [
    "print(\"Processing data...\") \n",
    "\n",
    "start = time.time()\n",
    "\n",
    "events = NanoEventsFactory.from_root(data_dir + infilename, schemaclass=NanoAODSchema).events()\n",
    "\n",
    "print(len(events))\n",
    "\n",
    "genpart = events.GenPart\n",
    "\n",
    "topology = f\"had_{topology}\" \n",
    "\n",
    "verbose = True\n",
    "match_first = True\n",
    "\n",
    "match_first_tag = \"\"\n",
    "if match_first:\n",
    "    match_first_tag = \"_FIRST_MATCH\"\n",
    "\n",
    "event_truth_indices, truth_indices = nat.truth_matching_identify_genpart(genpart,topology=topology,verbose=verbose, match_first=match_first) \n",
    "\n",
    "truth_filename = f\"TRUTH_INFORMATION{match_first_tag}_{infilename.split('/')[-1].split('.root')[0]}.npz\" \n",
    "\n",
    "np.savez(truth_filename,event_truth_indices=event_truth_indices,truth_indices=truth_indices,allow_pickle=False)\n",
    "\n",
    "\n",
    "print(f\"time to process: {time.time()-start} seconds\")"
   ]
  },
  {
   "cell_type": "code",
   "execution_count": null,
   "id": "42177650",
   "metadata": {},
   "outputs": [],
   "source": [
    "################################################################################\n",
    "# Generate the indices for the diferent combinations\n",
    "################################################################################\n",
    "def generate_event_topology_indices(njets,nleps,verbose=False):\n",
    "\n",
    "    index_combinations = []\n",
    "\n",
    "    if njets<5 or nleps<1:\n",
    "        return [[None,None,None,None,None,None]]\n",
    "\n",
    "    jetindices = np.arange(njets,dtype=int)\n",
    "    lepindices = np.arange(nleps,dtype=int)\n",
    "\n",
    "    x = combinations(jetindices,3)\n",
    "\n",
    "    for had in x:\n",
    "        remaining = np.delete(jetindices, np.argwhere( (jetindices==had[0]) | (jetindices==had[1]) | (jetindices==had[2]) ))\n",
    "        bnv = combinations(remaining,2)\n",
    "        for b in bnv:\n",
    "            for lep in lepindices:\n",
    "                index_combinations.append([had[0],had[1],had[2],b[0],b[1],lep])\n",
    "\n",
    "                if verbose:\n",
    "                    print(had,b,lep)\n",
    "\n",
    "    return np.array(index_combinations)\n"
   ]
  },
  {
   "cell_type": "code",
   "execution_count": null,
   "id": "05512b14",
   "metadata": {},
   "outputs": [],
   "source": [
    "truth_data = np.load(truth_filename, allow_pickle=False)\n",
    "\n",
    "truth_indices = truth_data['truth_indices']\n",
    "event_truth_indices = truth_data['event_truth_indices']"
   ]
  },
  {
   "cell_type": "code",
   "execution_count": null,
   "id": "5bc1f0b8",
   "metadata": {},
   "outputs": [],
   "source": [
    "print(event_truth_indices)\n",
    "print()\n",
    "print(truth_indices)\n",
    "print()\n",
    "\n",
    "print(event_truth_indices.size, truth_indices.shape)"
   ]
  },
  {
   "cell_type": "code",
   "execution_count": null,
   "id": "477f8b51",
   "metadata": {},
   "outputs": [],
   "source": [
    "#events[event_truth_indices].fields\n",
    "\n",
    "print(len(events))\n",
    "print(len(events[event_truth_indices]))\n",
    "\n",
    "muons = events[event_truth_indices].Muon\n",
    "genparts = events[event_truth_indices].GenPart"
   ]
  },
  {
   "cell_type": "code",
   "execution_count": null,
   "id": "a05b74e6",
   "metadata": {},
   "outputs": [],
   "source": [
    "len(genparts)\n",
    "\n",
    "g = genparts[0][truth_indices][0]\n",
    "print(g)\n",
    "for a in g:\n",
    "    print(a.pdgId)\n",
    "    \n",
    "print(g.fields)"
   ]
  },
  {
   "cell_type": "code",
   "execution_count": null,
   "id": "1bfa689c",
   "metadata": {},
   "outputs": [],
   "source": [
    "genparts = events.GenPart\n",
    "jets = events.Jet\n",
    "\n",
    "gps = ak.zip({\n",
    "    \"pt\": genparts.pt,\n",
    "    \"phi\": genparts.phi,\n",
    "    \"eta\": genparts.eta,\n",
    "    \"status\": genparts.status,\n",
    "    \"pdgId\": genparts.pdgId,\n",
    "}, with_name=\"Momentum4D\")\n",
    "\n",
    "jts = ak.zip({\n",
    "    \"pt\": jets.pt,\n",
    "    \"phi\": jets.phi,\n",
    "    \"eta\": jets.eta,\n",
    "    \"mass\": jets.mass,\n",
    "    \"btag\": jets.btagDeepB,\n",
    "}, with_name=\"Momentum4D\")\n",
    "\n",
    "\n",
    "print(genparts)\n",
    "print(gps)\n",
    "print(jts)"
   ]
  },
  {
   "cell_type": "code",
   "execution_count": null,
   "id": "a6a1710c",
   "metadata": {},
   "outputs": [],
   "source": [
    "gps"
   ]
  },
  {
   "cell_type": "code",
   "execution_count": null,
   "id": "e7d3fa6f",
   "metadata": {},
   "outputs": [],
   "source": [
    "#gps.deltaR(jts)"
   ]
  },
  {
   "cell_type": "code",
   "execution_count": null,
   "id": "8bce7cdb",
   "metadata": {},
   "outputs": [],
   "source": [
    "print(event_truth_indices.size, truth_indices.shape)\n",
    "\n",
    "genparts = events.GenPart\n",
    "\n",
    "gen_hadb = genparts[(event_truth_indices, truth_indices.transpose()[0])]\n",
    "gen_hadWq1 = genparts[(event_truth_indices, truth_indices.transpose()[1])]\n",
    "gen_hadWq2 = genparts[(event_truth_indices, truth_indices.transpose()[2])]\n",
    "gen_bnvq1 = genparts[(event_truth_indices, truth_indices.transpose()[3])]\n",
    "gen_bnvq2 = genparts[(event_truth_indices, truth_indices.transpose()[4])]\n",
    "gen_bnvlep = genparts[(event_truth_indices, truth_indices.transpose()[5])]\n"
   ]
  },
  {
   "cell_type": "code",
   "execution_count": null,
   "id": "81e185fa",
   "metadata": {},
   "outputs": [],
   "source": [
    "#gen_hadb.nearest(events[event_truth_indices].Jet)\n",
    "#events[event_truth_indices].Jet"
   ]
  },
  {
   "cell_type": "code",
   "execution_count": null,
   "id": "64b37cdd",
   "metadata": {},
   "outputs": [],
   "source": [
    "matched_jet = genparts[event_truth_indices].nearest(events[event_truth_indices].Jet)\n",
    "\n",
    "matched_lep = genparts[event_truth_indices].nearest(events[event_truth_indices].Electron)"
   ]
  },
  {
   "cell_type": "code",
   "execution_count": null,
   "id": "90596fca",
   "metadata": {},
   "outputs": [],
   "source": [
    "# Need this for the index of each of our matched_jets\n",
    "# Because we masked, we go from 0, 1, 2, ....\n",
    "event_idx = np.arange(0,len(truth_indices))\n",
    "\n",
    "matched_hadb = matched_jet[(event_idx, truth_indices.transpose()[0])]\n",
    "matched_hadWq1 = matched_jet[(event_idx, truth_indices.transpose()[1])]\n",
    "matched_hadWq2 = matched_jet[(event_idx, truth_indices.transpose()[2])]\n",
    "matched_bnvq1 = matched_jet[(event_idx, truth_indices.transpose()[3])]\n",
    "matched_bnvq2 = matched_jet[(event_idx, truth_indices.transpose()[4])]\n",
    "matched_bnvlep = matched_lep[(event_idx, truth_indices.transpose()[5])]"
   ]
  },
  {
   "cell_type": "code",
   "execution_count": null,
   "id": "75acc0f9",
   "metadata": {},
   "outputs": [],
   "source": [
    "for i in range(0,10):\n",
    "    print(gen_hadb[i].pt, matched_hadb[i].pt, \"   \", gen_hadb[i].eta, matched_hadb[i].eta, \"    \", gen_hadb[i].phi, matched_hadb[i].phi)"
   ]
  },
  {
   "cell_type": "code",
   "execution_count": null,
   "id": "1316beb6",
   "metadata": {},
   "outputs": [],
   "source": [
    "vec_gen_hadb = vector.Array(gen_hadb)\n",
    "vec_gen_hadWq1 = vector.Array(gen_hadWq1)\n",
    "vec_gen_hadWq2 = vector.Array(gen_hadWq2)\n",
    "\n",
    "vec_gen_bnvq1 = vector.Array(gen_bnvq1)\n",
    "vec_gen_bnvq2 = vector.Array(gen_bnvq2)\n",
    "vec_gen_bnvlep = vector.Array(gen_bnvlep)\n",
    "\n",
    "\n",
    "#vec_gen_hadb\n",
    "\n",
    "vec_jets = vector.Array(events[event_truth_indices].Jet)\n",
    "vec_leps = vector.Array(events[event_truth_indices].Electron)\n",
    "\n",
    "\n",
    "#dR = vec_gen_hadb.deltaR(vec_jets)\n",
    "#dRlist = dR.tolist()\n",
    "\n",
    "#dpt = np.abs(vec_gen_hadb.pt - vec_jets.pt)\n",
    "\n",
    "#print(dpt[0])"
   ]
  },
  {
   "cell_type": "code",
   "execution_count": null,
   "id": "7dc49c02",
   "metadata": {},
   "outputs": [],
   "source": [
    "def match_jets_with_partons(vec_parton, vec_jets):\n",
    "    \n",
    "    dR = vec_parton.deltaR(vec_jets)\n",
    "    dRlist = dR.tolist()\n",
    "    \n",
    "    minvals = ak.min(dR,axis=1)\n",
    "    \n",
    "    matched_indices = []\n",
    "    N = len(vec_parton)\n",
    "\n",
    "    for i in range(N):\n",
    "        if i%10000==0:\n",
    "            print(i)\n",
    "        #print(dRlist[i], minvals[i])\n",
    "        idx = None\n",
    "        \n",
    "        # Sometimes there might not be a minvals because there were no\n",
    "        # reconstructed jets or muons or electrons\n",
    "        if minvals[i] is None:\n",
    "            idx = -1 # NEED TO DO SOMETHING BETTER\n",
    "        elif minvals[i]<10000.4:\n",
    "            idx = dRlist[i].index(minvals[i])\n",
    "            #idx = dR[i].tolist().index(a)\n",
    "        matched_indices.append(idx)\n",
    "    \n",
    "    return dR,np.array(matched_indices)"
   ]
  },
  {
   "cell_type": "code",
   "execution_count": null,
   "id": "5219e37d",
   "metadata": {},
   "outputs": [],
   "source": [
    "ak.min(vec_gen_bnvlep.deltaR(vec_leps),axis=1)"
   ]
  },
  {
   "cell_type": "code",
   "execution_count": null,
   "id": "2e570b91",
   "metadata": {},
   "outputs": [],
   "source": [
    "#'''\n",
    "# midx is matched-index\n",
    "dR1,midx_hadb = match_jets_with_partons(vec_gen_hadb, vec_jets)\n",
    "dR2,midx_hadWq1 = match_jets_with_partons(vec_gen_hadWq1, vec_jets)\n",
    "dR3,midx_hadWq2 = match_jets_with_partons(vec_gen_hadWq2, vec_jets)\n",
    "dR4,midx_bnvq1 = match_jets_with_partons(vec_gen_bnvq1, vec_jets)\n",
    "dR5,midx_bnvq2 = match_jets_with_partons(vec_gen_bnvq2, vec_jets)\n",
    "\n",
    "dR6,midx_bnvlep = match_jets_with_partons(vec_gen_bnvlep, vec_leps)\n",
    "\n",
    "#mask = (midx_hadb>=0) & (midx_hadWq1>=0) & (midx_hadWq2>=0) & \\\n",
    "#       (midx_bnvlep>=0) & (midx_bnvq1>=0) & (midx_bnvq2>=0)\n",
    "\n",
    "#event_idx = event_idx[mask]\n",
    "\n",
    "matched_hadb = vec_jets[(event_idx,midx_hadb)]#[mask])]\n",
    "matched_hadWq1 = vec_jets[(event_idx,midx_hadWq1)]#[mask])]\n",
    "matched_hadWq2 = vec_jets[(event_idx,midx_hadWq2)]#[mask])]\n",
    "\n",
    "matched_bnvq1 = vec_jets[(event_idx,midx_bnvq1)]#[mask])]\n",
    "matched_bnvq2 = vec_jets[(event_idx,midx_bnvq2)]#[mask])]\n",
    "matched_bnvlep = vec_leps[(event_idx,midx_bnvlep)]#[mask])]\n",
    "\n",
    "\n",
    "'''\n",
    "vec_gen_hadb = vec_gen_hadb[mask]\n",
    "vec_gen_hadWq1 = vec_gen_hadWq1[mask]\n",
    "vec_gen_hadWq2 = vec_gen_hadWq2[mask]\n",
    "\n",
    "vec_gen_bnvq1 = vec_gen_bnvq1[mask]\n",
    "vec_gen_bnvq2 = vec_gen_bnvq2[mask]\n",
    "vec_gen_bnvlep = vec_gen_bnvlep[mask]\n",
    "'''"
   ]
  },
  {
   "cell_type": "code",
   "execution_count": null,
   "id": "534305d9",
   "metadata": {},
   "outputs": [],
   "source": [
    "x = ak.Array([0, 1, 2, 3, 4])\n",
    "mask = x>2\n",
    "print(mask)\n",
    "\n",
    "print(x[mask])\n",
    "print(x.mask[mask])"
   ]
  },
  {
   "cell_type": "code",
   "execution_count": null,
   "id": "3cf822f4",
   "metadata": {},
   "outputs": [],
   "source": [
    "#midx\n",
    "#vec_leps[([0,1],[0,None])]\n",
    "bad_nones = midx >= 0"
   ]
  },
  {
   "cell_type": "code",
   "execution_count": null,
   "id": "8004d442",
   "metadata": {},
   "outputs": [],
   "source": [
    "# Check\n",
    "\n",
    "'''\n",
    "icount = 0\n",
    "for g,j in zip(vec_gen_hadb, matched_hadb):\n",
    "    print(f\"{g.pt:7.3f} {j.pt:7.3f} {np.abs(g.pt - j.pt)/g.pt:7.3f}   {g.eta:7.3f} {j.eta:7.3f}     {g.phi:7.3f} {j.phi:7.3f}   {g.deltaR(j):7.4f}\")\n",
    "    \n",
    "    if icount>20:\n",
    "        break\n",
    "    \n",
    "    icount += 1\n",
    "'''"
   ]
  },
  {
   "cell_type": "code",
   "execution_count": null,
   "id": "9168bf3d",
   "metadata": {},
   "outputs": [],
   "source": [
    "plt.hist(ak.min(dR1,axis=1),bins=100,range=(0,2.9));\n",
    "plt.hist(ak.min(dR2,axis=1),bins=100,range=(0,2.9));\n",
    "plt.hist(ak.min(dR3,axis=1),bins=100,range=(0,2.9));"
   ]
  },
  {
   "cell_type": "code",
   "execution_count": null,
   "id": "9cba9108",
   "metadata": {},
   "outputs": [],
   "source": [
    "plt.figure()\n",
    "dpt = vec_gen_hadb.pt - matched_hadb.pt\n",
    "plt.hist(dpt,bins=100,range=(-100,100));\n",
    "\n",
    "plt.figure()\n",
    "dpt = vec_gen_hadWq1.pt - matched_hadWq1.pt\n",
    "plt.hist(dpt,bins=100,range=(-100,100));\n",
    "\n",
    "plt.figure()\n",
    "dpt = vec_gen_hadWq2.pt - matched_hadWq2.pt\n",
    "plt.hist(dpt,bins=100,range=(-100,100));"
   ]
  },
  {
   "cell_type": "code",
   "execution_count": null,
   "id": "d12ecbff",
   "metadata": {},
   "outputs": [],
   "source": [
    "#minvals = ak.min(dR,axis=1)#.tolist()\n",
    "#\n",
    "#print(dR[0])"
   ]
  },
  {
   "cell_type": "code",
   "execution_count": null,
   "id": "8f60b620",
   "metadata": {},
   "outputs": [],
   "source": [
    "  "
   ]
  },
  {
   "cell_type": "code",
   "execution_count": null,
   "id": "f4f76548",
   "metadata": {},
   "outputs": [],
   "source": [
    "gen_top = vec_gen_hadb + vec_gen_hadWq1 + vec_gen_hadWq2\n",
    "\n",
    "plt.hist(gen_top.mass,bins=100,range=(50,300));"
   ]
  },
  {
   "cell_type": "code",
   "execution_count": null,
   "id": "4a8cc40e",
   "metadata": {},
   "outputs": [],
   "source": [
    "x = vec_gen_bnvlep.deltaR(matched_bnvlep)\n",
    "\n",
    "plt.hist(x,bins=100, range=(0,0.02));"
   ]
  },
  {
   "cell_type": "code",
   "execution_count": null,
   "id": "4671aa54",
   "metadata": {},
   "outputs": [],
   "source": [
    "mask = (vec_gen_bnvlep.deltaR(matched_bnvlep)<0.4) & \\\n",
    "       (vec_gen_bnvq1.deltaR(matched_bnvq1)<0.4) & \\\n",
    "       (vec_gen_bnvq2.deltaR(matched_bnvq2)<0.4) & \\\n",
    "       ((vec_gen_bnvlep.pt - matched_bnvlep.pt)/vec_gen_bnvlep.pt<3) & \\\n",
    "       ((vec_gen_bnvq1.pt - matched_bnvq1.pt)/vec_gen_bnvq1.pt<3) & \\\n",
    "       ((vec_gen_bnvq2.pt - matched_bnvq2.pt)/vec_gen_bnvq2.pt<3) & \\\n",
    "       (vec_gen_hadb.deltaR(matched_hadb)<0.4) & \\\n",
    "       (vec_gen_hadWq1.deltaR(matched_hadWq1)<0.4) & \\\n",
    "       (vec_gen_hadWq2.deltaR(matched_hadWq2)<0.4) & \\\n",
    "       ((vec_gen_hadb.pt - matched_hadb.pt)/vec_gen_hadb.pt<3) & \\\n",
    "       ((vec_gen_hadWq1.pt - matched_hadWq1.pt)/vec_gen_hadWq1.pt<3) & \\\n",
    "       ((vec_gen_hadWq2.pt - matched_hadWq2.pt)/vec_gen_hadWq2.pt<3)\n",
    "    \n",
    "    \n",
    "    \n",
    "gen_top = matched_hadb + matched_hadWq1 + matched_hadWq2\n",
    "#gen_top = matched_hadWq1 + matched_hadWq2\n",
    "\n",
    "\n",
    "print(len(gen_top.mass))\n",
    "print(len(gen_top.mass[mask]))\n",
    "\n",
    "plt.hist(gen_top.mass[mask],bins=100,range=(0,300));\n",
    "plt.plot([173,173],[0,1000],'k--')"
   ]
  },
  {
   "cell_type": "code",
   "execution_count": null,
   "id": "9a02d658",
   "metadata": {},
   "outputs": [],
   "source": [
    "'''\n",
    "mask = (vec_gen_bnvlep.deltaR(matched_bnvlep)<0.4) & \\\n",
    "       (vec_gen_bnvq1.deltaR(matched_bnvq1)<0.4) & \\\n",
    "       (vec_gen_bnvq2.deltaR(matched_bnvq2)<0.4) & \\\n",
    "       ((vec_gen_bnvlep.pt - matched_bnvlep.pt)/vec_gen_bnvlep.pt<3) & \\\n",
    "       ((vec_gen_bnvq1.pt - matched_bnvq1.pt)/vec_gen_bnvq1.pt<3) & \\\n",
    "       ((vec_gen_bnvq2.pt - matched_bnvq2.pt)/vec_gen_bnvq2.pt<3)\n",
    "'''\n",
    "gen_top = matched_bnvlep + matched_bnvq1 + matched_bnvq2\n",
    "#gen_top = matched_hadWq1 + matched_hadWq2\n",
    "\n",
    "print(len(gen_top.mass))\n",
    "print(len(gen_top.mass[mask]))\n",
    "\n",
    "\n",
    "plt.hist(gen_top.mass[mask],bins=100,range=(0,300));\n",
    "plt.plot([173,173],[0,1000],'k--')"
   ]
  },
  {
   "cell_type": "code",
   "execution_count": null,
   "id": "0db34eb0",
   "metadata": {},
   "outputs": [],
   "source": [
    "x = matched_jet[(np.arange(0,len(truth_indices)),truth_indices.transpose()[0])]\n",
    "\n",
    "print(x[0].pt, x[0].eta, x[0].phi)\n",
    "\n",
    "g = genparts[(event_truth_indices, truth_indices.transpose()[0])]\n",
    "print(g[0].pt, g[0].eta, g[0].phi)\n"
   ]
  },
  {
   "cell_type": "code",
   "execution_count": null,
   "id": "c74c936f",
   "metadata": {},
   "outputs": [],
   "source": [
    "b = matched_hadb[truth_indices.transpose()[0]]\n",
    "\n",
    "print(matched_hadb, len(matched_hadb))\n",
    "\n",
    "print(b,len(b))\n",
    "\n",
    "print(b[0])"
   ]
  },
  {
   "cell_type": "code",
   "execution_count": null,
   "id": "e4d1a50f",
   "metadata": {},
   "outputs": [],
   "source": [
    "len(matched_jet[0][truth_indices[0]])"
   ]
  },
  {
   "cell_type": "code",
   "execution_count": null,
   "id": "784c8c18",
   "metadata": {},
   "outputs": [],
   "source": [
    "for m in matched_jet[0][truth_indices[0]]:\n",
    "    print(m.pt)"
   ]
  },
  {
   "cell_type": "code",
   "execution_count": null,
   "id": "97aad8c9",
   "metadata": {},
   "outputs": [],
   "source": [
    "\n",
    "#genparts = events.GenPart\n",
    "#jets = events.Jet\n",
    "\n",
    "#nearjets = genparts.nearest(jets)\n",
    "\n",
    "'''\n",
    "icount = 0\n",
    "for i in g:\n",
    "    print(i)\n",
    "    for j in range(len(i)):\n",
    "        print(i[j].pt)\n",
    "    icount += 1\n",
    "\n",
    "    if icount>10:\n",
    "        break\n",
    "'''        \n",
    "'''\n",
    "for i in range(0,10):\n",
    "    print(\"----\")\n",
    "    eidx = event_truth_indices[i]\n",
    "    gidx = truth_indices[i]\n",
    "    for j,jet in enumerate(nearjets[eidx][gidx]):\n",
    "        gen = genparts[eidx][gidx][j]\n",
    "        dR = gen.deltaR(jet)\n",
    "        print(gen.pt,jet.pt)\n",
    "\n",
    "    #genparts[eidx].nearest(events.Jet[eidx])\n",
    "'''"
   ]
  },
  {
   "cell_type": "code",
   "execution_count": null,
   "id": "b4a39313",
   "metadata": {},
   "outputs": [],
   "source": [
    "#-------------------------------#\n",
    "\n",
    "njet = infile[\"Events\"][\"nJet\"].array()#[0:1000]\n",
    "nmuon = infile[\"Events\"][\"nMuon\"].array()#[0:1000]\n",
    "\n",
    "min_njets = 5\n",
    "max_njets = 8\n",
    "\n",
    "mask_njets = (njet>=min_njets) & (njet<=max_njets)\n",
    "#-------------------------------#\n",
    "\n",
    "\n",
    "muon_branch_arrays = infile[\"Events\"].arrays(filter_name=\"Muon_*\")#[0:1000]\n",
    "jet_branch_arrays = infile[\"Events\"].arrays(filter_name=\"Jet_*\")#[0:1000]\n",
    "\n",
    "muons = ak.zip({\n",
    "    \"pt\": muon_branch_arrays[mask_njets][\"Muon_pt\"],\n",
    "    \"phi\": muon_branch_arrays[mask_njets][\"Muon_phi\"],\n",
    "    \"eta\": muon_branch_arrays[mask_njets][\"Muon_eta\"],\n",
    "    \"mass\": muon_branch_arrays[mask_njets][\"Muon_mass\"],\n",
    "    \"charge\": muon_branch_arrays[mask_njets][\"Muon_charge\"],\n",
    "}, with_name=\"Momentum4D\")\n",
    "\n",
    "jets = ak.zip({\n",
    "    \"pt\": jet_branch_arrays[mask_njets][\"Jet_pt\"],\n",
    "    \"phi\": jet_branch_arrays[mask_njets][\"Jet_phi\"],\n",
    "    \"eta\": jet_branch_arrays[mask_njets][\"Jet_eta\"],\n",
    "    \"mass\": jet_branch_arrays[mask_njets][\"Jet_mass\"],\n",
    "    \"btagDeepB\": jet_branch_arrays[mask_njets][\"Jet_btagDeepB\"],\n",
    "}, with_name=\"Momentum4D\")\n",
    "\n",
    "jet_combos = ak.combinations(jets, 5)\n",
    "#muon_combos = ak.combinations(muons, 1)\n",
    "muon_combos = ak.zip((muons,))\n",
    "\n",
    "jet1, jet2, jet3, jet4, jet5 = ak.unzip(jet_combos)\n",
    "muon1 = ak.unzip(muon_combos)\n",
    "\n",
    "### Need this for later\n",
    "\n",
    "njet_masked = infile[\"Events\"][\"nJet\"].array()[mask_njets]#[0:1000]\n",
    "nmuon_masked = infile[\"Events\"][\"nMuon\"].array()[mask_njets]#[0:1000]"
   ]
  },
  {
   "cell_type": "code",
   "execution_count": null,
   "id": "7b6b743c",
   "metadata": {},
   "outputs": [],
   "source": [
    "print(len(njet), len(njet_masked))"
   ]
  },
  {
   "cell_type": "code",
   "execution_count": null,
   "id": "ee9037ad",
   "metadata": {},
   "outputs": [],
   "source": [
    "# Generate the combinations\n",
    "\n",
    "combos = []\n",
    "event_indices = []\n",
    "\n",
    "icount = 0\n",
    "for i,(nj,nm) in enumerate(zip(njet_masked,nmuon_masked)):\n",
    "    \n",
    "    combo = generate_event_topology_indices(njets=nj,nleps=nm)\n",
    "\n",
    "    if combo[0][0] is None:\n",
    "        continue\n",
    "    \n",
    "    for c in combo:\n",
    "        combos.append(np.array(c))\n",
    "    event_indices += (i*np.ones(len(combo),dtype=int)).tolist()\n",
    "    icount += 1\n",
    "\n",
    "combos = np.array(combos)\n",
    "\n",
    "print(combos.shape)"
   ]
  },
  {
   "cell_type": "code",
   "execution_count": null,
   "id": "b346a555",
   "metadata": {},
   "outputs": [],
   "source": [
    "print(event_indices[0:10])\n",
    "print(combos[0:10])\n",
    "\n",
    "print()\n",
    "print(len(event_indices), combos.shape)"
   ]
  },
  {
   "cell_type": "code",
   "execution_count": null,
   "id": "5d40d305",
   "metadata": {},
   "outputs": [],
   "source": [
    "jet1 = jets[(event_indices,combos.transpose()[0])]\n",
    "jet2 = jets[(event_indices,combos.transpose()[1])]\n",
    "jet3 = jets[(event_indices,combos.transpose()[2])]\n",
    "jet4 = jets[(event_indices,combos.transpose()[3])]\n",
    "jet5 = jets[(event_indices,combos.transpose()[4])]\n",
    "\n",
    "muon = muons[(event_indices,combos.transpose()[5])]"
   ]
  },
  {
   "cell_type": "code",
   "execution_count": null,
   "id": "c49ed118",
   "metadata": {},
   "outputs": [],
   "source": [
    "def top_variables(jets, decay_type='had'):    \n",
    "    \n",
    "    # btag\n",
    "    var1 = jets[0].btagDeepB\n",
    "    var2 = jets[1].btagDeepB\n",
    "    var3 = None\n",
    "    if decay_type == 'had':\n",
    "        var3 = jets[2].btagDeepB\n",
    "    elif decay_type == 'bnv':\n",
    "        var3 = jets[2].charge\n",
    "        \n",
    "    # Boost to CM of 3-jet (or 2-jet + lepton) system\n",
    "    top_p4 = jets[0] + jets[1] + jets[2]\n",
    "    boost_p4 = top_p4\n",
    "    \n",
    "    boost_p4 = ak.with_field(boost_p4, 173.0, \"tau\")\n",
    "\n",
    "    jet1_boosted = jets[0].boostCM_of(boost_p4)\n",
    "    jet2_boosted = jets[1].boostCM_of(boost_p4)\n",
    "    jet3_boosted = jets[2].boostCM_of(boost_p4)\n",
    "\n",
    "    # Need to do this so we only sort the 2 jets for bnv decays\n",
    "    if decay_type=='had':\n",
    "\n",
    "        # Sort things by the magnitude of momentum in the top-CM frame    \n",
    "        sort_by = np.array([jet1_boosted.mag, jet2_boosted.mag, jet3_boosted.mag]).transpose()\n",
    "        idx = np.argsort(sort_by)\n",
    "\n",
    "        # Sort these \"backward\" because we want the highest momentum first\n",
    "        array_to_sort = sort_by\n",
    "        jet3_boosted_mag,jet2_boosted_mag,jet1_boosted_mag = np.take_along_axis(array_to_sort, idx, axis=1).transpose()\n",
    "\n",
    "        # Sort these \"backward\" because we want the highest momentum first\n",
    "        array_to_sort = np.array([jets[0], jets[1], jets[2]]).transpose()\n",
    "        jet3,jet2,jet1 = np.take_along_axis(array_to_sort, idx, axis=1).transpose()\n",
    "\n",
    "\n",
    "        # Sort these \"backward\" because we want the highest momentum first\n",
    "        array_to_sort = np.array([jet1_boosted, jet2_boosted, jet3_boosted]).transpose()\n",
    "        jet3_boosted,jet2_boosted,jet1_boosted = np.take_along_axis(array_to_sort, idx, axis=1).transpose()\n",
    "\n",
    "        # Sort these \"backward\" because we want the highest momentum first\n",
    "        array_to_sort = np.array([var1, var2, var3]).transpose()\n",
    "        var3, var2, var1 = np.take_along_axis(array_to_sort, idx, axis=1).transpose()\n",
    "\n",
    "        # Convert back to awkward\n",
    "        jet1 = ak.Array(jet1,with_name=\"Momentum4D\")\n",
    "        jet2 = ak.Array(jet2,with_name=\"Momentum4D\")\n",
    "        jet3 = ak.Array(jet3,with_name=\"Momentum4D\")\n",
    "\n",
    "        jet1_boosted = ak.Array(jet1_boosted,with_name=\"Momentum4D\")\n",
    "        jet2_boosted = ak.Array(jet2_boosted,with_name=\"Momentum4D\")\n",
    "        jet3_boosted = ak.Array(jet3_boosted,with_name=\"Momentum4D\")\n",
    "\n",
    "        '''\n",
    "        #jet1_pt,jet2_pt,jet3_pt = jet1.pt,jet2.pt,jet3.pt\n",
    "        print(type(jet1))\n",
    "        print(jet1.fields)\n",
    "        jet1_pt = jet1.rho # This is pt\n",
    "        jet2_pt = None\n",
    "        jet3_pt = None\n",
    "        #array_to_sort = np.array([jet1_boosted.pt, jet2_boosted.pt,jet3_boosted.pt]).transpose()\n",
    "        jet1_boosted_pt,jet2_boosted_pt,jet3_boosted_pt = jet1_boosted.pt, jet2_boosted.pt,jet3_boosted.pt#np.take_along_axis(array_to_sort, idx, axis=1).transpose()\n",
    "\n",
    "        had_dR12 = jet1.deltaR(jet2)\n",
    "        had_dR13 = jet1.deltaR(jet3)\n",
    "        had_dR23 = jet2.deltaR(jet3)\n",
    "        had_dR1_23 = jet1.deltaR(jet2 + jet3)\n",
    "\n",
    "        had_p12 = jet1 + jet2\n",
    "        had_p13 = jet1 + jet3\n",
    "        had_p23 = jet2 + jet3\n",
    "\n",
    "        had_dThetaCM12 = jet1_boosted.deltaangle(jet2_boosted)\n",
    "        had_dThetaCM13 = jet1_boosted.deltaangle(jet3_boosted)\n",
    "        had_dThetaCM23 = jet2_boosted.deltaangle(jet3_boosted)\n",
    "        had_dThetaCM1_23 = jet1_boosted.deltaangle(jet2_boosted + jet3_boosted)\n",
    "        '''\n",
    "        \n",
    "    elif decay_type=='bnv':\n",
    "   \n",
    "        # Sort things by the magnitude of momentum in the top-CM frame    \n",
    "        sort_by = np.array([jet1_boosted.mag, jet2_boosted.mag]).transpose()\n",
    "        idx = np.argsort(sort_by)\n",
    "\n",
    "        # Sort these \"backward\" because we want the highest momentum first\n",
    "        array_to_sort = sort_by\n",
    "        jet2_boosted_mag,jet1_boosted_mag = np.take_along_axis(array_to_sort, idx, axis=1).transpose()\n",
    "        jet3_boosted_mag = jet3_boosted.mag\n",
    "\n",
    "        # Sort these \"backward\" because we want the highest momentum first\n",
    "        array_to_sort = np.array([jets[0], jets[1]]).transpose()\n",
    "        jet2,jet1 = np.take_along_axis(array_to_sort, idx, axis=1).transpose()\n",
    "        jet3 = jets[2]\n",
    "\n",
    "        # Sort these \"backward\" because we want the highest momentum first\n",
    "        array_to_sort = np.array([jet1_boosted, jet2_boosted]).transpose()\n",
    "        jet2_boosted,jet1_boosted = np.take_along_axis(array_to_sort, idx, axis=1).transpose()\n",
    "\n",
    "        # Sort these \"backward\" because we want the highest momentum first\n",
    "        array_to_sort = np.array([var1, var2]).transpose()\n",
    "        var2, var1 = np.take_along_axis(array_to_sort, idx, axis=1).transpose()\n",
    "\n",
    "        # Convert back to awkward\n",
    "        jet1 = ak.Array(jet1,with_name=\"Momentum4D\")\n",
    "        jet2 = ak.Array(jet2,with_name=\"Momentum4D\")\n",
    "        jet3 = ak.Array(jet3,with_name=\"Momentum4D\")\n",
    "\n",
    "        jet1_boosted = ak.Array(jet1_boosted,with_name=\"Momentum4D\")\n",
    "        jet2_boosted = ak.Array(jet2_boosted,with_name=\"Momentum4D\")\n",
    "        jet3_boosted = ak.Array(jet3_boosted,with_name=\"Momentum4D\")\n",
    "\n",
    "    #jet1_pt,jet2_pt,jet3_pt = jet1.pt,jet2.pt,jet3.pt\n",
    "    #print(type(jet1))\n",
    "    #print(jet1.fields)\n",
    "    jet1_pt = jet1.rho # This is pt\n",
    "    jet2_pt = jet1.rho\n",
    "    jet3_pt = jet1.rho\n",
    "    #array_to_sort = np.array([jet1_boosted.pt, jet2_boosted.pt,jet3_boosted.pt]).transpose()\n",
    "    jet1_boosted_pt,jet2_boosted_pt,jet3_boosted_pt = jet1_boosted.pt, jet2_boosted.pt,jet3_boosted.pt#np.take_along_axis(array_to_sort, idx, axis=1).transpose()\n",
    "\n",
    "    dR12 = jet1.deltaR(jet2)\n",
    "    dR13 = jet1.deltaR(jet3)\n",
    "    dR23 = jet2.deltaR(jet3)\n",
    "    dR1_23 = jet1.deltaR(jet2 + jet3)\n",
    "    dR3_12 = jet3.deltaR(jet1 + jet2)\n",
    "\n",
    "\n",
    "    p12 = jet1 + jet2\n",
    "    p13 = jet1 + jet3\n",
    "    p23 = jet2 + jet3\n",
    "\n",
    "    dThetaCM12 = jet1_boosted.deltaangle(jet2_boosted)\n",
    "    dThetaCM13 = jet1_boosted.deltaangle(jet3_boosted)\n",
    "    dThetaCM23 = jet2_boosted.deltaangle(jet3_boosted)\n",
    "    dThetaCM1_23 = jet1_boosted.deltaangle(jet2_boosted + jet3_boosted)\n",
    "    dThetaCM3_12 = jet3_boosted.deltaangle(jet1_boosted + jet2_boosted)\n",
    "\n",
    "    #xsorted,ysorted,zsorted = xsort.transpose()\n",
    "    \n",
    "    return top_p4.mass, p12.mass, p13.mass, p23.mass, \\\n",
    "           dR12, dR13, dR23, dR1_23, dR3_12,\\\n",
    "           dThetaCM12, dThetaCM13, dThetaCM23, dThetaCM1_23, dThetaCM3_12, \\\n",
    "           jet1_boosted_pt, jet2_boosted_pt, jet3_boosted_pt, \\\n",
    "           jet1_boosted_mag, jet2_boosted_mag, jet3_boosted_mag, \\\n",
    "           var1, var2, var3\n",
    "\n",
    "\n",
    "def event_hypothesis(jets, lepton):\n",
    "    had_p4 = jets[0] + jets[1] + jets[2]\n",
    "    bnv_p4 = jets[3] + jets[4] + lepton\n",
    "    \n",
    "    angle = had_p4.deltaangle(bnv_p4)\n",
    "\n",
    "    had_variables = top_variables([jets[0], jets[1], jets[2]], decay_type='had')\n",
    "    print(\"Calculated the hadronic variables\")\n",
    "    #print(type(jets[3]))\n",
    "    bnv_variables = top_variables([jets[3], jets[4], lepton], decay_type='bnv')\n",
    "    print(\"Calculated the BNV variables\")\n",
    "    \n",
    "    return had_variables, bnv_variables, angle\n",
    "\n"
   ]
  },
  {
   "cell_type": "code",
   "execution_count": null,
   "id": "5e4c1e77",
   "metadata": {},
   "outputs": [],
   "source": [
    "#x = vector.Array(matched_hadb)\n",
    "x = vector.Array({\"eta\":matched_hadb.eta,\\\n",
    "                  \"rho\":matched_hadb.rho, \\\n",
    "                  \"phi\": matched_hadb.phi, \\\n",
    "                  \"mass\":matched_hadb.tau, \\\n",
    "                  \"btagDeepB\":matched_hadb.btagDeepB} \\\n",
    "                 , with_name=\"Momentum4D\")\n",
    "\n",
    "y = vector.Array({\"eta\":matched_hadWq1.eta,\\\n",
    "                  \"rho\":matched_hadWq1.rho, \\\n",
    "                  \"phi\": matched_hadWq1.phi, \\\n",
    "                  \"mass\":matched_hadWq1.tau, \\\n",
    "                  \"btagDeepB\":matched_hadWq1.btagDeepB} \\\n",
    "                 , with_name=\"Momentum4D\")\n",
    "\n",
    "z = vector.Array({\"eta\":matched_hadWq2.eta,\\\n",
    "                  \"rho\":matched_hadWq2.rho, \\\n",
    "                  \"phi\": matched_hadWq2.phi, \\\n",
    "                  \"mass\":matched_hadWq2.tau, \\\n",
    "                  \"btagDeepB\":matched_hadWq2.btagDeepB} \\\n",
    "                 , with_name=\"Momentum4D\")\n",
    "\n",
    "had_variables = top_variables([x,y,z], decay_type='had')\n",
    "\n",
    "x"
   ]
  },
  {
   "cell_type": "code",
   "execution_count": null,
   "id": "f0486001",
   "metadata": {},
   "outputs": [],
   "source": [
    "had_variables"
   ]
  },
  {
   "cell_type": "code",
   "execution_count": null,
   "id": "d3a9a7cd",
   "metadata": {},
   "outputs": [],
   "source": [
    "#matched_hadb.fields\n",
    "#matched_bnvlep.fields\n",
    "print(type(matched_hadb))\n",
    "print(type(jet1))\n",
    "\n",
    "len(jet1)\n",
    "len(matched_hadb)"
   ]
  },
  {
   "cell_type": "code",
   "execution_count": null,
   "id": "a623af2f",
   "metadata": {},
   "outputs": [],
   "source": [
    "#had_variables, bnv_variables, angle = event_hypothesis([jet1, jet2, jet3, jet4, jet5], muon)\n",
    "\n",
    "\n",
    "had_variables, bnv_variables, angle = event_hypothesis([matched_hadb, matched_hadWq1, matched_hadWq2, matched_bnvq1, matched_bnvq2], matched_bnvlep)\n"
   ]
  },
  {
   "cell_type": "code",
   "execution_count": null,
   "id": "2f62eb29",
   "metadata": {},
   "outputs": [],
   "source": [
    "#values[2]"
   ]
  },
  {
   "cell_type": "code",
   "execution_count": null,
   "id": "879b2f9d",
   "metadata": {
    "scrolled": false
   },
   "outputs": [],
   "source": [
    "for values in [had_variables]:#, bnv_variables]:\n",
    "    plt.figure(figsize=(16,12))\n",
    "\n",
    "    for i in range(len(values)):\n",
    "        #x = ak.flatten(values[i]).to_numpy()   \n",
    "        #print(type(values[i]))\n",
    "        x = values[i]\n",
    "        if type(x) == ak.highlevel.Array:\n",
    "            x = values[i].to_numpy()\n",
    "        #print(type(x))\n",
    "\n",
    "        #print(len(x),x)\n",
    "        #print(len(x[x==x]))\n",
    "        x[x==-np.inf] = -999\n",
    "        x[x==np.inf] = -999\n",
    "        plt.subplot(5,5,i+1)\n",
    "        if i>=15 and i<=17:\n",
    "            plt.hist(x[x==x],bins=100,range=(0,250))\n",
    "        elif i>=1 and i<=3:\n",
    "            plt.hist(x[x==x],bins=100,range=(0,150))\n",
    "        else:\n",
    "            plt.hist(x[x==x],bins=100)\n",
    "\n",
    "#plt.figure()\n",
    "#plt.hist(np.cos(angle),bins=100);"
   ]
  },
  {
   "cell_type": "code",
   "execution_count": null,
   "id": "5932e6b8",
   "metadata": {},
   "outputs": [],
   "source": [
    "plt.hist(np.unique(had_variables[-3]),bins=100,range=(-3,3));#, range=(0,1200));"
   ]
  },
  {
   "cell_type": "code",
   "execution_count": null,
   "id": "d8715ed1",
   "metadata": {},
   "outputs": [],
   "source": [
    "plt.hist(had_variables[-6],bins=100,range=(0,250));\n",
    "plt.hist(had_variables[-5],bins=100,range=(0,250),alpha=0.6);\n",
    "plt.hist(had_variables[-4],bins=100,range=(0,250),alpha=0.4);"
   ]
  },
  {
   "cell_type": "code",
   "execution_count": null,
   "id": "a8c68fd2",
   "metadata": {},
   "outputs": [],
   "source": [
    "plt.hist(had_variables[-9],bins=100,range=(0,150));\n",
    "plt.hist(had_variables[-8],bins=100,range=(0,150),alpha=0.6);\n",
    "plt.hist(had_variables[-7],bins=100,range=(0,150),alpha=0.4);"
   ]
  },
  {
   "cell_type": "code",
   "execution_count": null,
   "id": "2e3604f0",
   "metadata": {},
   "outputs": [],
   "source": [
    "x = values[0]"
   ]
  },
  {
   "cell_type": "code",
   "execution_count": null,
   "id": "fb724dca",
   "metadata": {},
   "outputs": [],
   "source": [
    "x.to_numpy()"
   ]
  },
  {
   "cell_type": "code",
   "execution_count": null,
   "id": "c656bc04",
   "metadata": {},
   "outputs": [],
   "source": [
    "x = ak.Array([12, 14, 19, 16]).to_numpy()\n",
    "y = ak.Array([10, 15, 18, 13]).to_numpy()"
   ]
  },
  {
   "cell_type": "code",
   "execution_count": null,
   "id": "34154827",
   "metadata": {},
   "outputs": [],
   "source": [
    "z = np.array([x,y])"
   ]
  },
  {
   "cell_type": "code",
   "execution_count": null,
   "id": "3ab891a1",
   "metadata": {},
   "outputs": [],
   "source": [
    "zt = z.transpose()"
   ]
  },
  {
   "cell_type": "code",
   "execution_count": null,
   "id": "4f6b8c1d",
   "metadata": {},
   "outputs": [],
   "source": [
    "idx = np.argsort(zt).transpose()"
   ]
  },
  {
   "cell_type": "code",
   "execution_count": null,
   "id": "78a61dc6",
   "metadata": {},
   "outputs": [],
   "source": [
    "idx"
   ]
  },
  {
   "cell_type": "code",
   "execution_count": null,
   "id": "df3ca717",
   "metadata": {},
   "outputs": [],
   "source": [
    "x[idx[0]==0]"
   ]
  }
 ],
 "metadata": {
  "kernelspec": {
   "display_name": "Python 3 (ipykernel)",
   "language": "python",
   "name": "python3"
  },
  "language_info": {
   "codemirror_mode": {
    "name": "ipython",
    "version": 3
   },
   "file_extension": ".py",
   "mimetype": "text/x-python",
   "name": "python",
   "nbconvert_exporter": "python",
   "pygments_lexer": "ipython3",
   "version": "3.9.12"
  }
 },
 "nbformat": 4,
 "nbformat_minor": 5
}
