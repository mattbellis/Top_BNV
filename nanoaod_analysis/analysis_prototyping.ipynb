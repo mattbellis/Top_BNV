{
 "cells": [
  {
   "cell_type": "code",
   "execution_count": null,
   "id": "bbc0af58",
   "metadata": {},
   "outputs": [],
   "source": [
    "import numpy as np\n",
    "import matplotlib.pylab as plt\n",
    "import uproot\n",
    "import awkward as ak\n",
    "\n",
    "import vector\n",
    "\n",
    "import sys\n",
    "\n",
    "vector.register_awkward()\n",
    "\n",
    "import coffea\n",
    "\n",
    "from coffea.nanoevents import NanoEventsFactory\n",
    "\n",
    "import itertools\n",
    "from itertools import combinations"
   ]
  },
  {
   "cell_type": "code",
   "execution_count": null,
   "id": "ee9a1d26",
   "metadata": {},
   "outputs": [],
   "source": [
    "print(f\"python: {sys.version}\\n\")\n",
    "\n",
    "print(f\"numpy:   {np.__version__}\")\n",
    "print(f\"uproot:  {uproot.__version__}\")\n",
    "print(f\"awkward: {ak.__version__}\")\n",
    "print(f\"vector:  {vector.__version__}\")\n",
    "print()\n",
    "\n",
    "print(f\"coffea:  {coffea.__version__}\")\n"
   ]
  },
  {
   "cell_type": "code",
   "execution_count": null,
   "id": "66b9e44a",
   "metadata": {},
   "outputs": [],
   "source": [
    "data_dir = '/home/bellis/top_data/NANOAOD/'\n",
    "\n",
    "# Laptop\n",
    "#infilename = 'small_skims_10k/TT_TToBCE_TuneCP5_BNV_2018_SMALL_10k.root'\n",
    "#infilename = 'TTToHadronic_UL_2018_SMALL_100k.root'\n",
    "\n",
    "# Beth Harmon\n",
    "#infilename = 'small_skims_1k/TTbarPowheg_Hadronic_2017_SMALL_1k.root'\n",
    "#infilename = 'TTToSemiLeptonic_UL_2018.root' # Also desktop home computer\n",
    "#infilename = 'Reza_signal/nAOD_step_BNV_TT_TSUE/NAOD-00000_190.root' # Also desktop home computer\n",
    "\n",
    "# Desktop home computer\n",
    "infilename = 'small_skims_1k/TTbarPowheg_Hadronic_2017_SMALL_1k.root'\n",
    "\n",
    "\n",
    "\n",
    "infile = uproot.open(data_dir + infilename)\n"
   ]
  },
  {
   "cell_type": "code",
   "execution_count": null,
   "id": "42177650",
   "metadata": {},
   "outputs": [],
   "source": [
    "################################################################################\n",
    "# Generate the indices for the diferent combinations\n",
    "################################################################################\n",
    "def generate_event_topology_indices(njets,nleps,verbose=False):\n",
    "\n",
    "    index_combinations = []\n",
    "\n",
    "    if njets<5 or nleps<1:\n",
    "        return [[None,None,None,None,None,None]]\n",
    "\n",
    "    jetindices = np.arange(njets,dtype=int)\n",
    "    lepindices = np.arange(nleps,dtype=int)\n",
    "\n",
    "    x = combinations(jetindices,3)\n",
    "\n",
    "    for had in x:\n",
    "        remaining = np.delete(jetindices, np.argwhere( (jetindices==had[0]) | (jetindices==had[1]) | (jetindices==had[2]) ))\n",
    "        bnv = combinations(remaining,2)\n",
    "        for b in bnv:\n",
    "            for lep in lepindices:\n",
    "                index_combinations.append([had[0],had[1],had[2],b[0],b[1],lep])\n",
    "\n",
    "                if verbose:\n",
    "                    print(had,b,lep)\n",
    "\n",
    "    return np.array(index_combinations)\n"
   ]
  },
  {
   "cell_type": "code",
   "execution_count": null,
   "id": "b4a39313",
   "metadata": {},
   "outputs": [],
   "source": [
    "#-------------------------------#\n",
    "\n",
    "njet = infile[\"Events\"][\"nJet\"].array()#[0:1000]\n",
    "nmuon = infile[\"Events\"][\"nMuon\"].array()#[0:1000]\n",
    "\n",
    "min_njets = 5\n",
    "max_njets = 8\n",
    "\n",
    "mask_njets = (njet>=min_njets) & (njet<=max_njets)\n",
    "#-------------------------------#\n",
    "\n",
    "muon_branch_arrays = infile[\"Events\"].arrays(filter_name=\"Muon_*\")#[0:1000]\n",
    "jet_branch_arrays = infile[\"Events\"].arrays(filter_name=\"Jet_*\")#[0:1000]\n",
    "\n",
    "muons = ak.zip({\n",
    "    \"pt\": muon_branch_arrays[mask_njets][\"Muon_pt\"],\n",
    "    \"phi\": muon_branch_arrays[mask_njets][\"Muon_phi\"],\n",
    "    \"eta\": muon_branch_arrays[mask_njets][\"Muon_eta\"],\n",
    "    \"mass\": muon_branch_arrays[mask_njets][\"Muon_mass\"],\n",
    "    \"charge\": muon_branch_arrays[mask_njets][\"Muon_charge\"],\n",
    "}, with_name=\"Momentum4D\")\n",
    "\n",
    "jets = ak.zip({\n",
    "    \"pt\": jet_branch_arrays[mask_njets][\"Jet_pt\"],\n",
    "    \"phi\": jet_branch_arrays[mask_njets][\"Jet_phi\"],\n",
    "    \"eta\": jet_branch_arrays[mask_njets][\"Jet_eta\"],\n",
    "    \"mass\": jet_branch_arrays[mask_njets][\"Jet_mass\"],\n",
    "    \"btag\": jet_branch_arrays[mask_njets][\"Jet_btagDeepB\"],\n",
    "}, with_name=\"Momentum4D\")\n",
    "\n",
    "jet_combos = ak.combinations(jets, 5)\n",
    "#muon_combos = ak.combinations(muons, 1)\n",
    "muon_combos = ak.zip((muons,))\n",
    "\n",
    "jet1, jet2, jet3, jet4, jet5 = ak.unzip(jet_combos)\n",
    "muon1 = ak.unzip(muon_combos)\n",
    "\n",
    "### Need this for later\n",
    "\n",
    "njet_masked = infile[\"Events\"][\"nJet\"].array()[mask_njets]#[0:1000]\n",
    "nmuon_masked = infile[\"Events\"][\"nMuon\"].array()[mask_njets]#[0:1000]"
   ]
  },
  {
   "cell_type": "code",
   "execution_count": null,
   "id": "7b6b743c",
   "metadata": {},
   "outputs": [],
   "source": [
    "print(len(njet), len(njet_masked))"
   ]
  },
  {
   "cell_type": "code",
   "execution_count": null,
   "id": "ee9037ad",
   "metadata": {},
   "outputs": [],
   "source": [
    "# Generate the combinations\n",
    "\n",
    "combos = []\n",
    "event_indices = []\n",
    "\n",
    "icount = 0\n",
    "for i,(nj,nm) in enumerate(zip(njet_masked,nmuon_masked)):\n",
    "    \n",
    "    combo = generate_event_topology_indices(njets=nj,nleps=nm)\n",
    "\n",
    "    if combo[0][0] is None:\n",
    "        continue\n",
    "    \n",
    "    for c in combo:\n",
    "        combos.append(np.array(c))\n",
    "    event_indices += (i*np.ones(len(combo),dtype=int)).tolist()\n",
    "    icount += 1\n",
    "\n",
    "combos = np.array(combos)\n",
    "\n",
    "print(combos.shape)"
   ]
  },
  {
   "cell_type": "code",
   "execution_count": null,
   "id": "5d40d305",
   "metadata": {},
   "outputs": [],
   "source": [
    "jet1 = jets[(event_indices,combos.transpose()[0])]\n",
    "jet2 = jets[(event_indices,combos.transpose()[1])]\n",
    "jet3 = jets[(event_indices,combos.transpose()[2])]\n",
    "jet4 = jets[(event_indices,combos.transpose()[3])]\n",
    "jet5 = jets[(event_indices,combos.transpose()[4])]\n",
    "\n",
    "muon = muons[(event_indices,combos.transpose()[5])]"
   ]
  },
  {
   "cell_type": "code",
   "execution_count": null,
   "id": "c49ed118",
   "metadata": {},
   "outputs": [],
   "source": [
    "def top_variables(jets, decay_type='had'):    \n",
    "    had_dR12 = jets[0].deltaR(jets[1])\n",
    "    had_dR13 = jets[0].deltaR(jets[2])\n",
    "    had_dR23 = jets[1].deltaR(jets[2])\n",
    "    had_dR1_23 = jets[0].deltaR(jets[1] + jets[2])\n",
    "    \n",
    "    had_p12 = jets[0] + jets[1]\n",
    "    had_p13 = jets[0] + jets[2]\n",
    "    had_p23 = jets[1] + jets[2]\n",
    "    \n",
    "    # btag\n",
    "    var1 = jets[0].btag\n",
    "    var2 = jets[1].btag\n",
    "    var3 = None\n",
    "    if decay_type == 'had':\n",
    "        var3 = jets[2].btag\n",
    "    elif decay_type == 'bnv':\n",
    "        var3 = jets[2].charge\n",
    "        \n",
    "    # Boost\n",
    "    top_p4 = jets[0] + jets[1] + jets[2]\n",
    "    boost_p4 = top_p4\n",
    "    \n",
    "    boost_p4 = ak.with_field(boost_p4, 173.0, \"tau\")\n",
    "\n",
    "    jet1_boosted = jets[0].boostCM_of(boost_p4)\n",
    "    jet2_boosted = jets[1].boostCM_of(boost_p4)\n",
    "    jet3_boosted = jets[2].boostCM_of(boost_p4)\n",
    "    \n",
    "    had_dThetaCM12 = jet1_boosted.deltaangle(jet2_boosted)\n",
    "    had_dThetaCM13 = jet1_boosted.deltaangle(jet3_boosted)\n",
    "    had_dThetaCM23 = jet2_boosted.deltaangle(jet3_boosted)\n",
    "    had_dThetaCM1_23 = jet1_boosted.deltaangle(jet2_boosted + jet3_boosted)\n",
    "    \n",
    "    # Sort things by the magnitude of momentum in the top-CM frame    \n",
    "    sort_by = np.array([jet1_boosted.mag, jet2_boosted.mag, jet3_boosted.mag]).transpose()\n",
    "    idx = np.argsort(sort_by)\n",
    "    array_to_sort = sort_by\n",
    "    jet3_boosted_mag,jet2_boosted_mag,jet1_boosted_mag = np.take_along_axis(array_to_sort, idx, axis=1).transpose()\n",
    "    \n",
    "    array_to_sort = np.array([jet1.pt, jet2.pt,jet3.pt]).transpose()\n",
    "    jet3_pt,jet2_pt,jet1_pt = np.take_along_axis(array_to_sort, idx, axis=1).transpose()\n",
    "\n",
    "    array_to_sort = np.array([jet1_boosted.pt, jet2_boosted.pt,jet3_boosted.pt]).transpose()\n",
    "    jet3_boosted_pt,jet2_boosted_pt,jet1_boosted_pt = np.take_along_axis(array_to_sort, idx, axis=1).transpose()\n",
    "\n",
    "    array_to_sort = np.array([var1, var2, var3]).transpose()\n",
    "    var3, var2, var1 = np.take_along_axis(array_to_sort, idx, axis=1).transpose()\n",
    "\n",
    "    \n",
    "    #xsorted,ysorted,zsorted = xsort.transpose()\n",
    "    \n",
    "    return top_p4.mass, had_p12.mass, had_p13.mass, had_p23.mass, \\\n",
    "           had_dR12, had_dR13, had_dR23, had_dR1_23, \\\n",
    "           had_dThetaCM12, had_dThetaCM13, had_dThetaCM23, had_dThetaCM1_23, \\\n",
    "           jet1_boosted_pt, jet2_boosted_pt, jet3_boosted_pt, \\\n",
    "           jet1_boosted_mag, jet2_boosted_mag, jet3_boosted_mag, \\\n",
    "           var1, var2, var3\n",
    "\n",
    "\n",
    "def event_hypothesis(jets, lepton):\n",
    "    had_p4 = jets[0] + jets[1] + jets[2]\n",
    "    bnv_p4 = jets[3] + jets[4] + lepton\n",
    "    \n",
    "    angle = had_p4.deltaangle(bnv_p4)\n",
    "\n",
    "    had_variables = top_variables([jets[0], jets[1], jets[2]], decay_type='had')\n",
    "    bnv_variables = top_variables([jets[3], jets[4], lepton], decay_type='bnv')\n",
    "    \n",
    "    return had_variables, bnv_variables, angle\n",
    "\n"
   ]
  },
  {
   "cell_type": "code",
   "execution_count": null,
   "id": "a623af2f",
   "metadata": {},
   "outputs": [],
   "source": [
    "had_variables, bnv_variables, angle = event_hypothesis([jet1, jet2, jet3, jet4, jet5], muon)\n"
   ]
  },
  {
   "cell_type": "code",
   "execution_count": null,
   "id": "2f62eb29",
   "metadata": {},
   "outputs": [],
   "source": [
    "#values[2]"
   ]
  },
  {
   "cell_type": "code",
   "execution_count": null,
   "id": "879b2f9d",
   "metadata": {
    "scrolled": false
   },
   "outputs": [],
   "source": [
    "for values in [had_variables, bnv_variables]:\n",
    "    plt.figure(figsize=(16,12))\n",
    "\n",
    "    for i in range(len(values)):\n",
    "        #x = ak.flatten(values[i]).to_numpy()   \n",
    "        #print(type(values[i]))\n",
    "        x = values[i]\n",
    "        if type(x) == ak.highlevel.Array:\n",
    "            x = values[i].to_numpy()\n",
    "        #print(type(x))\n",
    "\n",
    "        #print(len(x),x)\n",
    "        #print(len(x[x==x]))\n",
    "        x[x==-np.inf] = -999\n",
    "        x[x==np.inf] = -999\n",
    "        plt.subplot(5,5,i+1)\n",
    "        if i>=15 and i<=17:\n",
    "            plt.hist(x[x==x],bins=100,range=(0,250))\n",
    "        else:\n",
    "            plt.hist(x[x==x],bins=100)\n",
    "\n",
    "plt.figure()\n",
    "plt.hist(np.cos(angle),bins=100);"
   ]
  },
  {
   "cell_type": "code",
   "execution_count": null,
   "id": "5932e6b8",
   "metadata": {},
   "outputs": [],
   "source": [
    "plt.hist(np.unique(had_variables[-3]),bins=100,range=(-3,3));#, range=(0,1200));"
   ]
  },
  {
   "cell_type": "code",
   "execution_count": null,
   "id": "d8715ed1",
   "metadata": {},
   "outputs": [],
   "source": [
    "plt.hist(had_variables[-6],bins=100,range=(0,250));\n",
    "plt.hist(had_variables[-5],bins=100,range=(0,250),alpha=0.6);\n",
    "plt.hist(had_variables[-4],bins=100,range=(0,250),alpha=0.4);"
   ]
  },
  {
   "cell_type": "code",
   "execution_count": null,
   "id": "a8c68fd2",
   "metadata": {},
   "outputs": [],
   "source": [
    "plt.hist(had_variables[-9],bins=100,range=(0,150));\n",
    "plt.hist(had_variables[-8],bins=100,range=(0,150),alpha=0.6);\n",
    "plt.hist(had_variables[-7],bins=100,range=(0,150),alpha=0.4);"
   ]
  },
  {
   "cell_type": "code",
   "execution_count": null,
   "id": "2e3604f0",
   "metadata": {},
   "outputs": [],
   "source": [
    "x = values[0]"
   ]
  },
  {
   "cell_type": "code",
   "execution_count": null,
   "id": "fb724dca",
   "metadata": {},
   "outputs": [],
   "source": [
    "x.to_numpy()"
   ]
  },
  {
   "cell_type": "code",
   "execution_count": null,
   "id": "c656bc04",
   "metadata": {},
   "outputs": [],
   "source": [
    "x = ak.Array([12, 14, 19, 16]).to_numpy()\n",
    "y = ak.Array([10, 15, 18, 13]).to_numpy()"
   ]
  },
  {
   "cell_type": "code",
   "execution_count": null,
   "id": "34154827",
   "metadata": {},
   "outputs": [],
   "source": [
    "z = np.array([x,y])"
   ]
  },
  {
   "cell_type": "code",
   "execution_count": null,
   "id": "3ab891a1",
   "metadata": {},
   "outputs": [],
   "source": [
    "zt = z.transpose()"
   ]
  },
  {
   "cell_type": "code",
   "execution_count": null,
   "id": "4f6b8c1d",
   "metadata": {},
   "outputs": [],
   "source": [
    "idx = np.argsort(zt).transpose()"
   ]
  },
  {
   "cell_type": "code",
   "execution_count": null,
   "id": "78a61dc6",
   "metadata": {},
   "outputs": [],
   "source": [
    "idx"
   ]
  },
  {
   "cell_type": "code",
   "execution_count": null,
   "id": "df3ca717",
   "metadata": {},
   "outputs": [],
   "source": [
    "x[idx[0]==0]"
   ]
  },
  {
   "cell_type": "code",
   "execution_count": null,
   "id": "2e651ec7",
   "metadata": {},
   "outputs": [],
   "source": [
    "pt1 = had_variables[-6].to_numpy()\n",
    "pt2 = had_variables[-5].to_numpy()\n",
    "pt3 = had_variables[-4].to_numpy()\n",
    "\n",
    "boosted_pts = np.array([pt1, pt2, pt3])"
   ]
  },
  {
   "cell_type": "code",
   "execution_count": null,
   "id": "b467bdd0",
   "metadata": {},
   "outputs": [],
   "source": [
    "idx = np.argsort(boosted_pts.transpose()).transpose()\n",
    "\n",
    "idx[0]==0"
   ]
  },
  {
   "cell_type": "code",
   "execution_count": null,
   "id": "766dc5b8",
   "metadata": {},
   "outputs": [],
   "source": []
  },
  {
   "cell_type": "code",
   "execution_count": null,
   "id": "4f2dafbf",
   "metadata": {},
   "outputs": [],
   "source": [
    "idx[0][idx[0]==1]"
   ]
  },
  {
   "cell_type": "code",
   "execution_count": null,
   "id": "8656160c",
   "metadata": {},
   "outputs": [],
   "source": [
    "sort_pt1 = []\n",
    "sort_pt2 = []\n",
    "sort_pt3 = []\n",
    "\n",
    "sort_pt3 += pt1[idx[0]==0].tolist()\n",
    "sort_pt3 += pt2[idx[1]==0].tolist()\n",
    "sort_pt3 += pt3[idx[2]==0].tolist()\n",
    "\n",
    "sort_pt2 += pt1[idx[0]==1].tolist()\n",
    "sort_pt2 += pt2[idx[1]==1].tolist()\n",
    "sort_pt2 += pt3[idx[2]==1].tolist()\n",
    "\n",
    "sort_pt1 += pt1[idx[0]==2].tolist()\n",
    "sort_pt1 += pt2[idx[1]==2].tolist()\n",
    "sort_pt1+= pt3[idx[2]==2].tolist()"
   ]
  },
  {
   "cell_type": "code",
   "execution_count": null,
   "id": "c9b7a54d",
   "metadata": {},
   "outputs": [],
   "source": [
    "pt1[idx[0]==2]"
   ]
  },
  {
   "cell_type": "code",
   "execution_count": null,
   "id": "edfea724",
   "metadata": {
    "scrolled": true
   },
   "outputs": [],
   "source": [
    "plt.hist(sort_pt1,bins=100,range=(0,250));\n",
    "plt.hist(sort_pt2,bins=100,range=(0,250),alpha=0.4);\n",
    "plt.hist(sort_pt3,bins=100,range=(0,250),alpha=0.4);"
   ]
  },
  {
   "cell_type": "code",
   "execution_count": null,
   "id": "da99fe27",
   "metadata": {},
   "outputs": [],
   "source": [
    "m12 = had_variables[1].to_numpy()\n",
    "m13 = had_variables[2].to_numpy()\n",
    "m23 = had_variables[3].to_numpy()"
   ]
  },
  {
   "cell_type": "code",
   "execution_count": null,
   "id": "c0c76817",
   "metadata": {},
   "outputs": [],
   "source": [
    "# 1 2 3\n",
    "# 2 3 1\n",
    "# 3 1 2\n",
    "\n",
    "# 1 3 2\n",
    "# 2 1 3\n",
    "# 3 2 1\n"
   ]
  },
  {
   "cell_type": "code",
   "execution_count": null,
   "id": "5f9c380c",
   "metadata": {},
   "outputs": [],
   "source": [
    "m12_sorted = []\n",
    "m13_sorted = []\n",
    "m23_sorted = []\n",
    "\n",
    "print(len(m12))\n",
    "\n",
    "tot = 0\n",
    "\n",
    "mask = (idx[0]==2) & (idx[1]==1)\n",
    "tot += len(m12[mask])\n",
    "m12_sorted += m12[mask].tolist()\n",
    "\n",
    "mask = (idx[1]==2) & (idx[0]==1)\n",
    "tot += len(m12[mask])\n",
    "m12_sorted += m12[mask].tolist()\n",
    "\n",
    "\n",
    "mask = (idx[0]==2) & (idx[2]==1)\n",
    "tot += len(m13[mask])\n",
    "m12_sorted += m13[mask].tolist()\n",
    "\n",
    "mask = (idx[2]==2) & (idx[0]==1)\n",
    "tot += len(m13[mask])\n",
    "m12_sorted += m13[mask].tolist()\n",
    "\n",
    "mask = (idx[1]==2) & (idx[2]==1)\n",
    "tot += len(m23[mask])\n",
    "m12_sorted += m23[mask].tolist()\n",
    "\n",
    "mask = (idx[2]==2) & (idx[1]==1)\n",
    "tot += len(m23[mask])\n",
    "m12_sorted += m23[mask].tolist()\n",
    "\n",
    "\n",
    "print(tot)\n",
    "\n",
    "\n",
    "print(len(m13))\n",
    "\n",
    "tot = 0\n",
    "\n",
    "mask = idx[2]==0\n",
    "tot += len(m12[mask])\n",
    "m12_sorted += m12[mask].tolist()\n",
    "\n",
    "mask = idx[1]==0\n",
    "tot += len(m13[mask])\n",
    "m12_sorted += m13[mask].tolist()\n",
    "\n",
    "mask = idx[0]==0\n",
    "tot += len(m23[mask])\n",
    "m12_sorted += m23[mask].tolist()\n",
    "\n",
    "\n",
    "\n",
    "print(tot)"
   ]
  },
  {
   "cell_type": "code",
   "execution_count": null,
   "id": "22861a2c",
   "metadata": {},
   "outputs": [],
   "source": [
    "plt.hist(m12_sorted,bins=100,range=(0,250));"
   ]
  },
  {
   "cell_type": "code",
   "execution_count": null,
   "id": "f63eb816",
   "metadata": {},
   "outputs": [],
   "source": [
    "jet1.pt"
   ]
  },
  {
   "cell_type": "code",
   "execution_count": null,
   "id": "9dca39db",
   "metadata": {},
   "outputs": [],
   "source": [
    "jet1.rho"
   ]
  },
  {
   "cell_type": "code",
   "execution_count": null,
   "id": "0955ff75",
   "metadata": {},
   "outputs": [],
   "source": [
    "print(jet1.pt[0], jet1.eta[0], jet1.phi[0], jet1.mag[0], jet1.energy[0])\n",
    "\n",
    "# mag is magnitude of 3-momentum"
   ]
  },
  {
   "cell_type": "code",
   "execution_count": null,
   "id": "90d92cab",
   "metadata": {},
   "outputs": [],
   "source": [
    "print(jet1.pt[1], jet1.eta[1], jet1.phi[1], jet1.mag[1], jet1.energy[1])"
   ]
  },
  {
   "cell_type": "code",
   "execution_count": null,
   "id": "65f3cc7a",
   "metadata": {},
   "outputs": [],
   "source": [
    "#for N in range(1000,1100):\n",
    "#    print(jet1.pt[N], jet1.eta[N], jet1.phi[N], jet1.mag[N], jet1.energy[N], jet1.tau[N])"
   ]
  },
  {
   "cell_type": "code",
   "execution_count": null,
   "id": "05314850",
   "metadata": {},
   "outputs": [],
   "source": []
  }
 ],
 "metadata": {
  "kernelspec": {
   "display_name": "Python 3",
   "language": "python",
   "name": "python3"
  },
  "language_info": {
   "codemirror_mode": {
    "name": "ipython",
    "version": 3
   },
   "file_extension": ".py",
   "mimetype": "text/x-python",
   "name": "python",
   "nbconvert_exporter": "python",
   "pygments_lexer": "ipython3",
   "version": "3.7.9"
  }
 },
 "nbformat": 4,
 "nbformat_minor": 5
}
